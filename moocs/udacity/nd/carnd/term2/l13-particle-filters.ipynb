{
 "cells": [
  {
   "cell_type": "markdown",
   "metadata": {},
   "source": [
    "# Particle Filters\n",
    "\n",
    "* Easist to program and the most flexible among our three types of filters\n",
    "\n",
    "![](images/13.1.png)\n",
    "\n",
    "* Histogram: \n",
    "    * Discrete since dist defined over a finite set of bins.\n",
    "        * Exponential (think of a grid in k dims)\n",
    "* Kalman: Single Gaussian -> unimodal\n",
    "    * Quadratic since only represented by mean and covariance matrix\n",
    "    * Approximate since KFs are only exact for linear systems\n",
    "\n",
    "* Particle filters:\n",
    "    * Scale exponentially in some applications (don't use for more than 4 dim)\n",
    "    * Scale well in some trackiing applications\n",
    "\n",
    "\n",
    "![](images/13.2.png)\n",
    "![](images/13.3a.png)\n",
    "![](images/13.3b.png)\n",
    "![](images/13.3c.png)\n",
    "\n",
    "* Blue stripes: Sonar sensors (sound)\n",
    "* Each red dot is a discrete guess as to where we might be (x, y coord, heading)\n",
    "\n",
    "* Particles that are more consistent with the measurement are more likely to survive\n",
    "\n",
    "* Two clouds until you enter one of the offices because because the corridor is symmetric\n",
    "\n",
    "### Code\n",
    "#### Robot Class code\n",
    "\n",
    "![](images/13.4.png)"
   ]
  },
  {
   "cell_type": "markdown",
   "metadata": {},
   "source": [
    "### Robot class"
   ]
  },
  {
   "cell_type": "code",
   "execution_count": 6,
   "metadata": {
    "collapsed": true
   },
   "outputs": [],
   "source": [
    "from math import *\n",
    "import random"
   ]
  },
  {
   "cell_type": "code",
   "execution_count": 7,
   "metadata": {
    "collapsed": true
   },
   "outputs": [],
   "source": [
    "landmarks  = [[20.0, 20.0], [80.0, 80.0], [20.0, 80.0], [80.0, 20.0]]\n",
    "world_size = 100.0"
   ]
  },
  {
   "cell_type": "code",
   "execution_count": 8,
   "metadata": {},
   "outputs": [],
   "source": [
    "class robot:\n",
    "    def __init__(self):\n",
    "        self.x = random.random() * world_size\n",
    "        self.y = random.random() * world_size\n",
    "        self.orientation = random.random() * 2.0 * pi\n",
    "        self.forward_noise = 0.0;\n",
    "        self.turn_noise    = 0.0;\n",
    "        self.sense_noise   = 0.0;\n",
    "    \n",
    "    def set(self, new_x, new_y, new_orientation):\n",
    "        if new_x < 0 or new_x >= world_size:\n",
    "            raise ValueError('X coordinate out of bound')\n",
    "        if new_y < 0 or new_y >= world_size:\n",
    "            raise ValueError('Y coordinate out of bound')\n",
    "        if new_orientation < 0 or new_orientation >= 2 * pi:\n",
    "            raise ValueError('Orientation must be in [0..2pi]')\n",
    "        self.x = float(new_x)\n",
    "        self.y = float(new_y)\n",
    "        self.orientation = float(new_orientation)\n",
    "    \n",
    "    \n",
    "    def set_noise(self, new_f_noise, new_t_noise, new_s_noise):\n",
    "        # makes it possible to change the noise parameters\n",
    "        # this is often useful in particle filters\n",
    "        self.forward_noise = float(new_f_noise);\n",
    "        self.turn_noise    = float(new_t_noise);\n",
    "        self.sense_noise   = float(new_s_noise);\n",
    "    \n",
    "    \n",
    "    def sense(self):\n",
    "        Z = []\n",
    "        for i in range(len(landmarks)):\n",
    "            dist = sqrt((self.x - landmarks[i][0]) ** 2 + (self.y - landmarks[i][1]) ** 2)\n",
    "            dist += random.gauss(0.0, self.sense_noise)\n",
    "            Z.append(dist)\n",
    "        return Z\n",
    "    \n",
    "    \n",
    "    def move(self, turn, forward):\n",
    "        if forward < 0:\n",
    "            raise ValueError('Robot cant move backwards')\n",
    "        \n",
    "        # turn, and add randomness to the turning command\n",
    "        orientation = self.orientation + float(turn) + random.gauss(0.0, self.turn_noise)\n",
    "        orientation %= 2 * pi\n",
    "        \n",
    "        # move, and add randomness to the motion command\n",
    "        dist = float(forward) + random.gauss(0.0, self.forward_noise)\n",
    "        x = self.x + (cos(orientation) * dist)\n",
    "        y = self.y + (sin(orientation) * dist)\n",
    "        x %= world_size    # cyclic truncate\n",
    "        y %= world_size\n",
    "        \n",
    "        # set particle\n",
    "        res = robot()\n",
    "        res.set(x, y, orientation)\n",
    "        res.set_noise(self.forward_noise, self.turn_noise, self.sense_noise)\n",
    "        return res\n",
    "    \n",
    "    def Gaussian(self, mu, sigma, x):\n",
    "        \n",
    "        # calculates the probability of x for 1-dim Gaussian with mean mu and var. sigma\n",
    "        return exp(- ((mu - x) ** 2) / (sigma ** 2) / 2.0) / sqrt(2.0 * pi * (sigma ** 2))\n",
    "    \n",
    "    \n",
    "    def measurement_prob(self, measurement):\n",
    "        \n",
    "        # calculates how likely a measurement should be\n",
    "        \n",
    "        prob = 1.0;\n",
    "        for i in range(len(landmarks)):\n",
    "            dist = sqrt((self.x - landmarks[i][0]) ** 2 + (self.y - landmarks[i][1]) ** 2)\n",
    "            prob *= self.Gaussian(dist, self.sense_noise, measurement[i])\n",
    "        return prob\n",
    "    \n",
    "    \n",
    "    \n",
    "    def __repr__(self):\n",
    "        return '[x=%.6s y=%.6s orient=%.6s]' % (str(self.x), str(self.y), str(self.orientation))\n",
    "\n",
    "\n",
    "\n",
    "def eval(r, p):\n",
    "    sum = 0.0;\n",
    "    for i in range(len(p)): # calculate mean error\n",
    "        dx = (p[i].x - r.x + (world_size/2.0)) % world_size - (world_size/2.0)\n",
    "        dy = (p[i].y - r.y + (world_size/2.0)) % world_size - (world_size/2.0)\n",
    "        err = sqrt(dx * dx + dy * dy)\n",
    "        sum += err\n",
    "    return sum / float(len(p))"
   ]
  },
  {
   "cell_type": "markdown",
   "metadata": {},
   "source": [
    "#### Quiz\n",
    "Once again, your robot starts at 30, 50, heading north (pi/2), then turns clockwise by pi/2, moves 15 meters, senses, then turns clockwise by pi/2 again, moves 10 m, then senses again."
   ]
  },
  {
   "cell_type": "code",
   "execution_count": 10,
   "metadata": {},
   "outputs": [
    {
     "name": "stdout",
     "output_type": "stream",
     "text": [
      "[39.05124837953327, 46.09772228646444, 39.05124837953327, 46.09772228646444]\n",
      "[32.01562118716424, 53.150729063673246, 47.16990566028302, 40.311288741492746]\n"
     ]
    }
   ],
   "source": [
    "\n",
    "\n",
    "#\n",
    "# Once again, your robot starts at 30, 50,\n",
    "# heading north (pi/2), then turns clockwise\n",
    "# by pi/2, moves 15 meters, senses,\n",
    "# then turns clockwise by pi/2 again, moves\n",
    "# 10 m, then senses again.\n",
    "#\n",
    "# Your program should print out the result of\n",
    "# your two sense measurements.\n",
    "#\n",
    "# Don't modify the code below. Please enter\n",
    "# your code at the bottom.\n",
    "\n",
    "####   DON'T MODIFY ANYTHING ABOVE HERE! ENTER CODE BELOW ####\n",
    "\n",
    "myrobot = robot()\n",
    "# enter code here\n",
    "myrobot.set(30.0, 50.0, pi/2)\n",
    "myrobot = myrobot.move(-pi/2, 15.0)\n",
    "print(myrobot.sense())\n",
    "myrobot = myrobot.move(-pi/2, 10.0)\n",
    "print(myrobot.sense())\n"
   ]
  },
  {
   "cell_type": "markdown",
   "metadata": {},
   "source": [
    "#### Quiz - Add noise"
   ]
  },
  {
   "cell_type": "code",
   "execution_count": 12,
   "metadata": {},
   "outputs": [
    {
     "name": "stdout",
     "output_type": "stream",
     "text": [
      "[29.140474452882145, 45.67318479057699, 32.04842999656922, 53.787046787267585]\n",
      "[36.3212021822161, 60.067146971149455, 50.431726352492475, 35.44666239083387]\n"
     ]
    }
   ],
   "source": [
    "# Now add noise to your robot as follows:\n",
    "# forward_noise = 5.0, turn_noise = 0.1,\n",
    "# sense_noise = 5.0.\n",
    "\n",
    "myrobot = robot()\n",
    "# enter code here\n",
    "myrobot.set_noise(5.0,0.1,5.0)\n",
    "myrobot.set(30.0, 50.0, pi/2)\n",
    "myrobot = myrobot.move(-pi/2, 15.0)\n",
    "print(myrobot.sense())\n",
    "myrobot = myrobot.move(-pi/2, 10.0)\n",
    "print(myrobot.sense())"
   ]
  },
  {
   "cell_type": "markdown",
   "metadata": {},
   "source": [
    "### Robot World\n",
    "Now we know about our class robotwho can turn and then move straight after the turn,and which it also can sense the distance to 4 designated landmarks,L1, L2, L3, and L4, and these distancescomprise the measurement vector of the robot.We told you the robot lives in a world of size 100 x 100,and what this means if this robot falls off 1 end,it disappears on the other.So, it's a cyclic world.So, let's now talk particle filters.\n",
    "\n",
    "#### Quiz - Creating Particles\n",
    "The particle filter that you're going to program maintains a set of 1000 random guesses as to where the reward might be. Now, I'm not going to draw 1000 dots here,but let me explain how each of these dots looks like.\n",
    "Suppose particle is at [38.2, 12.4, 0.18]\n",
    "Each of these dots is a vector which contains an X coordinate,in this case 38.2, a Y coordinate 12.4,and a heading direction of 0.18,which is the angle at which there are points relative to the X axis. So, this one moves forward, it will move slightly upwards.\n",
    "\n",
    "In fact, now a code--every time you call the function robotand assign it say to a particle,here the [i] particle,these elements p[i]x, y, and orientation,which is the same as heading,are initialized at random. So, to make a particle set of 1000 particleswhat you have to program is a simple piece of code that assigns 1000 of those to a list.So, let's do this; let me set N=1000 for 1000 particles.Here's my initial set of particles; it's going to be an empty list,and I want you to fill in some codeafter which we have 1000 particles assigned to this vector over here.So, when I print the length of this thingI will get 1000 instead of 0."
   ]
  },
  {
   "cell_type": "code",
   "execution_count": 13,
   "metadata": {},
   "outputs": [
    {
     "name": "stdout",
     "output_type": "stream",
     "text": [
      "1000\n"
     ]
    }
   ],
   "source": [
    "# Now we want to create particles,\n",
    "# p[i] = robot(). In this assignment, write\n",
    "# code that will assign 1000 such particles\n",
    "# to a list.\n",
    "#\n",
    "# Your program should print out the length\n",
    "# of your list (don't cheat by making an\n",
    "# arbitrary list of 1000 elements!)\n",
    "#\n",
    "# Don't modify the code below. Please enter\n",
    "# your code at the bottom.\n",
    "\n",
    "####   DON'T MODIFY ANYTHING ABOVE HERE! ENTER CODE BELOW ####\n",
    "\n",
    "N = 1000\n",
    "p = []\n",
    "\n",
    "#enter code here\n",
    "for i in range(N):\n",
    "    x = robot()\n",
    "    p.append(x)\n",
    "\n",
    "print (len(p))"
   ]
  },
  {
   "cell_type": "markdown",
   "metadata": {},
   "source": [
    "#### Quiz - Moving robot particles\n",
    "I now want you to take each of these particlesand simulate robot motion.Depending on the heading direction,this might yield a different direction.So, each of these particles shall first turn by 0.1 and then move by 5 meters.We already implemented something just like this for individual robot motion.Now I'd like you to apply this to the entire particle set.So, please go back to the code and make a new set Pthat is the result of this specific motion turning by 0.1and moving forward by 5.0to all of those particles in P."
   ]
  },
  {
   "cell_type": "code",
   "execution_count": 15,
   "metadata": {},
   "outputs": [
    {
     "name": "stdout",
     "output_type": "stream",
     "text": [
      "[[x=24.529 y=93.113 orient=4.0192], [x=40.392 y=68.722 orient=5.2384], [x=50.269 y=40.247 orient=6.1819], [x=58.781 y=63.544 orient=4.1885], [x=8.4685 y=48.226 orient=3.2641], [x=36.518 y=79.215 orient=2.7342], [x=60.883 y=65.555 orient=0.0264], [x=50.743 y=25.668 orient=0.9092], [x=70.806 y=60.322 orient=5.7486], [x=90.071 y=14.260 orient=1.5406], [x=49.557 y=27.466 orient=1.1992], [x=63.730 y=79.247 orient=3.5118], [x=74.218 y=21.314 orient=1.8266], [x=52.877 y=44.651 orient=5.8445], [x=18.925 y=96.651 orient=5.1196], [x=39.736 y=0.8592 orient=2.1066], [x=96.702 y=62.110 orient=3.7470], [x=67.705 y=40.808 orient=0.5588], [x=19.718 y=38.191 orient=2.2172], [x=49.032 y=44.183 orient=4.8440], [x=18.827 y=1.1396 orient=0.7202], [x=98.262 y=6.4692 orient=3.6464], [x=33.405 y=22.100 orient=1.6569], [x=75.610 y=70.667 orient=1.4956], [x=77.224 y=85.090 orient=3.8624], [x=22.665 y=19.818 orient=0.2513], [x=63.511 y=87.232 orient=5.2877], [x=77.648 y=0.2053 orient=4.1557], [x=4.8315 y=14.338 orient=4.8230], [x=76.562 y=36.662 orient=4.6568], [x=40.042 y=60.215 orient=0.9600], [x=18.707 y=1.1826 orient=2.6872], [x=18.516 y=34.425 orient=4.4757], [x=81.032 y=14.679 orient=0.3914], [x=43.762 y=3.7135 orient=5.0128], [x=92.911 y=22.553 orient=5.8445], [x=50.515 y=82.751 orient=3.8611], [x=8.4653 y=94.339 orient=1.6792], [x=8.2307 y=24.860 orient=1.4533], [x=32.646 y=34.337 orient=5.1402], [x=40.308 y=47.005 orient=4.0375], [x=78.306 y=73.517 orient=0.4837], [x=89.223 y=36.220 orient=3.8061], [x=15.259 y=91.140 orient=5.3947], [x=24.861 y=64.963 orient=1.2162], [x=98.745 y=17.606 orient=5.7391], [x=51.399 y=28.765 orient=5.6611], [x=68.640 y=29.802 orient=2.7550], [x=6.9237 y=84.410 orient=5.1511], [x=29.998 y=88.756 orient=0.9522], [x=0.7725 y=74.640 orient=4.3584], [x=69.870 y=37.730 orient=1.4010], [x=50.471 y=36.194 orient=1.9363], [x=69.518 y=58.586 orient=2.5980], [x=76.425 y=75.007 orient=1.4241], [x=11.898 y=77.951 orient=2.2915], [x=11.641 y=53.376 orient=6.0279], [x=17.564 y=16.514 orient=4.0019], [x=73.990 y=3.9948 orient=5.3964], [x=73.345 y=0.6905 orient=2.0487], [x=79.606 y=78.005 orient=2.8873], [x=66.816 y=80.212 orient=1.6872], [x=91.906 y=91.575 orient=4.3594], [x=5.9319 y=0.5688 orient=3.3872], [x=14.756 y=20.841 orient=4.9927], [x=57.642 y=54.434 orient=4.5735], [x=23.249 y=49.366 orient=2.2027], [x=49.732 y=10.774 orient=3.2227], [x=77.329 y=14.991 orient=3.5555], [x=61.747 y=26.367 orient=2.4435], [x=65.245 y=68.959 orient=0.6833], [x=18.758 y=52.699 orient=0.3960], [x=69.127 y=2.7920 orient=1.6352], [x=23.486 y=55.763 orient=0.8973], [x=13.702 y=30.067 orient=3.0586], [x=88.298 y=86.247 orient=0.9694], [x=24.012 y=43.808 orient=0.7219], [x=45.980 y=77.430 orient=2.9426], [x=94.650 y=13.172 orient=3.2344], [x=14.326 y=44.254 orient=2.2879], [x=92.402 y=61.916 orient=1.0602], [x=50.660 y=94.420 orient=0.5174], [x=2.6658 y=88.830 orient=1.0683], [x=77.853 y=22.163 orient=2.9687], [x=23.760 y=39.471 orient=3.1070], [x=44.241 y=15.917 orient=3.2028], [x=53.285 y=24.369 orient=2.9783], [x=87.835 y=60.521 orient=4.1669], [x=27.168 y=68.377 orient=0.4409], [x=76.777 y=6.6555 orient=5.5720], [x=63.769 y=77.022 orient=3.7686], [x=11.277 y=60.560 orient=0.2813], [x=36.234 y=62.033 orient=4.9463], [x=19.589 y=19.365 orient=4.0369], [x=3.5088 y=98.017 orient=4.5277], [x=3.7055 y=85.793 orient=3.0677], [x=41.020 y=26.606 orient=5.5847], [x=22.385 y=64.127 orient=2.7613], [x=58.812 y=60.562 orient=3.4055], [x=0.4119 y=12.892 orient=3.1703], [x=54.368 y=36.235 orient=4.9601], [x=36.924 y=28.488 orient=4.0083], [x=93.147 y=68.008 orient=1.1999], [x=94.724 y=60.600 orient=2.1475], [x=25.067 y=28.565 orient=2.5475], [x=17.537 y=71.574 orient=3.2684], [x=45.690 y=56.994 orient=1.4940], [x=60.541 y=43.015 orient=3.6696], [x=70.986 y=71.327 orient=4.0476], [x=26.450 y=19.149 orient=1.5051], [x=46.360 y=75.645 orient=3.0927], [x=61.654 y=23.429 orient=4.5049], [x=36.411 y=52.088 orient=1.9695], [x=4.1461 y=43.327 orient=2.2245], [x=90.852 y=17.167 orient=1.6323], [x=11.209 y=26.073 orient=4.0484], [x=47.445 y=9.5290 orient=5.9725], [x=64.830 y=25.770 orient=3.3037], [x=72.410 y=68.845 orient=2.8086], [x=92.133 y=66.554 orient=0.7801], [x=45.823 y=91.375 orient=1.3583], [x=83.664 y=53.983 orient=2.7832], [x=23.111 y=30.658 orient=5.1745], [x=67.813 y=50.736 orient=5.4862], [x=25.959 y=72.675 orient=0.4270], [x=51.725 y=58.843 orient=2.3049], [x=20.110 y=44.823 orient=3.0249], [x=24.960 y=12.173 orient=4.9198], [x=1.9363 y=27.776 orient=0.0676], [x=47.241 y=41.059 orient=6.0117], [x=17.481 y=90.698 orient=0.8594], [x=53.920 y=9.9274 orient=1.4686], [x=74.988 y=95.503 orient=0.9606], [x=21.802 y=6.1683 orient=5.4166], [x=10.948 y=55.838 orient=5.2402], [x=81.984 y=64.624 orient=1.6576], [x=52.818 y=72.224 orient=3.6882], [x=83.729 y=75.469 orient=5.9416], [x=92.464 y=90.243 orient=6.0674], [x=74.385 y=83.938 orient=0.5609], [x=52.630 y=50.166 orient=3.2175], [x=38.324 y=1.9302 orient=4.6245], [x=77.208 y=67.674 orient=1.2056], [x=66.546 y=54.495 orient=4.9310], [x=95.462 y=10.936 orient=5.4483], [x=19.246 y=88.664 orient=0.8174], [x=98.414 y=46.186 orient=0.0663], [x=51.470 y=28.795 orient=4.0431], [x=50.761 y=68.478 orient=4.7159], [x=87.840 y=95.554 orient=4.9944], [x=42.492 y=81.259 orient=5.2041], [x=4.6232 y=31.178 orient=3.4597], [x=87.386 y=58.462 orient=6.0074], [x=25.347 y=86.421 orient=4.1287], [x=24.565 y=0.1956 orient=1.8898], [x=59.682 y=44.214 orient=4.0061], [x=59.559 y=18.420 orient=5.2270], [x=25.417 y=34.333 orient=0.8364], [x=69.442 y=18.302 orient=6.1700], [x=63.948 y=49.668 orient=4.3879], [x=1.7595 y=47.427 orient=2.7914], [x=34.060 y=80.047 orient=2.1574], [x=96.538 y=95.631 orient=3.3547], [x=7.2647 y=0.6740 orient=1.2345], [x=52.368 y=21.108 orient=4.2471], [x=73.526 y=28.907 orient=0.6119], [x=40.300 y=21.605 orient=1.5405], [x=46.414 y=32.046 orient=2.0370], [x=58.573 y=80.024 orient=5.3950], [x=14.177 y=70.559 orient=5.0337], [x=7.7492 y=34.152 orient=5.7489], [x=90.982 y=59.545 orient=3.2905], [x=73.219 y=62.970 orient=0.6759], [x=43.057 y=64.418 orient=1.1998], [x=67.840 y=65.524 orient=4.2390], [x=22.993 y=67.378 orient=0.8250], [x=7.7001 y=34.443 orient=2.9490], [x=7.4422 y=25.086 orient=5.5389], [x=33.499 y=9.3170 orient=1.3572], [x=40.158 y=78.046 orient=3.3820], [x=39.256 y=16.544 orient=5.8400], [x=50.551 y=81.060 orient=4.5164], [x=50.700 y=82.750 orient=1.0268], [x=68.435 y=3.6469 orient=2.9907], [x=1.8125 y=0.4768 orient=3.1924], [x=37.529 y=79.169 orient=5.2477], [x=5.9597 y=41.962 orient=3.5799], [x=7.7034 y=51.131 orient=3.4024], [x=40.630 y=77.543 orient=1.6158], [x=68.511 y=41.907 orient=3.1428], [x=49.727 y=91.091 orient=2.4598], [x=34.202 y=7.8513 orient=3.8195], [x=36.880 y=72.175 orient=2.6737], [x=58.369 y=13.082 orient=2.1253], [x=57.827 y=15.344 orient=5.7400], [x=7.2551 y=69.906 orient=4.7367], [x=55.673 y=49.605 orient=6.0003], [x=2.9133 y=71.417 orient=0.7045], [x=17.271 y=9.2252 orient=5.8524], [x=38.879 y=5.7615 orient=1.4481], [x=12.450 y=77.367 orient=1.2871], [x=97.373 y=79.744 orient=3.4843], [x=51.289 y=60.545 orient=1.3048], [x=58.279 y=44.033 orient=3.8436], [x=12.093 y=37.333 orient=0.9959], [x=58.976 y=31.188 orient=2.1475], [x=54.409 y=98.417 orient=5.0556], [x=82.118 y=2.6551 orient=0.1920], [x=37.090 y=27.676 orient=5.7338], [x=10.037 y=76.037 orient=1.7666], [x=66.279 y=69.028 orient=4.3322], [x=38.286 y=98.749 orient=5.3572], [x=71.729 y=10.675 orient=5.1356], [x=5.8212 y=88.004 orient=5.8530], [x=62.841 y=44.127 orient=5.9627], [x=94.730 y=8.2627 orient=5.8039], [x=99.250 y=84.762 orient=1.7123], [x=73.760 y=69.727 orient=2.3702], [x=93.749 y=40.718 orient=5.4745], [x=50.285 y=58.681 orient=1.2505], [x=96.367 y=7.2343 orient=5.1208], [x=38.148 y=99.227 orient=4.6121], [x=82.683 y=6.5878 orient=6.1452], [x=69.441 y=46.616 orient=2.9507], [x=45.698 y=42.370 orient=0.8477], [x=26.956 y=27.788 orient=0.0591], [x=40.028 y=80.612 orient=1.7930], [x=5.8312 y=10.692 orient=2.8347], [x=44.298 y=63.443 orient=2.9415], [x=68.956 y=31.463 orient=4.0145], [x=56.589 y=31.197 orient=5.9455], [x=12.151 y=18.536 orient=4.9849], [x=86.390 y=15.928 orient=0.7259], [x=9.5917 y=31.215 orient=5.7008], [x=16.501 y=27.279 orient=2.7903], [x=31.766 y=84.117 orient=6.1568], [x=12.765 y=94.806 orient=1.6714], [x=18.423 y=75.223 orient=3.0901], [x=45.192 y=70.043 orient=1.9735], [x=67.777 y=89.250 orient=4.7988], [x=68.013 y=70.513 orient=2.4005], [x=90.668 y=80.581 orient=4.4146], [x=24.362 y=49.516 orient=0.7718], [x=14.296 y=19.498 orient=1.2318], [x=87.896 y=76.029 orient=4.7341], [x=59.526 y=88.672 orient=0.7622], [x=64.578 y=74.525 orient=1.3551], [x=35.512 y=20.799 orient=5.0263], [x=30.116 y=47.392 orient=5.5021], [x=15.925 y=95.860 orient=1.9382], [x=31.783 y=45.566 orient=3.5452], [x=82.791 y=26.591 orient=0.0196], [x=42.904 y=66.240 orient=2.7060], [x=39.859 y=14.433 orient=5.9864], [x=65.603 y=78.120 orient=5.4371], [x=48.583 y=54.824 orient=4.0089], [x=57.041 y=40.946 orient=0.3215], [x=49.697 y=7.1791 orient=1.1276], [x=98.815 y=87.970 orient=3.9360], [x=9.5756 y=85.361 orient=5.3276], [x=67.445 y=53.529 orient=3.8119], [x=86.153 y=80.593 orient=4.5405], [x=13.805 y=59.743 orient=3.5322], [x=18.696 y=86.837 orient=5.3293], [x=1.4709 y=80.941 orient=3.3563], [x=43.755 y=87.737 orient=1.9468], [x=87.494 y=29.941 orient=3.3008], [x=68.508 y=78.267 orient=1.0566], [x=79.107 y=23.612 orient=3.5160], [x=99.824 y=30.375 orient=5.6803], [x=24.620 y=85.989 orient=5.2976], [x=97.238 y=49.664 orient=0.0781], [x=72.040 y=0.2236 orient=1.7085], [x=19.669 y=56.833 orient=4.0742], [x=16.929 y=18.962 orient=5.6379], [x=57.277 y=89.496 orient=0.5312], [x=4.9971 y=6.8603 orient=6.1303], [x=11.047 y=19.168 orient=1.1075], [x=44.328 y=29.241 orient=0.3961], [x=98.884 y=75.541 orient=1.1632], [x=70.904 y=99.852 orient=3.2376], [x=31.704 y=52.800 orient=1.1996], [x=26.580 y=84.619 orient=0.5919], [x=31.046 y=8.2715 orient=1.1359], [x=27.415 y=40.445 orient=1.1807], [x=61.462 y=65.652 orient=6.2614], [x=10.377 y=70.577 orient=4.3825], [x=26.289 y=10.717 orient=3.5888], [x=61.255 y=58.854 orient=0.7401], [x=21.525 y=68.141 orient=4.1424], [x=46.494 y=86.268 orient=3.5869], [x=11.239 y=48.536 orient=4.7304], [x=51.099 y=57.273 orient=0.0670], [x=55.196 y=14.237 orient=2.5607], [x=42.201 y=30.652 orient=1.0845], [x=74.567 y=96.047 orient=1.9058], [x=20.831 y=48.325 orient=4.7135], [x=2.2707 y=7.5792 orient=2.2248], [x=89.196 y=73.460 orient=5.0915], [x=7.7542 y=14.759 orient=0.2791], [x=63.384 y=28.564 orient=6.2014], [x=72.575 y=81.285 orient=0.0824], [x=77.425 y=40.770 orient=6.1185], [x=56.608 y=63.151 orient=3.7020], [x=27.250 y=93.536 orient=3.7589], [x=2.4837 y=54.921 orient=0.4689], [x=78.211 y=68.373 orient=0.2409], [x=36.817 y=18.857 orient=0.1977], [x=66.372 y=53.896 orient=3.7559], [x=31.933 y=62.433 orient=3.2721], [x=75.456 y=35.620 orient=0.4479], [x=40.459 y=93.143 orient=3.8501], [x=3.4229 y=64.710 orient=5.3068], [x=8.6549 y=70.737 orient=3.7069], [x=96.699 y=48.607 orient=2.1168], [x=95.130 y=36.847 orient=0.3757], [x=13.134 y=87.822 orient=3.3648], [x=69.485 y=38.874 orient=5.7753], [x=43.707 y=57.811 orient=6.1000], [x=15.832 y=54.226 orient=3.5529], [x=35.057 y=46.648 orient=1.5412], [x=35.665 y=8.5371 orient=2.5738], [x=24.010 y=92.301 orient=6.0679], [x=90.082 y=49.158 orient=3.9512], [x=36.796 y=32.992 orient=1.2889], [x=29.274 y=49.507 orient=5.2074], [x=42.933 y=9.0848 orient=2.5759], [x=94.989 y=19.505 orient=6.2250], [x=1.0052 y=76.869 orient=2.5384], [x=30.777 y=36.427 orient=3.4839], [x=25.869 y=74.778 orient=0.5151], [x=32.539 y=76.656 orient=5.7945], [x=39.588 y=7.8817 orient=1.6143], [x=13.451 y=29.486 orient=4.6829], [x=57.874 y=8.6593 orient=5.2133], [x=11.084 y=46.104 orient=5.0747], [x=42.148 y=19.633 orient=1.8466], [x=91.855 y=49.404 orient=5.6493], [x=60.459 y=21.250 orient=0.9082], [x=93.830 y=91.683 orient=4.2747], [x=53.112 y=74.524 orient=2.8860], [x=90.844 y=55.836 orient=1.0857], [x=49.276 y=39.687 orient=5.8568], [x=97.132 y=37.261 orient=1.4945], [x=73.892 y=33.735 orient=0.3690], [x=46.275 y=56.956 orient=5.9317], [x=95.576 y=85.439 orient=2.6319], [x=70.438 y=83.559 orient=1.0775], [x=2.4807 y=71.217 orient=2.7709], [x=31.287 y=90.862 orient=5.2411], [x=28.874 y=38.140 orient=1.9052], [x=25.039 y=1.1275 orient=4.7000], [x=54.506 y=78.725 orient=0.6496], [x=91.137 y=1.0864 orient=1.6726], [x=35.159 y=16.974 orient=3.1625], [x=83.416 y=49.410 orient=3.2464], [x=90.129 y=58.897 orient=3.2027], [x=83.143 y=9.0390 orient=3.0321], [x=71.480 y=79.619 orient=1.6489], [x=33.757 y=69.623 orient=3.5271], [x=89.911 y=90.296 orient=0.9987], [x=62.894 y=46.753 orient=1.4637], [x=41.927 y=59.735 orient=6.2366], [x=50.252 y=87.283 orient=1.5539], [x=28.522 y=47.627 orient=3.6870], [x=15.143 y=35.736 orient=4.6733], [x=94.175 y=87.872 orient=3.0511], [x=29.084 y=30.453 orient=6.2041], [x=48.227 y=9.6167 orient=5.1347], [x=49.023 y=79.784 orient=2.3369], [x=29.742 y=14.174 orient=3.4184], [x=53.358 y=11.563 orient=6.0551], [x=58.919 y=28.674 orient=1.1558], [x=48.228 y=9.0719 orient=0.8357], [x=53.504 y=66.430 orient=2.7556], [x=89.414 y=82.989 orient=2.9003], [x=0.6405 y=16.230 orient=3.1693], [x=33.552 y=84.786 orient=4.9180], [x=21.299 y=23.912 orient=4.8737], [x=95.483 y=89.673 orient=5.0633], [x=54.741 y=74.188 orient=5.6700], [x=47.962 y=87.000 orient=2.0360], [x=26.681 y=73.992 orient=3.4905], [x=82.056 y=52.741 orient=5.6873], [x=94.482 y=63.739 orient=2.5528], [x=89.409 y=67.625 orient=3.6638], [x=85.734 y=73.102 orient=0.7116], [x=39.406 y=28.605 orient=1.1944], [x=66.605 y=94.559 orient=3.6829], [x=83.436 y=65.112 orient=6.2387], [x=7.3014 y=94.241 orient=5.8080], [x=19.941 y=97.311 orient=5.7162], [x=46.528 y=30.361 orient=0.8270], [x=62.010 y=90.316 orient=0.5141], [x=62.284 y=84.585 orient=0.2703], [x=37.155 y=14.079 orient=5.6653], [x=93.900 y=52.569 orient=5.7030], [x=57.241 y=9.2966 orient=3.4097], [x=9.9413 y=41.728 orient=1.1581], [x=52.199 y=66.851 orient=0.8727], [x=47.254 y=49.619 orient=5.9779], [x=83.926 y=21.005 orient=2.8833], [x=28.053 y=54.411 orient=3.6861], [x=69.365 y=2.8191 orient=5.9912], [x=37.474 y=32.166 orient=5.3723], [x=29.273 y=57.639 orient=3.8497], [x=94.328 y=71.459 orient=2.1036], [x=41.221 y=15.458 orient=0.8927], [x=71.922 y=33.488 orient=3.1140], [x=75.837 y=30.130 orient=2.2850], [x=78.706 y=48.743 orient=5.4133], [x=75.524 y=69.233 orient=2.8470], [x=90.339 y=90.322 orient=1.3527], [x=4.0956 y=67.908 orient=5.9762], [x=18.272 y=18.101 orient=6.1220], [x=26.907 y=63.963 orient=0.2055], [x=43.417 y=63.579 orient=2.9638], [x=8.4672 y=75.263 orient=2.2598], [x=81.551 y=3.5104 orient=5.0068], [x=53.032 y=40.773 orient=1.5084], [x=19.123 y=40.271 orient=4.7888], [x=24.667 y=68.788 orient=5.2920], [x=48.397 y=1.6850 orient=2.3095], [x=51.478 y=83.804 orient=1.4653], [x=50.516 y=25.884 orient=1.0486], [x=57.358 y=92.239 orient=2.7180], [x=26.203 y=58.334 orient=2.0336], [x=44.006 y=38.907 orient=2.1353], [x=71.225 y=39.476 orient=0.5275], [x=55.001 y=33.525 orient=1.0953], [x=12.847 y=61.599 orient=5.6533], [x=96.865 y=28.143 orient=2.8823], [x=92.784 y=79.419 orient=1.8537], [x=41.925 y=81.060 orient=3.0979], [x=90.059 y=68.046 orient=0.4033], [x=55.340 y=57.601 orient=6.1369], [x=75.181 y=53.569 orient=4.1514], [x=55.137 y=35.584 orient=2.6957], [x=55.381 y=93.655 orient=5.3061], [x=28.973 y=41.289 orient=0.0144], [x=56.500 y=68.470 orient=3.6339], [x=22.692 y=46.595 orient=6.1260], [x=1.5939 y=10.163 orient=2.0896], [x=85.572 y=20.823 orient=4.4544], [x=36.937 y=56.474 orient=3.5783], [x=95.873 y=85.894 orient=3.1452], [x=5.3720 y=58.634 orient=0.4131], [x=50.711 y=33.477 orient=4.4334], [x=26.178 y=25.668 orient=4.5171], [x=53.140 y=65.876 orient=1.1578], [x=28.794 y=65.702 orient=2.0576], [x=54.910 y=75.954 orient=6.1792], [x=40.572 y=89.510 orient=2.2509], [x=70.089 y=39.100 orient=0.1961], [x=59.869 y=16.061 orient=1.7062], [x=44.696 y=29.060 orient=3.2364], [x=68.819 y=42.883 orient=4.9104], [x=81.672 y=43.278 orient=4.5553], [x=12.098 y=9.6173 orient=2.1132], [x=24.400 y=5.6683 orient=2.6231], [x=1.2501 y=94.296 orient=0.7494], [x=36.578 y=45.702 orient=0.4402], [x=19.091 y=71.546 orient=2.0386], [x=11.852 y=55.287 orient=0.4803], [x=21.554 y=97.838 orient=2.7833], [x=26.050 y=97.971 orient=6.2757], [x=32.028 y=72.604 orient=3.7971], [x=92.654 y=6.5312 orient=4.7527], [x=82.423 y=38.514 orient=2.7562], [x=8.8326 y=15.715 orient=2.9293], [x=46.721 y=94.269 orient=3.2301], [x=32.826 y=86.204 orient=0.9173], [x=87.367 y=67.657 orient=0.4343], [x=46.237 y=38.902 orient=3.0056], [x=88.539 y=89.430 orient=0.9442], [x=31.720 y=59.114 orient=2.1952], [x=5.4488 y=79.822 orient=0.1083], [x=24.145 y=68.146 orient=5.2433], [x=82.595 y=60.283 orient=1.3764], [x=69.262 y=28.145 orient=1.0085], [x=99.029 y=78.720 orient=5.9763], [x=64.365 y=46.470 orient=6.1074], [x=65.373 y=16.394 orient=5.5489], [x=94.592 y=64.528 orient=1.9796], [x=19.960 y=60.056 orient=6.0813], [x=11.177 y=74.813 orient=0.3260], [x=11.036 y=87.367 orient=4.4672], [x=1.0498 y=10.136 orient=1.6411], [x=47.360 y=63.227 orient=5.9805], [x=29.632 y=99.842 orient=1.2748], [x=69.503 y=24.386 orient=5.4874], [x=68.972 y=5.0288 orient=5.7383], [x=79.450 y=48.864 orient=4.9363], [x=61.487 y=28.113 orient=5.2346], [x=32.887 y=0.1273 orient=0.3680], [x=55.149 y=74.886 orient=3.5545], [x=36.594 y=54.460 orient=0.9769], [x=98.268 y=79.926 orient=2.2205], [x=53.860 y=68.751 orient=5.5911], [x=64.784 y=3.8058 orient=0.5174], [x=55.354 y=56.255 orient=5.9946], [x=87.890 y=31.283 orient=4.6588], [x=60.943 y=54.528 orient=4.4046], [x=22.684 y=31.417 orient=0.3790], [x=54.699 y=50.279 orient=3.2997], [x=92.113 y=87.167 orient=2.1442], [x=18.128 y=66.654 orient=2.0295], [x=21.211 y=96.735 orient=1.6415], [x=6.5052 y=52.150 orient=6.0559], [x=9.3991 y=80.354 orient=3.5680], [x=47.034 y=56.634 orient=2.2673], [x=20.816 y=80.980 orient=0.4985], [x=36.067 y=62.470 orient=0.7588], [x=84.248 y=62.806 orient=3.2515], [x=37.705 y=0.9999 orient=1.0652], [x=91.127 y=63.127 orient=4.4813], [x=61.678 y=26.817 orient=4.0497], [x=60.087 y=73.135 orient=0.8098], [x=35.499 y=25.010 orient=3.1830], [x=12.817 y=52.779 orient=3.0190], [x=69.304 y=35.968 orient=1.1812], [x=9.1812 y=76.721 orient=0.8935], [x=42.368 y=12.418 orient=5.9334], [x=73.978 y=2.8811 orient=0.7798], [x=13.246 y=74.323 orient=4.1313], [x=3.4164 y=56.701 orient=2.2012], [x=86.013 y=39.358 orient=3.5734], [x=24.964 y=49.433 orient=1.5629], [x=14.152 y=40.825 orient=1.6914], [x=69.665 y=67.565 orient=5.0794], [x=82.062 y=14.093 orient=1.7574], [x=41.598 y=91.776 orient=2.1145], [x=0.3211 y=88.649 orient=2.4744], [x=49.017 y=30.398 orient=0.2983], [x=4.5862 y=70.424 orient=2.8370], [x=86.804 y=91.988 orient=4.2102], [x=99.640 y=39.166 orient=5.5088], [x=48.828 y=20.056 orient=1.5126], [x=12.117 y=99.221 orient=5.9489], [x=89.934 y=23.383 orient=0.1157], [x=83.554 y=2.2980 orient=1.4099], [x=65.739 y=19.861 orient=2.8312], [x=28.790 y=15.652 orient=3.2922], [x=50.834 y=13.500 orient=0.7881], [x=54.329 y=51.336 orient=5.4543], [x=34.866 y=22.997 orient=1.8291], [x=71.095 y=60.577 orient=0.1276], [x=18.193 y=68.368 orient=2.9835], [x=39.970 y=20.908 orient=3.5834], [x=39.888 y=55.083 orient=4.4606], [x=85.302 y=54.811 orient=0.1388], [x=85.220 y=78.910 orient=0.5150], [x=0.2495 y=5.3092 orient=5.3297], [x=10.878 y=11.146 orient=4.0168], [x=28.081 y=35.114 orient=3.9447], [x=59.159 y=23.167 orient=1.5525], [x=36.907 y=69.356 orient=5.0803], [x=18.546 y=38.694 orient=0.1312], [x=82.808 y=88.607 orient=0.7721], [x=20.445 y=18.321 orient=6.2662], [x=94.989 y=51.000 orient=0.0999], [x=93.979 y=0.2921 orient=5.1324], [x=46.951 y=72.743 orient=4.7041], [x=17.192 y=65.359 orient=5.7591], [x=48.291 y=15.860 orient=4.1682], [x=32.523 y=81.597 orient=1.1353], [x=23.556 y=24.160 orient=3.0685], [x=80.976 y=50.679 orient=4.5734], [x=72.180 y=90.784 orient=1.8436], [x=11.310 y=21.982 orient=2.5705], [x=84.629 y=88.324 orient=3.0413], [x=22.114 y=62.347 orient=5.1594], [x=90.398 y=23.728 orient=6.1359], [x=65.110 y=42.204 orient=5.7757], [x=17.140 y=3.8276 orient=5.2922], [x=84.712 y=12.494 orient=2.2367], [x=0.9986 y=99.766 orient=1.7386], [x=96.973 y=27.154 orient=1.2907], [x=98.950 y=86.087 orient=4.4092], [x=43.432 y=68.568 orient=2.6081], [x=50.431 y=62.962 orient=1.6668], [x=16.416 y=97.729 orient=1.4369], [x=12.088 y=94.298 orient=2.3921], [x=46.683 y=42.643 orient=2.7453], [x=21.463 y=10.743 orient=2.2705], [x=7.0820 y=55.892 orient=3.1878], [x=1.1901 y=38.522 orient=2.4046], [x=62.345 y=90.315 orient=1.8737], [x=51.194 y=3.7962 orient=3.6924], [x=26.961 y=35.854 orient=5.7027], [x=58.185 y=77.525 orient=4.5096], [x=87.231 y=47.248 orient=0.0432], [x=17.593 y=89.532 orient=1.2235], [x=90.784 y=57.060 orient=2.2925], [x=97.568 y=85.075 orient=0.7892], [x=96.944 y=78.789 orient=0.0479], [x=91.282 y=86.993 orient=3.7094], [x=7.3646 y=18.883 orient=3.5969], [x=31.044 y=6.6768 orient=2.9959], [x=64.628 y=30.205 orient=1.4060], [x=46.028 y=66.136 orient=6.0264], [x=45.007 y=17.355 orient=4.8905], [x=29.475 y=16.315 orient=0.7425], [x=69.202 y=52.461 orient=5.4630], [x=26.934 y=30.285 orient=1.6767], [x=74.782 y=25.008 orient=1.4250], [x=20.951 y=24.929 orient=2.6864], [x=68.623 y=74.385 orient=2.9659], [x=13.789 y=91.836 orient=3.0031], [x=13.560 y=38.538 orient=2.1428], [x=6.1856 y=61.631 orient=5.4396], [x=84.996 y=56.128 orient=5.8467], [x=44.336 y=78.958 orient=0.2916], [x=23.444 y=7.1263 orient=4.7555], [x=36.843 y=12.815 orient=5.9031], [x=0.6813 y=95.372 orient=5.0530], [x=17.267 y=84.496 orient=4.9458], [x=99.616 y=70.799 orient=2.7890], [x=29.162 y=18.485 orient=5.2618], [x=25.036 y=12.860 orient=2.5206], [x=53.825 y=36.097 orient=1.6429], [x=90.037 y=2.8994 orient=3.8761], [x=50.094 y=42.268 orient=2.6810], [x=38.049 y=39.055 orient=3.0884], [x=42.053 y=90.513 orient=5.7692], [x=32.459 y=97.623 orient=0.1419], [x=59.996 y=17.225 orient=6.0796], [x=93.498 y=25.348 orient=6.2692], [x=2.8672 y=40.743 orient=1.3278], [x=23.770 y=29.437 orient=1.5732], [x=97.578 y=99.234 orient=0.1091], [x=3.2287 y=72.255 orient=0.1693], [x=88.380 y=97.866 orient=4.7309], [x=96.766 y=95.512 orient=4.3612], [x=24.661 y=32.974 orient=0.3363], [x=28.844 y=97.915 orient=3.2853], [x=97.674 y=23.588 orient=2.2411], [x=77.862 y=95.663 orient=3.0527], [x=68.212 y=71.920 orient=1.3532], [x=73.704 y=15.770 orient=3.5276], [x=49.835 y=67.621 orient=6.0494], [x=3.0823 y=70.804 orient=5.2716], [x=87.173 y=50.337 orient=1.5066], [x=48.355 y=46.270 orient=0.1428], [x=50.818 y=36.486 orient=4.7505], [x=79.543 y=82.657 orient=1.5037], [x=86.755 y=61.397 orient=4.9660], [x=16.178 y=23.982 orient=1.2066], [x=62.229 y=78.423 orient=3.7408], [x=11.228 y=68.653 orient=5.0992], [x=77.332 y=84.425 orient=2.9722], [x=88.471 y=69.435 orient=6.0045], [x=6.1246 y=92.729 orient=1.5895], [x=7.5309 y=35.020 orient=2.7042], [x=95.649 y=14.119 orient=4.2552], [x=59.016 y=90.351 orient=5.1632], [x=7.0459 y=12.167 orient=1.1953], [x=66.022 y=86.469 orient=5.7730], [x=26.706 y=68.775 orient=0.1904], [x=99.663 y=17.242 orient=1.3318], [x=77.997 y=16.364 orient=5.7499], [x=38.945 y=72.153 orient=2.4281], [x=57.187 y=33.136 orient=0.2301], [x=80.148 y=32.737 orient=3.9626], [x=73.347 y=27.680 orient=3.3562], [x=18.303 y=63.802 orient=4.3491], [x=35.073 y=48.486 orient=3.7331], [x=76.525 y=58.672 orient=0.8147], [x=90.899 y=93.942 orient=6.2013], [x=62.993 y=89.388 orient=2.6409], [x=5.5008 y=37.516 orient=1.5256], [x=32.721 y=11.093 orient=5.7798], [x=59.719 y=59.585 orient=6.1795], [x=47.442 y=36.484 orient=0.6949], [x=69.784 y=70.280 orient=0.1080], [x=63.297 y=32.651 orient=4.6208], [x=26.567 y=65.525 orient=1.7859], [x=82.178 y=50.965 orient=2.9040], [x=75.054 y=6.2011 orient=0.5592], [x=12.646 y=17.935 orient=0.3166], [x=36.664 y=73.163 orient=4.7696], [x=23.244 y=12.569 orient=3.5130], [x=57.547 y=0.4164 orient=3.2477], [x=6.8840 y=52.010 orient=2.0504], [x=12.301 y=45.903 orient=5.7451], [x=73.885 y=50.166 orient=4.5769], [x=61.005 y=16.981 orient=4.9925], [x=22.703 y=59.581 orient=3.5793], [x=83.289 y=23.478 orient=4.9717], [x=2.4497 y=75.674 orient=4.0758], [x=6.2759 y=20.738 orient=2.8968], [x=27.962 y=42.098 orient=4.0944], [x=97.807 y=98.804 orient=3.0530], [x=12.388 y=14.554 orient=4.6336], [x=5.0055 y=93.654 orient=3.1994], [x=56.700 y=16.274 orient=3.8533], [x=78.346 y=56.044 orient=5.1068], [x=42.048 y=31.957 orient=5.6614], [x=83.633 y=64.611 orient=6.0301], [x=2.1781 y=50.822 orient=4.2646], [x=33.509 y=22.071 orient=3.9727], [x=73.447 y=58.273 orient=1.9941], [x=68.537 y=36.295 orient=4.2091], [x=67.193 y=4.1538 orient=5.5187], [x=42.650 y=38.735 orient=1.6621], [x=52.316 y=86.189 orient=3.9868], [x=97.782 y=67.655 orient=2.3784], [x=56.367 y=13.584 orient=4.5587], [x=7.6145 y=81.425 orient=0.9790], [x=12.559 y=14.850 orient=5.0047], [x=95.373 y=74.173 orient=3.9728], [x=52.914 y=68.578 orient=3.1053], [x=50.570 y=29.111 orient=1.4569], [x=26.570 y=26.116 orient=2.2286], [x=12.594 y=73.874 orient=0.0859], [x=39.242 y=8.3529 orient=3.8285], [x=71.060 y=86.620 orient=5.2473], [x=55.315 y=50.401 orient=3.2132], [x=96.276 y=92.631 orient=0.7051], [x=99.286 y=84.439 orient=2.9450], [x=2.0393 y=42.072 orient=3.7960], [x=61.994 y=86.872 orient=4.6279], [x=80.238 y=54.061 orient=1.1313], [x=18.390 y=83.626 orient=2.8830], [x=80.043 y=14.554 orient=4.6811], [x=36.656 y=61.228 orient=3.3722], [x=23.406 y=62.521 orient=3.7816], [x=54.443 y=51.366 orient=2.7902], [x=46.974 y=67.204 orient=3.5237], [x=31.771 y=42.022 orient=2.4153], [x=67.959 y=3.7345 orient=5.1061], [x=58.806 y=25.919 orient=1.0444], [x=10.040 y=53.085 orient=5.7531], [x=44.598 y=65.907 orient=5.2645], [x=24.698 y=68.396 orient=0.6249], [x=71.603 y=35.619 orient=4.8826], [x=33.266 y=33.669 orient=4.7280], [x=48.437 y=64.476 orient=5.7272], [x=29.343 y=70.749 orient=2.0291], [x=41.710 y=95.877 orient=6.0374], [x=36.264 y=47.665 orient=5.8237], [x=82.658 y=2.5211 orient=2.9522], [x=40.389 y=9.3972 orient=2.0403], [x=55.120 y=95.765 orient=5.5403], [x=86.270 y=30.890 orient=2.1381], [x=77.455 y=24.681 orient=0.8879], [x=24.773 y=20.727 orient=2.0825], [x=59.336 y=7.8215 orient=0.1647], [x=72.423 y=61.460 orient=3.1022], [x=48.086 y=1.1986 orient=1.7562], [x=32.469 y=84.896 orient=2.0865], [x=64.769 y=14.422 orient=1.3108], [x=67.054 y=79.168 orient=4.2521], [x=90.343 y=73.598 orient=4.2502], [x=72.558 y=43.737 orient=5.6222], [x=88.724 y=33.399 orient=1.7298], [x=62.941 y=92.503 orient=2.8969], [x=59.891 y=8.8890 orient=6.2377], [x=68.458 y=16.280 orient=1.7773], [x=19.650 y=49.742 orient=4.0961], [x=61.892 y=80.027 orient=3.1896], [x=19.103 y=80.736 orient=5.5739], [x=25.894 y=79.926 orient=5.6794], [x=69.389 y=46.155 orient=4.8680], [x=93.224 y=8.4698 orient=1.2724], [x=25.558 y=15.371 orient=4.0215], [x=49.890 y=37.999 orient=6.1757], [x=77.999 y=93.699 orient=2.2413], [x=60.866 y=31.327 orient=1.0597], [x=78.994 y=72.468 orient=5.3608], [x=99.488 y=85.974 orient=1.6680], [x=26.921 y=99.329 orient=2.5455], [x=65.267 y=29.296 orient=4.5498], [x=21.391 y=18.312 orient=1.8829], [x=60.900 y=94.004 orient=1.1241], [x=83.152 y=97.837 orient=3.3656], [x=53.395 y=5.7178 orient=4.3589], [x=76.119 y=1.4484 orient=5.9470], [x=0.5555 y=61.336 orient=5.3890], [x=66.951 y=51.442 orient=5.3369], [x=40.311 y=77.895 orient=4.7821], [x=93.385 y=99.352 orient=0.4843], [x=41.308 y=45.275 orient=4.6839], [x=88.445 y=26.423 orient=6.0771], [x=73.128 y=82.435 orient=3.8145], [x=41.439 y=30.841 orient=0.0550], [x=65.228 y=11.364 orient=0.1227], [x=54.960 y=98.137 orient=3.9540], [x=4.7697 y=57.965 orient=5.3150], [x=69.737 y=38.976 orient=1.3483], [x=47.271 y=21.660 orient=4.0265], [x=95.877 y=80.630 orient=5.3783], [x=44.591 y=45.773 orient=3.8101], [x=72.306 y=96.904 orient=4.3645], [x=24.507 y=55.959 orient=3.8209], [x=22.396 y=64.842 orient=1.4247], [x=91.430 y=57.161 orient=3.5153], [x=40.218 y=14.277 orient=2.7826], [x=78.669 y=57.940 orient=1.5031], [x=46.240 y=21.320 orient=2.6646], [x=26.059 y=86.722 orient=5.9693], [x=21.193 y=89.624 orient=5.8215], [x=42.720 y=52.145 orient=2.6577], [x=13.863 y=82.384 orient=6.2419], [x=7.0310 y=17.898 orient=5.3084], [x=69.269 y=95.088 orient=6.1477], [x=99.962 y=64.245 orient=3.5101], [x=16.915 y=21.696 orient=0.3195], [x=96.078 y=19.599 orient=3.7586], [x=96.422 y=48.797 orient=5.9339], [x=29.788 y=29.175 orient=3.8848], [x=64.055 y=6.3387 orient=3.0274], [x=34.920 y=56.419 orient=5.3190], [x=35.481 y=39.830 orient=2.9195], [x=59.007 y=53.911 orient=5.2077], [x=58.407 y=28.354 orient=1.9652], [x=10.632 y=0.6842 orient=1.8699], [x=37.704 y=59.075 orient=4.0016], [x=85.814 y=82.440 orient=1.7976], [x=30.007 y=66.940 orient=0.8274], [x=22.342 y=57.353 orient=5.8174], [x=48.357 y=9.5983 orient=0.4932], [x=19.674 y=98.369 orient=4.1019], [x=37.645 y=34.872 orient=5.4299], [x=41.936 y=56.538 orient=3.1893], [x=48.924 y=81.444 orient=2.2469], [x=85.420 y=91.933 orient=2.0963], [x=66.168 y=2.9090 orient=1.3970], [x=84.360 y=81.150 orient=5.6530], [x=65.675 y=89.300 orient=2.1722], [x=41.507 y=28.792 orient=2.4870], [x=86.094 y=61.180 orient=6.0026], [x=95.118 y=9.6890 orient=5.7398], [x=73.356 y=90.467 orient=4.0000], [x=4.6846 y=16.919 orient=1.3491], [x=34.897 y=47.721 orient=2.1425], [x=97.962 y=90.006 orient=4.5656], [x=1.7486 y=91.459 orient=3.0868], [x=8.5206 y=97.838 orient=4.5588], [x=16.064 y=58.153 orient=0.1782], [x=12.182 y=23.598 orient=3.9759], [x=32.981 y=16.694 orient=2.0695], [x=18.005 y=65.593 orient=5.2598], [x=58.959 y=45.429 orient=0.4837], [x=45.676 y=8.1422 orient=2.8941], [x=58.071 y=84.422 orient=4.5098], [x=56.326 y=63.240 orient=5.7718], [x=86.647 y=55.627 orient=0.2997], [x=26.464 y=26.925 orient=4.7167], [x=79.764 y=71.305 orient=2.4874], [x=48.719 y=77.122 orient=3.2307], [x=38.228 y=86.205 orient=5.9616], [x=98.788 y=78.225 orient=5.9241], [x=93.713 y=71.466 orient=4.2200], [x=11.587 y=36.376 orient=3.5904], [x=32.880 y=87.586 orient=1.4065], [x=25.804 y=61.838 orient=2.4917], [x=29.939 y=55.274 orient=1.1779], [x=44.799 y=30.764 orient=5.7196], [x=84.969 y=75.344 orient=2.0802], [x=76.309 y=4.3530 orient=6.2575], [x=36.913 y=56.363 orient=0.4636], [x=29.055 y=79.010 orient=2.7453], [x=33.188 y=51.069 orient=2.0528], [x=15.254 y=20.710 orient=4.3110], [x=80.614 y=78.091 orient=1.3247], [x=30.463 y=51.871 orient=4.7561], [x=84.551 y=41.387 orient=5.8320], [x=95.340 y=8.1034 orient=0.5704], [x=25.484 y=19.346 orient=1.8516], [x=36.781 y=33.202 orient=2.2815], [x=4.9471 y=57.192 orient=4.5024], [x=92.692 y=21.544 orient=4.4396], [x=71.624 y=15.299 orient=2.3470], [x=52.465 y=84.245 orient=0.0432], [x=2.3733 y=5.0842 orient=5.2590], [x=27.299 y=42.672 orient=0.2701], [x=59.237 y=86.234 orient=0.7952], [x=14.815 y=47.100 orient=5.1660], [x=67.994 y=75.338 orient=0.0176], [x=19.503 y=72.247 orient=0.9175], [x=56.090 y=44.288 orient=3.8625], [x=86.859 y=85.360 orient=4.1562], [x=32.149 y=17.671 orient=2.8584], [x=94.087 y=16.999 orient=1.8263], [x=56.882 y=92.748 orient=2.7287], [x=89.659 y=41.753 orient=1.5419], [x=46.214 y=43.191 orient=3.6472], [x=13.081 y=91.589 orient=5.3791], [x=30.602 y=5.6182 orient=0.0802], [x=58.328 y=85.443 orient=6.1777], [x=18.393 y=61.339 orient=2.7353], [x=43.281 y=71.314 orient=0.2332], [x=19.756 y=35.311 orient=3.5258], [x=21.714 y=12.185 orient=2.0794], [x=61.556 y=83.864 orient=6.2398], [x=54.192 y=48.156 orient=1.7962], [x=99.702 y=31.270 orient=1.2452], [x=35.842 y=45.981 orient=2.1703], [x=2.2677 y=81.009 orient=1.7663], [x=39.029 y=34.603 orient=5.6270], [x=51.238 y=74.596 orient=4.6485], [x=61.742 y=56.447 orient=0.5357], [x=39.174 y=82.891 orient=5.3813], [x=2.5137 y=20.731 orient=3.8954], [x=49.956 y=42.667 orient=2.7843], [x=83.478 y=58.221 orient=5.6568], [x=77.459 y=60.884 orient=2.7202], [x=61.220 y=65.229 orient=2.8080], [x=89.535 y=30.713 orient=3.0906], [x=59.450 y=79.928 orient=0.0543], [x=25.661 y=49.369 orient=0.4734], [x=38.556 y=38.129 orient=3.0067], [x=67.890 y=10.639 orient=4.1897], [x=68.221 y=82.498 orient=3.0135], [x=48.865 y=51.405 orient=1.9576], [x=30.183 y=92.069 orient=0.4190], [x=77.955 y=62.988 orient=0.9918], [x=23.831 y=79.501 orient=0.6753], [x=57.306 y=39.895 orient=0.8811], [x=51.990 y=39.109 orient=4.7869], [x=86.810 y=26.015 orient=5.0800], [x=68.321 y=47.662 orient=5.8815], [x=10.940 y=24.651 orient=4.5740], [x=87.002 y=5.7988 orient=2.3995], [x=68.818 y=36.344 orient=1.1955], [x=86.047 y=53.708 orient=3.4166], [x=30.478 y=77.235 orient=1.6903], [x=95.041 y=86.691 orient=1.0095], [x=50.664 y=72.533 orient=2.1283], [x=45.809 y=53.815 orient=1.6931], [x=21.874 y=31.186 orient=4.9301], [x=25.946 y=88.178 orient=1.3454], [x=97.717 y=36.748 orient=0.2977], [x=90.809 y=13.229 orient=2.5519], [x=81.038 y=36.428 orient=6.0327], [x=70.026 y=71.391 orient=5.9643], [x=97.727 y=4.6563 orient=0.9000], [x=65.027 y=90.752 orient=0.9923], [x=12.167 y=76.353 orient=0.9511], [x=18.920 y=34.596 orient=3.0805], [x=5.2357 y=44.180 orient=2.1500], [x=71.475 y=94.500 orient=1.4394], [x=94.829 y=62.237 orient=0.3378], [x=66.966 y=74.581 orient=1.8824], [x=34.276 y=23.259 orient=1.6802], [x=51.484 y=13.918 orient=1.1565], [x=80.144 y=85.332 orient=5.7017], [x=67.350 y=15.181 orient=0.5180], [x=46.850 y=1.6613 orient=1.7207], [x=16.979 y=62.445 orient=1.7835], [x=63.541 y=92.454 orient=5.3221], [x=67.186 y=60.661 orient=1.8468], [x=22.112 y=81.426 orient=4.4324], [x=47.862 y=31.117 orient=3.5215], [x=85.498 y=85.277 orient=1.1205], [x=75.297 y=91.901 orient=0.2336], [x=84.659 y=45.131 orient=3.6217], [x=55.823 y=27.219 orient=2.6115], [x=45.829 y=84.095 orient=3.7514], [x=0.9731 y=94.204 orient=0.9183], [x=19.646 y=82.191 orient=0.6940], [x=21.255 y=66.869 orient=0.8821], [x=87.242 y=60.068 orient=5.7266], [x=51.359 y=44.553 orient=0.7513], [x=36.678 y=2.4362 orient=5.6884], [x=17.936 y=12.003 orient=3.6255], [x=45.958 y=78.538 orient=0.3661], [x=74.377 y=16.906 orient=1.7252], [x=76.019 y=82.435 orient=5.3640], [x=15.295 y=76.535 orient=1.5769], [x=13.830 y=96.404 orient=3.5607], [x=98.155 y=31.045 orient=5.1126], [x=76.744 y=4.2740 orient=0.6123], [x=94.400 y=39.367 orient=1.7906], [x=91.990 y=57.610 orient=0.3249], [x=8.9855 y=44.415 orient=0.8997], [x=50.472 y=36.251 orient=3.9761], [x=47.361 y=1.1554 orient=4.9873], [x=34.412 y=77.980 orient=0.1977], [x=61.776 y=79.907 orient=2.7424], [x=91.959 y=8.2438 orient=1.0775], [x=27.330 y=50.400 orient=3.7611], [x=88.506 y=43.503 orient=6.1444], [x=80.685 y=44.273 orient=4.9344], [x=5.5252 y=77.316 orient=4.0073], [x=71.435 y=72.186 orient=2.9778], [x=82.500 y=84.518 orient=4.3331], [x=76.848 y=97.957 orient=1.3723], [x=67.627 y=72.693 orient=2.3469], [x=6.7560 y=0.4003 orient=5.4747], [x=20.974 y=66.138 orient=3.0276], [x=61.456 y=99.138 orient=2.3570], [x=5.7720 y=34.632 orient=3.4019], [x=58.248 y=3.0571 orient=5.9637], [x=16.371 y=88.558 orient=3.6539], [x=31.677 y=47.848 orient=5.3846], [x=86.415 y=87.935 orient=4.7505], [x=24.249 y=9.2528 orient=2.3788], [x=31.991 y=70.079 orient=1.8536]]\n"
     ]
    }
   ],
   "source": [
    "# Now we want to simulate robot\n",
    "# motion with our particles.\n",
    "# Each particle should turn by 0.1\n",
    "# and then move by 5. \n",
    "####   DON'T MODIFY ANYTHING ABOVE HERE! ENTER CODE BELOW ####\n",
    "\n",
    "N = 1000\n",
    "p = []\n",
    "for i in range(N):\n",
    "    x = robot()\n",
    "    p.append(x)\n",
    "\n",
    "p2 = []\n",
    "for i in range(N):\n",
    "    p2.append(p[i].move(0.1, 5.0))\n",
    "print(p) #PLEASE LEAVE THIS HERE FOR GRADING PURPOSES\n"
   ]
  },
  {
   "cell_type": "markdown",
   "metadata": {},
   "source": [
    "### Quiz - Importance Weight\n",
    "Let me explain how the second half works.Suppose an actual robot sits over here,and it measures these exact distances to the landmarks over here.Obviously, there some measurement noise thatwould be just more or less an added Gaussian with 0 mean.Meaning there would be a certain chance of being too short or too longand that probability is governed by a Gaussian.So, this process gives us a measurement vector of 4 valuesof those 4 distances to the landmarks L1 to L4.\n",
    "\n",
    "Now let's consider a particle that hypothesizes the robot coordinates are over here and not over here, and it also hypothesizes a different heading direction. We can then take the measurement vector and apply it to this particle.Obviously this would be a very poor measurement vectorfor this specific particle over here.In particular, the measurement vector we would've expected looks more like this.That just makes this specific location really unlikely.In fact, the closer our particle to the correct positionthe more likely will be the set of measurements given that position.\n",
    "\n",
    "And now here comes the big trick in particle filters:the mismatch of the actual measurement and the predicted measurementleads to a so called importance weightthat tells us how important that specific particle is.The larger the weight the more important it is. Well, we now have many, many different particles and a specific measurement.Each of these particles will have a different weight.Some look very plausible, others might look very implausibleas indicated by the size of the circles over here. We now let these particles survive somewhat at random,but the probability of survival will be proportional to their weights.If something has a very big weight like this guy over herewill survive at a higher proportion thansomeone with a really small weight over here, which means after what's called resampling,which is just a technical term for randomly drawing N new particles from these old ones with replacement in proportion to the importance weight.After that resampling phase,those guys over here very likely to live on, in fact many, many times. \n",
    "\n",
    "Whereas those guys over here likely have died out.That's exactly what happened in our movie in the beginning when we looked at localization in this corridor environment. The particles that are very consistent with the sensor measurement survive with a higher probability, and the ones with lower importance weight tended to die out.So, we get the fact that the particles clusteraround regions of higher posterior probability.That is really cool and all we have to do iswe have to implement a method for setting importance weightsand that is, of course, related to the likelihood of a measurement,as we will find out, and we have to implement a method for resamplingthat grabs particles in proportion to those weights.\n",
    "So, let's just do this.So, let me add back the robot code.We built a robot, and we make the robot move,and we now get a sensor measurement for that specific robot using the sense function. So, let's just print this out. These are the ranges or distances to the 4 landmarksand by adding your print my robot statementyou can also figure out weight importance as 33, 48, 0.5, obviously this is a random output because you randomly initialized the position of the robot.\n",
    "\n",
    "What I want you to program now is a way to assign importance weights to each of the particles in here.I want you to make a list of 1000 elements where each element on the list contains a number.So, this number is proportional to how important that particle is,and to make things easier I coded for you a function in the class robotcalled the measurement probability. This function accepts a single parameter, the measurement vector,the Z edge as defined, and it calculates as an output how likely this measurement is, and it uses effectively a Gaussian that measures how far away the predicted measurements would be from the actual measurements.You can dive into this code and understand what's going on.There's one last change we have to do to make this code run.We have to actually assume that there is measurement noise.If there is 0 measurement noise, then this function will end up dividing by 0.So, let's put in a clause that specifies what we believe the actual measurement noise is. I'm going to do this not for the robot,but I do this for the particles.In this line of code over here where we create the particles for the first time,I now just initialized these positions remain numbersbut also assume a certain amount of noise that goes with each particle,and 5.0 for the measurement noise in those ranges.So, this is the crucial number over here. So, coming back to what I want you to do,I wish you to construct a list of 1000 elements in Wso that each number in this vector reflects the output of thefunction measurement probe applied to the measurement Z that we receive fromthe rear robot, such that when I hit print W,I actually get a list of 1000 importance weights."
   ]
  },
  {
   "cell_type": "code",
   "execution_count": null,
   "metadata": {
    "collapsed": true
   },
   "outputs": [],
   "source": [
    "myrobot = robot()\n",
    "myrobot = myrobot.move(0.1, 5.0)\n",
    "Z = myrobot.sense()\n",
    "\n",
    "N = 1000\n",
    "p = []\n",
    "for i in range(N):\n",
    "    x = robot()\n",
    "    x.set_noise(0.05, 0.05, 5.0)\n",
    "    p.append(x)\n",
    "\n",
    "p2 = []\n",
    "for i in range(N):\n",
    "    p2.append(p[i].move(0.1, 5.0))\n",
    "p = p2\n",
    "\n",
    "w = []\n",
    "for i in range(N):\n",
    "    w.append(p[i].measurement_prob(Z))\n",
    "#insert code here!\n",
    "print w #Please print w for grading purposes."
   ]
  },
  {
   "cell_type": "markdown",
   "metadata": {},
   "source": [
    "### Resampling\n",
    "* Particle filter here maintains n=1000 random guesses as to where we are. Implement using 1000 robots.\n",
    "* Importance weight: Mismatch of actual and predicted measurement.\n",
    "    * The larger the weight, the more important the measurement.\n",
    "    * The higher the importance (weight), the higher the probability of the particle 'surviving'\n",
    "    * Usually assumes there is measurement noise.\n",
    "* Resampling: Randomly redrawing particles from existing ones with replacement (probability of drawing proportional to weight)\n",
    "* Particles cluster around regions of high posterior probability."
   ]
  },
  {
   "cell_type": "markdown",
   "metadata": {},
   "source": [
    "![](images/13.5.png)"
   ]
  },
  {
   "cell_type": "markdown",
   "metadata": {},
   "source": [
    "#### Replacement\n",
    "![](images/13.6a.png)\n",
    "\n",
    "Lets have a small quiz:\n",
    "We have 5 particles so, N = 5. Now They have following weight:\n",
    "w = [0.6, 1.2, 2.4, 0.6, 1.2]\n",
    "\n",
    "If I, in the process of resampling randomly draw a particle in accordance to the normalized importance weights.\n",
    "What is the probability of drawing P1, P2, P4 and P5?\n",
    "\n",
    "Answer:\n",
    "Total Weight = sum(w) = 6 \n",
    "normalized weight = [0.1, 0.2, 0.4, 0.1, 0.2]\n",
    "\n",
    "And normalized weight is the answer."
   ]
  },
  {
   "cell_type": "markdown",
   "metadata": {},
   "source": [
    "##### Quiz - Is it possible that p1 be never sampled in the resampling step\n",
    "Answer: yes\n",
    "And the answer is yes, in the random resampling process something with an importance weight of 0.1 is actually quite unlikely to be sampled into the next data set."
   ]
  },
  {
   "cell_type": "markdown",
   "metadata": {},
   "source": [
    "##### Quiz - Is it possible that p3(instead of p1) be never sampled in the resampling step\n",
    "Answer: yes\n",
    "And the answer is yes, again. Even though this importance weight over here is large, it could happen that in each of the 5 resampling steps we pick one of the other 4.\n"
   ]
  },
  {
   "cell_type": "markdown",
   "metadata": {},
   "source": [
    "##### Quiz - What is the probability of never sampling p3?\n",
    "** Answer **: 0.0777 \n",
    "** Solution **\n",
    "And the answer is 0.0777 approximately, and the way to obtain this is for this particle to never to be drawn in the resampling phase, we always have to draw 1 of the following 4 particles. Those together have a probability of 0.6 to be drawn, which contrasts to the 0.4 for P3. \n",
    "\n",
    "So for 5 independent samplings to draw 1 of those 4, we get a total probability of 0.6 to the fifth, which is approximately 0.0777. Put differently, there is about a 7.7% chance that this particle over here is missing, but with almost 93% probability we'd have this particle included. If we hadn't set up P3, gone for P1 over here, which has a much smaller probability of being drawn, then this 0.07 will be as large as 0.59, which is 0.9 to the fifth. Now this means with about 60% chance we will lose particle 1, and only with a 40% chance it will include it. Put differently, the particles with small importance weights will survive at a much lower rate than the ones with larger importance weights, which is exactly what we wish to get from the resampling step."
   ]
  },
  {
   "cell_type": "markdown",
   "metadata": {},
   "source": [
    "### Quiz - New Particle\n",
    "What I would like you to do next is to modify our algorithm to take the lists of particles and importance weights to sample N times the replacement and new particles with a sampling probability proportional to the importance weights, or in the code now that we calculated our new particles and the corresponding importance weights, construct a new particle set P3, which we will call P, again, when everything is said and done, so that the particles in P3 are drawn from P according to the importance weight's W. \n",
    "\n",
    "Now to warn you this is more difficult than it looks like. I'm going to show you a trick in a second, so if you fail to do this don't worry. I give you a chance to do it right now, but then I'm going to tell you a little bit more about how to organize this in an efficient way and you get a second chance. So, try it out, see if you can do it, and if you fail look for my advice and then try it again. "
   ]
  },
  {
   "cell_type": "markdown",
   "metadata": {},
   "source": [
    "### Resampling Wheel\n",
    "\n",
    "\n",
    "![](images/13.6b.png)\n",
    "![](images/13.6c.png)"
   ]
  },
  {
   "cell_type": "markdown",
   "metadata": {},
   "source": [
    "#### Implementing resampling: Resampling wheel\n",
    "\n",
    "\n",
    "```\n",
    "while w[index] < beta:\n",
    "    beta = beta - w[index]\n",
    "    index = index + 1\n",
    "\n",
    "select p[index]\n",
    "```\n",
    "\n",
    "Particle is picked in proportion to the proportion of the circumference its slice occupies.\n"
   ]
  },
  {
   "cell_type": "code",
   "execution_count": null,
   "metadata": {
    "collapsed": true
   },
   "outputs": [],
   "source": [
    "# In this exercise, you should implement the\n",
    "# resampler shown in the previous video.\n",
    "\n",
    "####   DON'T MODIFY ANYTHING ABOVE HERE! ENTER CODE BELOW ####\n",
    "myrobot = robot()\n",
    "myrobot = myrobot.move(0.1, 5.0)\n",
    "Z = myrobot.sense()\n",
    "\n",
    "N = 1000\n",
    "p = []\n",
    "for i in range(N):\n",
    "    x = robot()\n",
    "    x.set_noise(0.05, 0.05, 5.0)\n",
    "    p.append(x)\n",
    "\n",
    "p2 = []\n",
    "for i in range(N):\n",
    "    p2.append(p[i].move(0.1, 5.0))\n",
    "p = p2\n",
    "\n",
    "w = []\n",
    "for i in range(N):\n",
    "    w.append(p[i].measurement_prob(Z))\n",
    "\n",
    "p3 = []\n",
    "max_weight = max(w)\n",
    "beta = 0.0\n",
    "# or index = int(random.random() * N)\n",
    "index = random.randint(0, N-1)\n",
    "for i in range(N):\n",
    "    beta += random.random()*(2.0 * max_weight)\n",
    "    if beta > w[index]:\n",
    "        beta -= w[index]\n",
    "        index = (index + 1) % N\n",
    "    p3.append(p[index])\n",
    "    \n",
    "p = p3\n",
    "print p #please leave this print statement here for grading!\n",
    "\n"
   ]
  },
  {
   "cell_type": "markdown",
   "metadata": {},
   "source": [
    "Result: co-located particles. Orientations are not similar because only one location was taken.\n",
    "\n",
    "### Orientation\n",
    "* Orientation eventually matters\n",
    "\n",
    "Now the quiz2 - "
   ]
  },
  {
   "cell_type": "code",
   "execution_count": null,
   "metadata": {
    "collapsed": true
   },
   "outputs": [],
   "source": [
    "# Please only modify the indicated area below!\n",
    "\n",
    "\n",
    "####   DON'T MODIFY ANYTHING ABOVE HERE! ENTER/MODIFY CODE BELOW ####\n",
    "myrobot = robot()\n",
    "myrobot = myrobot.move(0.1, 5.0)\n",
    "Z = myrobot.sense()\n",
    "N = 1000\n",
    "T = 10 #Leave this as 10 for grading purposes.\n",
    "\n",
    "p = []\n",
    "for i in range(N):\n",
    "    r = robot()\n",
    "    r.set_noise(0.05, 0.05, 5.0)\n",
    "    p.append(r)\n",
    "\n",
    "for t in range(T):\n",
    "    myrobot = myrobot.move(0.1, 5.0)\n",
    "    Z = myrobot.sense()\n",
    "\n",
    "    p2 = []\n",
    "    for i in range(N):\n",
    "        p2.append(p[i].move(0.1, 5.0))\n",
    "    p = p2\n",
    "\n",
    "    w = []\n",
    "    for i in range(N):\n",
    "        w.append(p[i].measurement_prob(Z))\n",
    "\n",
    "    p3 = []\n",
    "    index = int(random.random() * N)\n",
    "    beta = 0.0\n",
    "    mw = max(w)\n",
    "    for i in range(N):\n",
    "        beta += random.random() * 2.0 * mw\n",
    "        while beta > w[index]:\n",
    "            beta -= w[index]\n",
    "            index = (index + 1) % N\n",
    "        p3.append(p[index])\n",
    "    p = p3\n",
    "    print(eval(myrobot, p))\n",
    "print(p)"
   ]
  },
  {
   "cell_type": "markdown",
   "metadata": {},
   "source": [
    "#### Quiz - Error\n",
    "Just add print eval(myrobot, p) to for loop above.\n"
   ]
  },
  {
   "cell_type": "markdown",
   "metadata": {},
   "source": [
    "### Formalisation\n",
    "\n",
    "![](images/13.7.png)\n",
    "\n",
    "### Differences between lesson implementation and Google Car implementation\n",
    "* Robot model: uses Bicycle Model\n",
    "* Sensor data: Matching snapshots to maps (vs using landmarks)\n",
    "\n",
    "![](images/13.8.png)\n",
    "\n",
    "#### Preview\n",
    "Next: How to use our info to decide where to move. Applying search to the problem of planning robot trajectories in real time."
   ]
  }
 ],
 "metadata": {
  "kernelspec": {
   "display_name": "Python 3",
   "language": "python",
   "name": "python3"
  },
  "language_info": {
   "codemirror_mode": {
    "name": "ipython",
    "version": 3
   },
   "file_extension": ".py",
   "mimetype": "text/x-python",
   "name": "python",
   "nbconvert_exporter": "python",
   "pygments_lexer": "ipython3",
   "version": "3.5.2"
  },
  "widgets": {
   "state": {},
   "version": "1.1.2"
  }
 },
 "nbformat": 4,
 "nbformat_minor": 2
}
