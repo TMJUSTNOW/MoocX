{
 "metadata": {
  "name": "modelingexpert.ipynb"
 },
 "nbformat": 3,
 "nbformat_minor": 0,
 "worksheets": [
  {
   "cells": [
    {
     "cell_type": "markdown",
     "metadata": {},
     "source": [
      "# Unit 3, Modeling the Expert\n",
      "## Video 4\n",
      "## Read in dataset"
     ]
    },
    {
     "cell_type": "code",
     "collapsed": false,
     "input": [
      "import os\n",
      "os.chdir('C:\\Users\\Violetta_Chen\\Downloads')\n",
      "import pandas as pd\n",
      "quality = pd.read_csv('quality.csv')"
     ],
     "language": "python",
     "metadata": {},
     "outputs": [],
     "prompt_number": 2
    },
    {
     "cell_type": "markdown",
     "metadata": {},
     "source": [
      "## Look at structure"
     ]
    },
    {
     "cell_type": "code",
     "collapsed": false,
     "input": [
      "def dfStr(df):\n",
      "    print \"The dataframe contains {0} rows and {1} columns\".format(df.shape[0], df.shape[1])\n",
      "    print \"The data types of columns are: \\n\"\n",
      "    print df.dtypes\n",
      "\n",
      "dfStr(quality)"
     ],
     "language": "python",
     "metadata": {},
     "outputs": [
      {
       "output_type": "stream",
       "stream": "stdout",
       "text": [
        "The dataframe contains 131 rows and 14 columns\n",
        "The data types of columns are: \n",
        "\n",
        "MemberID                  int64\n",
        "InpatientDays             int64\n",
        "ERVisits                  int64\n",
        "OfficeVisits              int64\n",
        "Narcotics                 int64\n",
        "DaysSinceLastERVisit    float64\n",
        "Pain                      int64\n",
        "TotalVisits               int64\n",
        "ProviderCount             int64\n",
        "MedicalClaims             int64\n",
        "ClaimLines                int64\n",
        "StartedOnCombination       bool\n",
        "AcuteDrugGapSmall         int64\n",
        "PoorCare                  int64\n",
        "dtype: object\n"
       ]
      }
     ],
     "prompt_number": 3
    },
    {
     "cell_type": "markdown",
     "metadata": {},
     "source": [
      "## Table outcome"
     ]
    },
    {
     "cell_type": "code",
     "collapsed": false,
     "input": [
      "quality.groupby('PoorCare').size()"
     ],
     "language": "python",
     "metadata": {},
     "outputs": [
      {
       "metadata": {},
       "output_type": "pyout",
       "prompt_number": 4,
       "text": [
        "PoorCare\n",
        "0           98\n",
        "1           33\n",
        "dtype: int64"
       ]
      }
     ],
     "prompt_number": 4
    },
    {
     "cell_type": "markdown",
     "metadata": {},
     "source": [
      "## Baseline accuracy"
     ]
    },
    {
     "cell_type": "code",
     "collapsed": false,
     "input": [
      "98.0/131"
     ],
     "language": "python",
     "metadata": {},
     "outputs": [
      {
       "metadata": {},
       "output_type": "pyout",
       "prompt_number": 5,
       "text": [
        "0.7480916030534351"
       ]
      }
     ],
     "prompt_number": 5
    },
    {
     "cell_type": "markdown",
     "metadata": {},
     "source": [
      "## Create training and testing sets\n",
      "I will be using `train_test_split` from scikit-learn to split the dataset into training and testing sets       \n",
      "The data types returned by `train_test_split` in default is `object`, thus you need to convert them back when creating dataframes using `pandas`     \n",
      "Also simply using `train_test_split` on the entire dataframe will not enforce the ration of 1 and 0 in the dependent variable in the splitted sets. So it should be done separately."
     ]
    },
    {
     "cell_type": "code",
     "collapsed": false,
     "input": [
      "from sklearn.cross_validation import train_test_split\n",
      "train0, test0 = train_test_split(quality.loc[quality['PoorCare']==0,:], train_size=0.75, random_state=88)\n",
      "train1, test1 = train_test_split(quality.loc[quality['PoorCare']==1,:], train_size=0.75, random_state=88)\n",
      "qualityTrain = pd.DataFrame(np.vstack((train0,train1)), columns=quality.columns).convert_objects(convert_numeric=True)\n",
      "qualityTest = pd.DataFrame(np.vstack((test0,test1)), columns=quality.columns).convert_objects(convert_numeric=True)"
     ],
     "language": "python",
     "metadata": {},
     "outputs": [],
     "prompt_number": 6
    },
    {
     "cell_type": "markdown",
     "metadata": {},
     "source": [
      "## Logistic Regression Model Using `statsmodels`\n",
      "Need to create a dummy variable for intercept"
     ]
    },
    {
     "cell_type": "code",
     "collapsed": false,
     "input": [
      "qualityTrain['Intercept'] = 1\n",
      "import statsmodels.api as sm\n",
      "QualityLog = sm.Logit(qualityTrain['PoorCare'], qualityTrain[['OfficeVisits','Narcotics','Intercept']]).fit()\n",
      "print QualityLog.summary()"
     ],
     "language": "python",
     "metadata": {},
     "outputs": [
      {
       "output_type": "stream",
       "stream": "stdout",
       "text": [
        "Optimization terminated successfully.\n",
        "         Current function value: 0.389286\n",
        "         Iterations 7\n",
        "                           Logit Regression Results                           \n",
        "==============================================================================\n",
        "Dep. Variable:               PoorCare   No. Observations:                   97\n",
        "Model:                          Logit   Df Residuals:                       94\n",
        "Method:                           MLE   Df Model:                            2\n",
        "Date:                Wed, 18 Mar 2015   Pseudo R-squ.:                  0.3042\n",
        "Time:                        09:55:21   Log-Likelihood:                -37.761\n",
        "converged:                       True   LL-Null:                       -54.270\n",
        "                                        LLR p-value:                 6.762e-08\n",
        "================================================================================\n",
        "                   coef    std err          z      P>|z|      [95.0% Conf. Int.]\n",
        "--------------------------------------------------------------------------------\n",
        "OfficeVisits     0.0715      0.031      2.341      0.019         0.012     0.131\n",
        "Narcotics        0.1774      0.064      2.764      0.006         0.052     0.303\n",
        "Intercept       -2.8730      0.574     -5.003      0.000        -3.998    -1.748\n",
        "================================================================================\n"
       ]
      }
     ],
     "prompt_number": 7
    },
    {
     "cell_type": "markdown",
     "metadata": {},
     "source": [
      "## Make predictions on training set"
     ]
    },
    {
     "cell_type": "code",
     "collapsed": false,
     "input": [
      "predictTrain =  QualityLog.predict()\n",
      "print predictTrain"
     ],
     "language": "python",
     "metadata": {},
     "outputs": [
      {
       "output_type": "stream",
       "stream": "stdout",
       "text": [
        "[ 0.21409682  0.20792723  0.15513627  0.15513627  0.16952904  0.09102833\n",
        "  0.11761437  0.09102833  0.12095314  0.10356925  0.0612244   0.57347677\n",
        "  0.12123395  0.09711829  0.11382242  0.13328096  0.09711829  0.0612244\n",
        "  0.08528419  0.14175685  0.1366838   0.09102833  0.16005598  0.13699543\n",
        "  0.11013747  0.29329533  0.2938425   0.11382242  0.1964003   0.12876152\n",
        "  0.29493862  0.31685708  0.07987066  0.14175685  0.07987066  0.12095314\n",
        "  0.11013747  0.06997534  0.10017872  0.08528419  0.07987066  0.5850803\n",
        "  0.21994553  0.20705952  0.20792723  0.36253852  0.18022127  0.11761437\n",
        "  0.10680892  0.28513498  0.19102437  0.2867511   0.08528419  0.09391682\n",
        "  0.1290578   0.09102833  0.16473785  0.07718914  0.43083676  0.16990082\n",
        "  0.07459035  0.11382242  0.27235695  0.12095314  0.12523791  0.25237953\n",
        "  0.05350486  0.07477268  0.08528419  0.07224887  0.1290578   0.05350486\n",
        "  0.09711829  0.99921197  0.95532822  0.98353566  0.602321    0.266104\n",
        "  0.14175685  0.99815848  0.42370491  0.11013747  0.4688101   0.99993188\n",
        "  0.21994553  0.15513627  0.10332455  0.92141417  0.12523791  0.11355656\n",
        "  0.09081026  0.19061698  0.95532822  0.57347677  0.96700293  0.13297648\n",
        "  0.93300705]\n"
       ]
      }
     ],
     "prompt_number": 8
    },
    {
     "cell_type": "markdown",
     "metadata": {},
     "source": [
      "## Analyze predictions\n",
      "I am taking advantage of the `describe()` and `groupby()` functions of `DataFrame` objects to do the calculations."
     ]
    },
    {
     "cell_type": "code",
     "collapsed": false,
     "input": [
      "print pd.DataFrame(predictTrain).describe()"
     ],
     "language": "python",
     "metadata": {},
     "outputs": [
      {
       "output_type": "stream",
       "stream": "stdout",
       "text": [
        "               0\n",
        "count  97.000000\n",
        "mean    0.247423\n",
        "std     0.260452\n",
        "min     0.053505\n",
        "25%     0.097118\n",
        "50%     0.133281\n",
        "75%     0.266104\n",
        "max     0.999932\n"
       ]
      }
     ],
     "prompt_number": 9
    },
    {
     "cell_type": "code",
     "collapsed": false,
     "input": [
      "df = pd.DataFrame({'predictTrain':predictTrain, 'PoorCare':qualityTrain['PoorCare']})\n",
      "df.groupby('PoorCare')['predictTrain'].mean()"
     ],
     "language": "python",
     "metadata": {},
     "outputs": [
      {
       "metadata": {},
       "output_type": "pyout",
       "prompt_number": 10,
       "text": [
        "PoorCare\n",
        "0           0.158482\n",
        "1           0.517951\n",
        "Name: predictTrain, dtype: float64"
       ]
      }
     ],
     "prompt_number": 10
    },
    {
     "cell_type": "markdown",
     "metadata": {},
     "source": [
      "# Video 5\n",
      "## Confusion matrix for threshold of 0.5\n",
      "A little bit trickier to do the table"
     ]
    },
    {
     "cell_type": "code",
     "collapsed": false,
     "input": [
      "df['boolean'] = df['predictTrain'] >= 0.5\n",
      "print df.groupby(['PoorCare','boolean']).size()"
     ],
     "language": "python",
     "metadata": {},
     "outputs": [
      {
       "output_type": "stream",
       "stream": "stdout",
       "text": [
        "PoorCare  boolean\n",
        "0         False      71\n",
        "          True        2\n",
        "1         False      13\n",
        "          True       11\n",
        "dtype: int64\n"
       ]
      }
     ],
     "prompt_number": 11
    },
    {
     "cell_type": "markdown",
     "metadata": {},
     "source": [
      "## Sensitivity and specificity"
     ]
    },
    {
     "cell_type": "code",
     "collapsed": false,
     "input": [
      "11/24.0"
     ],
     "language": "python",
     "metadata": {},
     "outputs": [
      {
       "metadata": {},
       "output_type": "pyout",
       "prompt_number": 12,
       "text": [
        "0.4583333333333333"
       ]
      }
     ],
     "prompt_number": 12
    },
    {
     "cell_type": "code",
     "collapsed": false,
     "input": [
      "71/73.0"
     ],
     "language": "python",
     "metadata": {},
     "outputs": [
      {
       "metadata": {},
       "output_type": "pyout",
       "prompt_number": 13,
       "text": [
        "0.9726027397260274"
       ]
      }
     ],
     "prompt_number": 13
    },
    {
     "cell_type": "markdown",
     "metadata": {},
     "source": [
      "## Confusion matrix for threshold of 0.7"
     ]
    },
    {
     "cell_type": "code",
     "collapsed": false,
     "input": [
      "df['boolean'] = df['predictTrain'] >= 0.7\n",
      "print df.groupby(['PoorCare','boolean']).size()"
     ],
     "language": "python",
     "metadata": {},
     "outputs": [
      {
       "output_type": "stream",
       "stream": "stdout",
       "text": [
        "PoorCare  boolean\n",
        "0         False      73\n",
        "1         False      15\n",
        "          True        9\n",
        "dtype: int64\n"
       ]
      }
     ],
     "prompt_number": 15
    },
    {
     "cell_type": "markdown",
     "metadata": {},
     "source": [
      "## Sensitivity and specificity"
     ]
    },
    {
     "cell_type": "code",
     "collapsed": false,
     "input": [
      "9/24.0"
     ],
     "language": "python",
     "metadata": {},
     "outputs": [
      {
       "metadata": {},
       "output_type": "pyout",
       "prompt_number": 16,
       "text": [
        "0.375"
       ]
      }
     ],
     "prompt_number": 16
    },
    {
     "cell_type": "code",
     "collapsed": false,
     "input": [
      "73/73.0"
     ],
     "language": "python",
     "metadata": {},
     "outputs": [
      {
       "metadata": {},
       "output_type": "pyout",
       "prompt_number": 17,
       "text": [
        "1.0"
       ]
      }
     ],
     "prompt_number": 17
    },
    {
     "cell_type": "markdown",
     "metadata": {},
     "source": [
      "## Confusion matrix for threshold of 0.2\n",
      "This time using `confusion_matrix` from `scikit-learn`"
     ]
    },
    {
     "cell_type": "code",
     "collapsed": false,
     "input": [
      "from sklearn.metrics import confusion_matrix\n",
      "df['boolean'] = df['predictTrain'] >= 0.2\n",
      "print confusion_matrix(df['PoorCare'] == 1, df['boolean'])"
     ],
     "language": "python",
     "metadata": {},
     "outputs": [
      {
       "output_type": "stream",
       "stream": "stdout",
       "text": [
        "[[56 17]\n",
        " [ 9 15]]\n"
       ]
      }
     ],
     "prompt_number": 20
    },
    {
     "cell_type": "markdown",
     "metadata": {},
     "source": [
      "## Sensitivity and specificity"
     ]
    },
    {
     "cell_type": "code",
     "collapsed": false,
     "input": [
      "15.0/24"
     ],
     "language": "python",
     "metadata": {},
     "outputs": [
      {
       "metadata": {},
       "output_type": "pyout",
       "prompt_number": 17,
       "text": [
        "0.625"
       ]
      }
     ],
     "prompt_number": 17
    },
    {
     "cell_type": "code",
     "collapsed": false,
     "input": [
      "56.0/73"
     ],
     "language": "python",
     "metadata": {},
     "outputs": [
      {
       "metadata": {},
       "output_type": "pyout",
       "prompt_number": 21,
       "text": [
        "0.7671232876712328"
       ]
      }
     ],
     "prompt_number": 21
    },
    {
     "cell_type": "markdown",
     "metadata": {},
     "source": [
      "# Video 6\n",
      "## Performance function\n",
      "Using `metrics` from `scikit-learn`"
     ]
    },
    {
     "cell_type": "code",
     "collapsed": false,
     "input": [
      "from sklearn.metrics import roc_curve, auc\n",
      "fpr, tpr, thresholds = roc_curve(df['PoorCare'] == 1, df['predictTrain'])\n",
      "roc_auc = auc(fpr, tpr)"
     ],
     "language": "python",
     "metadata": {},
     "outputs": [],
     "prompt_number": 22
    },
    {
     "cell_type": "markdown",
     "metadata": {},
     "source": [
      "## Plot ROC curve\n",
      "I have given up on coloring the line... and the thresholds are not as nice as R's ROCR package."
     ]
    },
    {
     "cell_type": "code",
     "collapsed": false,
     "input": [
      "import matplotlib.pyplot as plt\n",
      "plt.figure()\n",
      "plt.plot(fpr, tpr, label='ROC curve (area = %0.2f)' % roc_auc)\n",
      "plt.plot([0, 1], [0, 1], 'k--')\n",
      "for i in range(len(fpr)):\n",
      "    if i%5 == 0:\n",
      "        plt.text(fpr[i],tpr[i],str(round(thresholds[i],2)))\n",
      "plt.xlim([0.0, 1.0])\n",
      "plt.ylim([0.0, 1.05])\n",
      "plt.xlabel('False Positive Rate')\n",
      "plt.ylabel('True Positive Rate')\n",
      "plt.title('Receiver operating characteristic Plot')\n",
      "plt.legend(loc=\"lower right\")\n",
      "plt.show()"
     ],
     "language": "python",
     "metadata": {},
     "outputs": [
      {
       "metadata": {},
       "output_type": "display_data",
       "png": "[encoded data removed]",
       "text": [
        "<matplotlib.figure.Figure at 0xae2e518>"
       ]
      }
     ],
     "prompt_number": 23
    }
   ],
   "metadata": {}
  }
 ]
}