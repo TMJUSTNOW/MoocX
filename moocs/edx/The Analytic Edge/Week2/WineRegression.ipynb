{
 "metadata": {
  "name": "",
  "signature": "sha256:b567d1bddedb7bb3c018c40478db49b8e5fa721e53490ea7ab4e9ab1028ccaa0"
 },
 "nbformat": 3,
 "nbformat_minor": 0,
 "worksheets": [
  {
   "cells": [
    {
     "cell_type": "markdown",
     "metadata": {},
     "source": [
      "# The Analytic Edge Lecture code in Python\n",
      "## With pandas, numpy\n",
      "# Week 2 VIDEO 4\n",
      "## Read in data"
     ]
    },
    {
     "cell_type": "code",
     "collapsed": false,
     "input": [
      "import os\n",
      "import pandas as pd\n",
      "\n",
      "os.chdir('C:\\\\Users\\\\iris\\\\Downloads\\\\analyric edge\\\\week2')\n",
      "wine = pd.read_csv(\"wine.csv\")\n",
      "print wine.dtypes"
     ],
     "language": "python",
     "metadata": {},
     "outputs": [
      {
       "output_type": "stream",
       "stream": "stdout",
       "text": [
        "Year             int64\n",
        "Price          float64\n",
        "WinterRain       int64\n",
        "AGST           float64\n",
        "HarvestRain      int64\n",
        "Age              int64\n",
        "FrancePop      float64\n",
        "dtype: object\n"
       ]
      }
     ],
     "prompt_number": 3
    },
    {
     "cell_type": "code",
     "collapsed": false,
     "input": [
      "print wine.describe()"
     ],
     "language": "python",
     "metadata": {},
     "outputs": [
      {
       "output_type": "stream",
       "stream": "stdout",
       "text": [
        "              Year      Price  WinterRain       AGST  HarvestRain        Age  \\\n",
        "count    25.000000  25.000000   25.000000  25.000000    25.000000  25.000000   \n",
        "mean   1965.800000   7.067224  605.280000  16.509336   148.560000  17.200000   \n",
        "std       7.691987   0.650341  132.277965   0.675397    74.419464   7.691987   \n",
        "min    1952.000000   6.204900  376.000000  14.983300    38.000000   5.000000   \n",
        "25%    1960.000000   6.518800  536.000000  16.200000    89.000000  11.000000   \n",
        "50%    1966.000000   7.121100  600.000000  16.533300   130.000000  17.000000   \n",
        "75%    1972.000000   7.495000  697.000000  17.066700   187.000000  23.000000   \n",
        "max    1978.000000   8.493700  830.000000  17.650000   292.000000  31.000000   \n",
        "\n",
        "          FrancePop  \n",
        "count     25.000000  \n",
        "mean   49694.436760  \n",
        "std     3665.270243  \n",
        "min    43183.569000  \n",
        "25%    46583.995000  \n",
        "50%    50254.966000  \n",
        "75%    52894.183000  \n",
        "max    54602.193000  \n"
       ]
      }
     ],
     "prompt_number": 5
    },
    {
     "cell_type": "markdown",
     "metadata": {},
     "source": [
      "## Linear Regression (one variable)\n",
      "I will try to use scikit-learn to do modeling in Python    \n",
      "Notice the scikit learn expect X to be a 2-D matrix rather than an 1-D array when fitting the model    \n",
      "So simply using `clf.fit(wine['AGST'], wine['Price'])` won't work"
     ]
    },
    {
     "cell_type": "code",
     "collapsed": false,
     "input": [
      "from sklearn import linear_model\n",
      "model1 = linear_model.LinearRegression()\n",
      "model1.fit(np.array(wine['AGST'])[:,np.newaxis], wine['Price'])"
     ],
     "language": "python",
     "metadata": {},
     "outputs": [
      {
       "metadata": {},
       "output_type": "pyout",
       "prompt_number": 20,
       "text": [
        "LinearRegression(copy_X=True, fit_intercept=True, normalize=False)"
       ]
      }
     ],
     "prompt_number": 20
    },
    {
     "cell_type": "markdown",
     "metadata": {},
     "source": [
      "Or equvalently"
     ]
    },
    {
     "cell_type": "code",
     "collapsed": false,
     "input": [
      "model1.fit(np.matrix([wine['AGST'].as_matrix()]).transpose(), wine['Price'])"
     ],
     "language": "python",
     "metadata": {},
     "outputs": [
      {
       "metadata": {},
       "output_type": "pyout",
       "prompt_number": 21,
       "text": [
        "LinearRegression(copy_X=True, fit_intercept=True, normalize=False)"
       ]
      }
     ],
     "prompt_number": 21
    },
    {
     "cell_type": "markdown",
     "metadata": {},
     "source": [
      "There is no simple way to output a detailed summary of the model in scikit-learn like `summary(model)` in R  \n",
      "You can get the intercept and coefficients of the fitted model like this:"
     ]
    },
    {
     "cell_type": "code",
     "collapsed": false,
     "input": [
      "print model1.coef_ ,  model1.intercept_"
     ],
     "language": "python",
     "metadata": {},
     "outputs": [
      {
       "output_type": "stream",
       "stream": "stdout",
       "text": [
        "[ 0.63509431] -3.41776131349\n"
       ]
      }
     ],
     "prompt_number": 23
    },
    {
     "cell_type": "markdown",
     "metadata": {},
     "source": [
      "## Sum of Squared Errors"
     ]
    },
    {
     "cell_type": "code",
     "collapsed": false,
     "input": [
      "# make prediction on the training data\n",
      "model1Pred = model1.predict(np.array(wine['AGST'])[:,np.newaxis]) \n",
      "# calculating and printing out SSE\n",
      "print sum(( model1Pred - wine['Price'])**2)"
     ],
     "language": "python",
     "metadata": {},
     "outputs": [
      {
       "output_type": "stream",
       "stream": "stdout",
       "text": [
        "5.73487514702\n"
       ]
      }
     ],
     "prompt_number": 27
    },
    {
     "cell_type": "markdown",
     "metadata": {},
     "source": [
      "If you really wanted detailed statistical summary of the model, take a look at `statsmodels` rather than `scikit-learn`"
     ]
    },
    {
     "cell_type": "markdown",
     "metadata": {},
     "source": [
      "## Linear Regression (two variables)"
     ]
    },
    {
     "cell_type": "code",
     "collapsed": false,
     "input": [
      "model2 = linear_model.LinearRegression()\n",
      "model2.fit(wine[['AGST','HarvestRain']], wine['Price'])"
     ],
     "language": "python",
     "metadata": {},
     "outputs": [
      {
       "metadata": {},
       "output_type": "pyout",
       "prompt_number": 25,
       "text": [
        "LinearRegression(copy_X=True, fit_intercept=True, normalize=False)"
       ]
      }
     ],
     "prompt_number": 25
    },
    {
     "cell_type": "code",
     "collapsed": false,
     "input": [
      "print model2.coef_ ,  model2.intercept_"
     ],
     "language": "python",
     "metadata": {},
     "outputs": [
      {
       "output_type": "stream",
       "stream": "stdout",
       "text": [
        "[ 0.60261691 -0.00457006] -2.20265360095\n"
       ]
      }
     ],
     "prompt_number": 26
    },
    {
     "cell_type": "code",
     "collapsed": false,
     "input": [
      "print sum(( model2.predict(wine[['AGST','HarvestRain']]) - wine['Price'])**2)"
     ],
     "language": "python",
     "metadata": {},
     "outputs": [
      {
       "output_type": "stream",
       "stream": "stdout",
       "text": [
        "2.97037334017\n"
       ]
      }
     ],
     "prompt_number": 28
    },
    {
     "cell_type": "markdown",
     "metadata": {},
     "source": [
      "## Linear Regression (all variables)\n",
      "Store the predictors in a list"
     ]
    },
    {
     "cell_type": "code",
     "collapsed": false,
     "input": [
      "predictors3 = ['AGST', 'HarvestRain', 'WinterRain', 'Age', 'FrancePop']\n",
      "model3 = linear_model.LinearRegression()\n",
      "model3.fit(wine[predictors3], wine['Price'])"
     ],
     "language": "python",
     "metadata": {},
     "outputs": [
      {
       "metadata": {},
       "output_type": "pyout",
       "prompt_number": 54,
       "text": [
        "LinearRegression(copy_X=True, fit_intercept=True, normalize=False)"
       ]
      }
     ],
     "prompt_number": 54
    },
    {
     "cell_type": "code",
     "collapsed": false,
     "input": [
      "print model3.coef_ ,  model3.intercept_"
     ],
     "language": "python",
     "metadata": {},
     "outputs": [
      {
       "output_type": "stream",
       "stream": "stdout",
       "text": [
        "[  6.01223884e-01  -3.95812450e-03   1.04250681e-03   5.84748489e-04\n",
        "  -4.95273038e-05] -0.450398864395\n"
       ]
      }
     ],
     "prompt_number": 55
    },
    {
     "cell_type": "markdown",
     "metadata": {},
     "source": [
      "I guess I should produce a nicer printing..."
     ]
    },
    {
     "cell_type": "code",
     "collapsed": false,
     "input": [
      "ts = zip(predictors3, model3.coef_)\n",
      "ts.append(('Intercept', model3.intercept_))\n",
      "for t in ts:\n",
      "    print \"%11s\" % t[0], t[1]"
     ],
     "language": "python",
     "metadata": {},
     "outputs": [
      {
       "output_type": "stream",
       "stream": "stdout",
       "text": [
        "       AGST 0.601223883846\n",
        "HarvestRain -0.00395812450088\n",
        " WinterRain 0.00104250681324\n",
        "        Age 0.000584748489476\n",
        "  FrancePop -4.9527303815e-05\n",
        "  Intercept -0.450398864395\n"
       ]
      }
     ],
     "prompt_number": 56
    },
    {
     "cell_type": "code",
     "collapsed": false,
     "input": [
      "print sum(( model3.predict(wine[predictors3]) - wine['Price'])**2)"
     ],
     "language": "python",
     "metadata": {},
     "outputs": [
      {
       "output_type": "stream",
       "stream": "stdout",
       "text": [
        "1.73211271534\n"
       ]
      }
     ],
     "prompt_number": 57
    },
    {
     "cell_type": "markdown",
     "metadata": {},
     "source": [
      "# VIDEO 5\n",
      "## Remove FrancePop"
     ]
    },
    {
     "cell_type": "code",
     "collapsed": false,
     "input": [
      "predictors4 = ['AGST', 'HarvestRain', 'WinterRain', 'Age']\n",
      "model4 = linear_model.LinearRegression()\n",
      "model4.fit(wine[predictors4], wine['Price'])"
     ],
     "language": "python",
     "metadata": {},
     "outputs": [
      {
       "metadata": {},
       "output_type": "pyout",
       "prompt_number": 58,
       "text": [
        "LinearRegression(copy_X=True, fit_intercept=True, normalize=False)"
       ]
      }
     ],
     "prompt_number": 58
    },
    {
     "cell_type": "code",
     "collapsed": false,
     "input": [
      "ts = zip(predictors4, model4.coef_)\n",
      "ts.append(('Intercept', model4.intercept_))\n",
      "for t in ts:\n",
      "    print \"%11s\" % t[0], t[1]"
     ],
     "language": "python",
     "metadata": {},
     "outputs": [
      {
       "output_type": "stream",
       "stream": "stdout",
       "text": [
        "       AGST 0.607209347684\n",
        "HarvestRain -0.00397153413288\n",
        " WinterRain 0.00107550528687\n",
        "        Age 0.0239308322336\n",
        "  Intercept -3.42998018693\n"
       ]
      }
     ],
     "prompt_number": 59
    },
    {
     "cell_type": "markdown",
     "metadata": {},
     "source": [
      "# VIDEO 6\n",
      "## Correlations\n",
      "Pearson correlation coefficient between two variables"
     ]
    },
    {
     "cell_type": "code",
     "collapsed": false,
     "input": [
      "import numpy as np\n",
      "print np.corrcoef(wine['WinterRain'], wine['Price'])[0,1]"
     ],
     "language": "python",
     "metadata": {},
     "outputs": [
      {
       "output_type": "stream",
       "stream": "stdout",
       "text": [
        "0.136650547388\n"
       ]
      }
     ],
     "prompt_number": 61
    },
    {
     "cell_type": "code",
     "collapsed": false,
     "input": [
      "print np.corrcoef(wine['Age'], wine['FrancePop'])[0,1]"
     ],
     "language": "python",
     "metadata": {},
     "outputs": [
      {
       "output_type": "stream",
       "stream": "stdout",
       "text": [
        "-0.994485097111\n"
       ]
      }
     ],
     "prompt_number": 63
    },
    {
     "cell_type": "markdown",
     "metadata": {},
     "source": [
      "Correlation Matrix"
     ]
    },
    {
     "cell_type": "code",
     "collapsed": false,
     "input": [
      "print wine.corr()"
     ],
     "language": "python",
     "metadata": {},
     "outputs": [
      {
       "output_type": "stream",
       "stream": "stdout",
       "text": [
        "                 Year     Price  WinterRain      AGST  HarvestRain       Age  \\\n",
        "Year         1.000000 -0.447768    0.016970 -0.246916     0.028009 -1.000000   \n",
        "Price       -0.447768  1.000000    0.136651  0.659563    -0.563322  0.447768   \n",
        "WinterRain   0.016970  0.136651    1.000000 -0.321091    -0.275441 -0.016970   \n",
        "AGST        -0.246916  0.659563   -0.321091  1.000000    -0.064496  0.246916   \n",
        "HarvestRain  0.028009 -0.563322   -0.275441 -0.064496     1.000000 -0.028009   \n",
        "Age         -1.000000  0.447768   -0.016970  0.246916    -0.028009  1.000000   \n",
        "FrancePop    0.994485 -0.466862   -0.001622 -0.259162     0.041264 -0.994485   \n",
        "\n",
        "             FrancePop  \n",
        "Year          0.994485  \n",
        "Price        -0.466862  \n",
        "WinterRain   -0.001622  \n",
        "AGST         -0.259162  \n",
        "HarvestRain   0.041264  \n",
        "Age          -0.994485  \n",
        "FrancePop     1.000000  \n"
       ]
      }
     ],
     "prompt_number": 68
    },
    {
     "cell_type": "markdown",
     "metadata": {},
     "source": [
      "# VIDEO 7\n",
      "## Read in test set"
     ]
    },
    {
     "cell_type": "code",
     "collapsed": false,
     "input": [
      "wineTest = pd.read_csv(\"wine_test.csv\")\n",
      "wineTest.dtypes"
     ],
     "language": "python",
     "metadata": {},
     "outputs": [
      {
       "metadata": {},
       "output_type": "pyout",
       "prompt_number": 72,
       "text": [
        "Year             int64\n",
        "Price          float64\n",
        "WinterRain       int64\n",
        "AGST           float64\n",
        "HarvestRain      int64\n",
        "Age              int64\n",
        "FrancePop      float64\n",
        "dtype: object"
       ]
      }
     ],
     "prompt_number": 72
    },
    {
     "cell_type": "markdown",
     "metadata": {},
     "source": [
      "## Make test set predictions"
     ]
    },
    {
     "cell_type": "code",
     "collapsed": false,
     "input": [
      "predictTest = model4.predict(wineTest[predictors4])\n",
      "print predictTest"
     ],
     "language": "python",
     "metadata": {},
     "outputs": [
      {
       "output_type": "stream",
       "stream": "stdout",
       "text": [
        "[ 6.76892463  6.6849104 ]\n"
       ]
      }
     ],
     "prompt_number": 76
    },
    {
     "cell_type": "markdown",
     "metadata": {},
     "source": [
      "## Compute R-squared"
     ]
    },
    {
     "cell_type": "code",
     "collapsed": false,
     "input": [
      "SSE = sum((predictTest - wineTest['Price'])**2)\n",
      "SST = sum((wineTest['Price'] - mean(wineTest['Price']))**2)\n",
      "print 1 - SSE/SST"
     ],
     "language": "python",
     "metadata": {},
     "outputs": [
      {
       "output_type": "stream",
       "stream": "stdout",
       "text": [
        "0.334390470275\n"
       ]
      }
     ],
     "prompt_number": 80
    },
    {
     "cell_type": "code",
     "collapsed": false,
     "input": [
      "print model4.score(wineTest[predictors4], wineTest['Price'])"
     ],
     "language": "python",
     "metadata": {},
     "outputs": [
      {
       "output_type": "stream",
       "stream": "stdout",
       "text": [
        "0.334390470275\n"
       ]
      }
     ],
     "prompt_number": 81
    }
   ],
   "metadata": {}
  }
 ]
}