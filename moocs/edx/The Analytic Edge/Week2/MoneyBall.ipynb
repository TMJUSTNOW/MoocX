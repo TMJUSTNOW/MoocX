{
 "metadata": {
  "name": "",
  "signature": "sha256:f359c3dc3ba16aed94d61562564d1d0b30e2800bf54727b6b9ee020fdd594689"
 },
 "nbformat": 3,
 "nbformat_minor": 0,
 "worksheets": [
  {
   "cells": [
    {
     "cell_type": "markdown",
     "metadata": {},
     "source": [
      "# VIDEO 2\n",
      "## Read in data"
     ]
    },
    {
     "cell_type": "code",
     "collapsed": false,
     "input": [
      "import pandas as pd\n",
      "import os\n",
      "os.chdir('C:\\\\Users\\\\iris\\\\Downloads\\\\analytic edge\\\\week2')\n",
      "baseball = pd.read_csv(\"baseball.csv\")\n",
      "print baseball.dtypes\n",
      "print baseball.shape"
     ],
     "language": "python",
     "metadata": {},
     "outputs": [
      {
       "output_type": "stream",
       "stream": "stdout",
       "text": [
        "Team             object\n",
        "League           object\n",
        "Year              int64\n",
        "RS                int64\n",
        "RA                int64\n",
        "W                 int64\n",
        "OBP             float64\n",
        "SLG             float64\n",
        "BA              float64\n",
        "Playoffs          int64\n",
        "RankSeason      float64\n",
        "RankPlayoffs    float64\n",
        "G                 int64\n",
        "OOBP            float64\n",
        "OSLG            float64\n",
        "dtype: object\n",
        "(1232, 15)\n"
       ]
      }
     ],
     "prompt_number": 3
    },
    {
     "cell_type": "markdown",
     "metadata": {},
     "source": [
      "## Subset to only include moneyball years\n",
      "First create a logical vector of True and Falses    \n",
      "Then use the logical vector to subset the dataframe   "
     ]
    },
    {
     "cell_type": "code",
     "collapsed": false,
     "input": [
      "year = baseball['Year'] < 2002\n",
      "moneyball = baseball[year]\n",
      "print moneyball.shape"
     ],
     "language": "python",
     "metadata": {},
     "outputs": [
      {
       "output_type": "stream",
       "stream": "stdout",
       "text": [
        "(902, 15)\n"
       ]
      }
     ],
     "prompt_number": 14
    },
    {
     "cell_type": "markdown",
     "metadata": {},
     "source": [
      "## Compute Run Difference  \n",
      "To avoid error message, use `column.copy()` rather than directly using `column`"
     ]
    },
    {
     "cell_type": "code",
     "collapsed": false,
     "input": [
      "moneyball['RD'] = moneyball['RS'].copy() - moneyball['RA'].copy()\n",
      "print moneyball.dtypes"
     ],
     "language": "python",
     "metadata": {},
     "outputs": [
      {
       "output_type": "stream",
       "stream": "stdout",
       "text": [
        "Team             object\n",
        "League           object\n",
        "Year              int64\n",
        "RS                int64\n",
        "RA                int64\n",
        "W                 int64\n",
        "OBP             float64\n",
        "SLG             float64\n",
        "BA              float64\n",
        "Playoffs          int64\n",
        "RankSeason      float64\n",
        "RankPlayoffs    float64\n",
        "G                 int64\n",
        "OOBP            float64\n",
        "OSLG            float64\n",
        "RD                int64\n",
        "dtype: object\n"
       ]
      }
     ],
     "prompt_number": 15
    },
    {
     "cell_type": "markdown",
     "metadata": {},
     "source": [
      "## Scatterplot to check for linear relationship"
     ]
    },
    {
     "cell_type": "code",
     "collapsed": false,
     "input": [
      "moneyball.plot( x = 'RD', y = 'W', kind = 'scatter')"
     ],
     "language": "python",
     "metadata": {},
     "outputs": [
      {
       "metadata": {},
       "output_type": "pyout",
       "prompt_number": 16,
       "text": [
        "<matplotlib.axes._subplots.AxesSubplot at 0xa9f0240>"
       ]
      },
      {
       "metadata": {},
       "output_type": "display_data",
       "png": "[encoded data removed]",
       "text": [
        "<matplotlib.figure.Figure at 0xab4a7b8>"
       ]
      }
     ],
     "prompt_number": 16
    },
    {
     "cell_type": "markdown",
     "metadata": {},
     "source": [
      "## Regression model to predict wins\n",
      "I will be using statsmodels for this linear regression model"
     ]
    },
    {
     "cell_type": "code",
     "collapsed": false,
     "input": [
      "import statsmodels.formula.api as smf\n",
      "winsReg = smf.ols('W ~ RD', data = moneyball).fit()\n",
      "print winsReg.summary()"
     ],
     "language": "python",
     "metadata": {},
     "outputs": [
      {
       "output_type": "stream",
       "stream": "stdout",
       "text": [
        "                            OLS Regression Results                            \n",
        "==============================================================================\n",
        "Dep. Variable:                      W   R-squared:                       0.881\n",
        "Model:                            OLS   Adj. R-squared:                  0.881\n",
        "Method:                 Least Squares   F-statistic:                     6651.\n",
        "Date:                Tue, 10 Mar 2015   Prob (F-statistic):               0.00\n",
        "Time:                        19:52:09   Log-Likelihood:                -2515.5\n",
        "No. Observations:                 902   AIC:                             5035.\n",
        "Df Residuals:                     900   BIC:                             5045.\n",
        "Df Model:                           1                                         \n",
        "Covariance Type:            nonrobust                                         \n",
        "==============================================================================\n",
        "                 coef    std err          t      P>|t|      [95.0% Conf. Int.]\n",
        "------------------------------------------------------------------------------\n",
        "Intercept     80.8814      0.131    616.675      0.000        80.624    81.139\n",
        "RD             0.1058      0.001     81.554      0.000         0.103     0.108\n",
        "==============================================================================\n",
        "Omnibus:                        5.788   Durbin-Watson:                   2.076\n",
        "Prob(Omnibus):                  0.055   Jarque-Bera (JB):                5.736\n",
        "Skew:                          -0.195   Prob(JB):                       0.0568\n",
        "Kurtosis:                       3.033   Cond. No.                         101.\n",
        "==============================================================================\n",
        "\n",
        "Warnings:\n",
        "[1] Standard Errors assume that the covariance matrix of the errors is correctly specified.\n"
       ]
      }
     ],
     "prompt_number": 20
    },
    {
     "cell_type": "markdown",
     "metadata": {},
     "source": [
      "## Regression model to predict runs scored"
     ]
    },
    {
     "cell_type": "code",
     "collapsed": false,
     "input": [
      "RunsReg = smf.ols('RS ~ OBP + SLG + BA', data = moneyball).fit()\n",
      "print RunsReg.summary()"
     ],
     "language": "python",
     "metadata": {},
     "outputs": [
      {
       "output_type": "stream",
       "stream": "stdout",
       "text": [
        "                            OLS Regression Results                            \n",
        "==============================================================================\n",
        "Dep. Variable:                     RS   R-squared:                       0.930\n",
        "Model:                            OLS   Adj. R-squared:                  0.930\n",
        "Method:                 Least Squares   F-statistic:                     3989.\n",
        "Date:                Tue, 10 Mar 2015   Prob (F-statistic):               0.00\n",
        "Time:                        19:55:24   Log-Likelihood:                -4170.2\n",
        "No. Observations:                 902   AIC:                             8348.\n",
        "Df Residuals:                     898   BIC:                             8368.\n",
        "Df Model:                           3                                         \n",
        "Covariance Type:            nonrobust                                         \n",
        "==============================================================================\n",
        "                 coef    std err          t      P>|t|      [95.0% Conf. Int.]\n",
        "------------------------------------------------------------------------------\n",
        "Intercept   -788.4570     19.697    -40.029      0.000      -827.115  -749.799\n",
        "OBP         2917.4214    110.466     26.410      0.000      2700.619  3134.224\n",
        "SLG         1637.9277     45.994     35.612      0.000      1547.659  1728.197\n",
        "BA          -368.9661    130.580     -2.826      0.005      -625.244  -112.688\n",
        "==============================================================================\n",
        "Omnibus:                        3.441   Durbin-Watson:                   1.943\n",
        "Prob(Omnibus):                  0.179   Jarque-Bera (JB):                3.381\n",
        "Skew:                           0.150   Prob(JB):                        0.184\n",
        "Kurtosis:                       3.018   Cond. No.                         214.\n",
        "==============================================================================\n",
        "\n",
        "Warnings:\n",
        "[1] Standard Errors assume that the covariance matrix of the errors is correctly specified.\n"
       ]
      }
     ],
     "prompt_number": 21
    },
    {
     "cell_type": "code",
     "collapsed": false,
     "input": [
      "RunsReg = smf.ols('RS ~ OBP + SLG', data = moneyball).fit()\n",
      "print RunsReg.summary()"
     ],
     "language": "python",
     "metadata": {},
     "outputs": [
      {
       "output_type": "stream",
       "stream": "stdout",
       "text": [
        "                            OLS Regression Results                            \n",
        "==============================================================================\n",
        "Dep. Variable:                     RS   R-squared:                       0.930\n",
        "Model:                            OLS   Adj. R-squared:                  0.929\n",
        "Method:                 Least Squares   F-statistic:                     5934.\n",
        "Date:                Tue, 10 Mar 2015   Prob (F-statistic):               0.00\n",
        "Time:                        19:55:49   Log-Likelihood:                -4174.2\n",
        "No. Observations:                 902   AIC:                             8354.\n",
        "Df Residuals:                     899   BIC:                             8369.\n",
        "Df Model:                           2                                         \n",
        "Covariance Type:            nonrobust                                         \n",
        "==============================================================================\n",
        "                 coef    std err          t      P>|t|      [95.0% Conf. Int.]\n",
        "------------------------------------------------------------------------------\n",
        "Intercept   -804.6271     18.921    -42.526      0.000      -841.761  -767.493\n",
        "OBP         2737.7680     90.685     30.190      0.000      2559.790  2915.746\n",
        "SLG         1584.9086     42.156     37.597      0.000      1502.174  1667.643\n",
        "==============================================================================\n",
        "Omnibus:                        3.099   Durbin-Watson:                   1.933\n",
        "Prob(Omnibus):                  0.212   Jarque-Bera (JB):                3.106\n",
        "Skew:                           0.143   Prob(JB):                        0.212\n",
        "Kurtosis:                       2.972   Cond. No.                         134.\n",
        "==============================================================================\n",
        "\n",
        "Warnings:\n",
        "[1] Standard Errors assume that the covariance matrix of the errors is correctly specified.\n"
       ]
      }
     ],
     "prompt_number": 22
    },
    {
     "cell_type": "code",
     "collapsed": false,
     "input": [],
     "language": "python",
     "metadata": {},
     "outputs": []
    }
   ],
   "metadata": {}
  }
 ]
}