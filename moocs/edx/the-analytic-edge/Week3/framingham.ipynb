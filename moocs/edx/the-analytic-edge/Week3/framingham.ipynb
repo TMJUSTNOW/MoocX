{
 "metadata": {
  "name": "framingham.ipynb"
 },
 "nbformat": 3,
 "nbformat_minor": 0,
 "worksheets": [
  {
   "cells": [
    {
     "cell_type": "markdown",
     "metadata": {},
     "source": [
      "# Unit 3, The Framingham Heart Study\n",
      "## Video 3\n",
      "## Read in the dataset"
     ]
    },
    {
     "cell_type": "code",
     "collapsed": false,
     "input": [
      "import os\n",
      "os.chdir('C:\\Users\\Violetta_Chen\\Downloads')\n",
      "import pandas as pd\n",
      "framingham = pd.read_csv(\"framingham.csv\")"
     ],
     "language": "python",
     "metadata": {},
     "outputs": [],
     "prompt_number": 31
    },
    {
     "cell_type": "markdown",
     "metadata": {},
     "source": [
      "## Look at structure"
     ]
    },
    {
     "cell_type": "code",
     "collapsed": false,
     "input": [
      "def dfStr(df):\n",
      "    print \"The dataframe contains {0} rows and {1} columns\".format(df.shape[0], df.shape[1])\n",
      "    print \"The data types of columns are: \\n\"\n",
      "    print df.dtypes\n",
      "\n",
      "dfStr(framingham)"
     ],
     "language": "python",
     "metadata": {},
     "outputs": [
      {
       "output_type": "stream",
       "stream": "stdout",
       "text": [
        "The dataframe contains 4240 rows and 16 columns\n",
        "The data types of columns are: \n",
        "\n",
        "male                 int64\n",
        "age                  int64\n",
        "education          float64\n",
        "currentSmoker        int64\n",
        "cigsPerDay         float64\n",
        "BPMeds             float64\n",
        "prevalentStroke      int64\n",
        "prevalentHyp         int64\n",
        "diabetes             int64\n",
        "totChol            float64\n",
        "sysBP              float64\n",
        "diaBP              float64\n",
        "BMI                float64\n",
        "heartRate          float64\n",
        "glucose            float64\n",
        "TenYearCHD           int64\n",
        "dtype: object\n"
       ]
      }
     ],
     "prompt_number": 32
    },
    {
     "cell_type": "markdown",
     "metadata": {},
     "source": [
      "## Randomly split the data into training and testing sets"
     ]
    },
    {
     "cell_type": "code",
     "collapsed": false,
     "input": [
      "from sklearn.cross_validation import train_test_split\n",
      "train0, test0 = train_test_split(framingham.loc[framingham['TenYearCHD'] == 0,:], train_size=0.65, random_state=1000)\n",
      "train1, test1 = train_test_split(framingham.loc[framingham['TenYearCHD'] == 1,:], train_size=0.65, random_state=1000)\n",
      "framinghamTrain = pd.DataFrame(np.vstack((train0,train1)), columns=framingham.columns).convert_objects(convert_numeric=True)\n",
      "framinghamTest = pd.DataFrame(np.vstack((test0,test1)), columns=framingham.columns).convert_objects(convert_numeric=True)"
     ],
     "language": "python",
     "metadata": {},
     "outputs": [],
     "prompt_number": 33
    },
    {
     "cell_type": "markdown",
     "metadata": {},
     "source": [
      "## Imputing the datasets\n",
      "A simple strategy to impute the dataset, replace `nan`s using the mean of that variable"
     ]
    },
    {
     "cell_type": "code",
     "collapsed": false,
     "input": [
      "predictors = framinghamTrain.columns.tolist()\n",
      "predictors.remove('TenYearCHD')\n",
      "from sklearn.preprocessing import Imputer\n",
      "imp = Imputer(missing_values='NaN', strategy='mean', axis=0)\n",
      "imp.fit(framinghamTrain[predictors])\n",
      "X = imp.transform(framinghamTrain[predictors])\n",
      "y = framinghamTrain['TenYearCHD']"
     ],
     "language": "python",
     "metadata": {},
     "outputs": [],
     "prompt_number": 34
    },
    {
     "cell_type": "markdown",
     "metadata": {},
     "source": [
      "## Logistic Regression Model\n",
      "I will be using `scikit-learn` this time"
     ]
    },
    {
     "cell_type": "code",
     "collapsed": false,
     "input": [
      "from sklearn.linear_model import LogisticRegression\n",
      "framinghamLog = LogisticRegression(penalty='l1', tol=1e-6)\n",
      "framinghamLog.fit(X, y)"
     ],
     "language": "python",
     "metadata": {},
     "outputs": [
      {
       "metadata": {},
       "output_type": "pyout",
       "prompt_number": 35,
       "text": [
        "LogisticRegression(C=1.0, class_weight=None, dual=False, fit_intercept=True,\n",
        "          intercept_scaling=1, penalty='l1', random_state=None, tol=1e-06)"
       ]
      }
     ],
     "prompt_number": 35
    },
    {
     "cell_type": "markdown",
     "metadata": {},
     "source": [
      "## Predictions on the test set"
     ]
    },
    {
     "cell_type": "code",
     "collapsed": false,
     "input": [
      "imp = Imputer(missing_values='NaN', strategy='mean', axis=0)\n",
      "imp.fit(framinghamTest[predictors])\n",
      "Xtest = imp.transform(framinghamTest[predictors])\n",
      "ytest = framinghamTest['TenYearCHD']\n",
      "predictTest = framinghamLog.predict(Xtest)"
     ],
     "language": "python",
     "metadata": {},
     "outputs": [],
     "prompt_number": 36
    },
    {
     "cell_type": "markdown",
     "metadata": {},
     "source": [
      "## Confusion matrix with threshold of 0.5"
     ]
    },
    {
     "cell_type": "code",
     "collapsed": false,
     "input": [
      "from sklearn.metrics import confusion_matrix\n",
      "print confusion_matrix(ytest==1, predictTest >= 0.5)"
     ],
     "language": "python",
     "metadata": {},
     "outputs": [
      {
       "output_type": "stream",
       "stream": "stdout",
       "text": [
        "[[1249   10]\n",
        " [ 208   18]]\n"
       ]
      }
     ],
     "prompt_number": 37
    },
    {
     "cell_type": "markdown",
     "metadata": {},
     "source": [
      "## Accuracy"
     ]
    },
    {
     "cell_type": "code",
     "collapsed": false,
     "input": [
      "(18+1249)/(1249+10+208+18.0)"
     ],
     "language": "python",
     "metadata": {},
     "outputs": [
      {
       "metadata": {},
       "output_type": "pyout",
       "prompt_number": 38,
       "text": [
        "0.8531986531986532"
       ]
      }
     ],
     "prompt_number": 38
    },
    {
     "cell_type": "markdown",
     "metadata": {},
     "source": [
      "## Baseline accuracy"
     ]
    },
    {
     "cell_type": "code",
     "collapsed": false,
     "input": [
      "(10+1249)/(1249+10+208+18.0)"
     ],
     "language": "python",
     "metadata": {},
     "outputs": [
      {
       "metadata": {},
       "output_type": "pyout",
       "prompt_number": 40,
       "text": [
        "0.8478114478114478"
       ]
      }
     ],
     "prompt_number": 40
    },
    {
     "cell_type": "markdown",
     "metadata": {},
     "source": [
      "## Test set AUC "
     ]
    },
    {
     "cell_type": "code",
     "collapsed": false,
     "input": [
      "from sklearn.metrics import roc_curve, auc\n",
      "fpr, tpr, thresholds = roc_curve(ytest==1, predictTest)\n",
      "roc_auc = auc(fpr, tpr)\n",
      "print roc_auc"
     ],
     "language": "python",
     "metadata": {},
     "outputs": [
      {
       "output_type": "stream",
       "stream": "stdout",
       "text": [
        "0.535851602972\n"
       ]
      }
     ],
     "prompt_number": 41
    }
   ],
   "metadata": {}
  }
 ]
}