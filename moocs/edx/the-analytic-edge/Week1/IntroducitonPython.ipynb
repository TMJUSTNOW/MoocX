{
 "metadata": {
  "name": "",
  "signature": "sha256:dc7b99f8324c3719a43e321c2505db1bc3e8bf6b3fb804eae62b3665dac5c75b"
 },
 "nbformat": 3,
 "nbformat_minor": 0,
 "worksheets": [
  {
   "cells": [
    {
     "cell_type": "markdown",
     "metadata": {},
     "source": [
      "# The Analytic Edge Lecture code in Python\n",
      "## With pandas, numpy\n",
      "\n",
      "# VIDEO 2\n",
      "## Basic Calculations"
     ]
    },
    {
     "cell_type": "code",
     "collapsed": false,
     "input": [
      "8*6"
     ],
     "language": "python",
     "metadata": {},
     "outputs": [
      {
       "metadata": {},
       "output_type": "pyout",
       "prompt_number": 1,
       "text": [
        "48"
       ]
      }
     ],
     "prompt_number": 1
    },
    {
     "cell_type": "markdown",
     "metadata": {},
     "source": [
      "Python use ** for power"
     ]
    },
    {
     "cell_type": "code",
     "collapsed": false,
     "input": [
      "2**16"
     ],
     "language": "python",
     "metadata": {},
     "outputs": [
      {
       "metadata": {},
       "output_type": "pyout",
       "prompt_number": 2,
       "text": [
        "65536"
       ]
      }
     ],
     "prompt_number": 2
    },
    {
     "cell_type": "markdown",
     "metadata": {},
     "source": [
      "type '\\' and line break will allow you to continuetyping in code in new line"
     ]
    },
    {
     "cell_type": "code",
     "collapsed": false,
     "input": [
      "2**\\\n",
      "6"
     ],
     "language": "python",
     "metadata": {},
     "outputs": [
      {
       "metadata": {},
       "output_type": "pyout",
       "prompt_number": 3,
       "text": [
        "64"
       ]
      }
     ],
     "prompt_number": 3
    },
    {
     "cell_type": "markdown",
     "metadata": {},
     "source": [
      "## Functions\n",
      "You can take square root without using a function..."
     ]
    },
    {
     "cell_type": "code",
     "collapsed": false,
     "input": [
      "2**0.5"
     ],
     "language": "python",
     "metadata": {},
     "outputs": [
      {
       "metadata": {},
       "output_type": "pyout",
       "prompt_number": 6,
       "text": [
        "1.4142135623730951"
       ]
      }
     ],
     "prompt_number": 6
    },
    {
     "cell_type": "markdown",
     "metadata": {},
     "source": [
      "You can also use libraies like math, numpy or scipy for sqrt function"
     ]
    },
    {
     "cell_type": "code",
     "collapsed": false,
     "input": [
      "from numpy import sqrt\n",
      "sqrt(2)"
     ],
     "language": "python",
     "metadata": {},
     "outputs": [
      {
       "metadata": {},
       "output_type": "pyout",
       "prompt_number": 7,
       "text": [
        "1.4142135623730951"
       ]
      }
     ],
     "prompt_number": 7
    },
    {
     "cell_type": "markdown",
     "metadata": {},
     "source": [
      "The absoluate value function"
     ]
    },
    {
     "cell_type": "code",
     "collapsed": false,
     "input": [
      "abs(-65)"
     ],
     "language": "python",
     "metadata": {},
     "outputs": [
      {
       "metadata": {},
       "output_type": "pyout",
       "prompt_number": 8,
       "text": [
        "65"
       ]
      }
     ],
     "prompt_number": 8
    },
    {
     "cell_type": "markdown",
     "metadata": {},
     "source": [
      "to see help on function or object in python: "
     ]
    },
    {
     "cell_type": "code",
     "collapsed": false,
     "input": [
      "help(sqrt)"
     ],
     "language": "python",
     "metadata": {},
     "outputs": [
      {
       "output_type": "stream",
       "stream": "stdout",
       "text": [
        "Help on ufunc object:\n",
        "\n",
        "sqrt = class ufunc(__builtin__.object)\n",
        " |  Functions that operate element by element on whole arrays.\n",
        " |  \n",
        " |  To see the documentation for a specific ufunc, use np.info().  For\n",
        " |  example, np.info(np.sin).  Because ufuncs are written in C\n",
        " |  (for speed) and linked into Python with NumPy's ufunc facility,\n",
        " |  Python's help() function finds this page whenever help() is called\n",
        " |  on a ufunc.\n",
        " |  \n",
        " |  A detailed explanation of ufuncs can be found in the \"ufuncs.rst\"\n",
        " |  file in the NumPy reference guide.\n",
        " |  \n",
        " |  Unary ufuncs:\n",
        " |  =============\n",
        " |  \n",
        " |  op(X, out=None)\n",
        " |  Apply op to X elementwise\n",
        " |  \n",
        " |  Parameters\n",
        " |  ----------\n",
        " |  X : array_like\n",
        " |      Input array.\n",
        " |  out : array_like\n",
        " |      An array to store the output. Must be the same shape as `X`.\n",
        " |  \n",
        " |  Returns\n",
        " |  -------\n",
        " |  r : array_like\n",
        " |      `r` will have the same shape as `X`; if out is provided, `r`\n",
        " |      will be equal to out.\n",
        " |  \n",
        " |  Binary ufuncs:\n",
        " |  ==============\n",
        " |  \n",
        " |  op(X, Y, out=None)\n",
        " |  Apply `op` to `X` and `Y` elementwise. May \"broadcast\" to make\n",
        " |  the shapes of `X` and `Y` congruent.\n",
        " |  \n",
        " |  The broadcasting rules are:\n",
        " |  \n",
        " |  * Dimensions of length 1 may be prepended to either array.\n",
        " |  * Arrays may be repeated along dimensions of length 1.\n",
        " |  \n",
        " |  Parameters\n",
        " |  ----------\n",
        " |  X : array_like\n",
        " |      First input array.\n",
        " |  Y : array_like\n",
        " |      Second input array.\n",
        " |  out : array_like\n",
        " |      An array to store the output. Must be the same shape as the\n",
        " |      output would have.\n",
        " |  \n",
        " |  Returns\n",
        " |  -------\n",
        " |  r : array_like\n",
        " |      The return value; if out is provided, `r` will be equal to out.\n",
        " |  \n",
        " |  Methods defined here:\n",
        " |  \n",
        " |  __call__(...)\n",
        " |      x.__call__(...) <==> x(...)\n",
        " |  \n",
        " |  __repr__(...)\n",
        " |      x.__repr__() <==> repr(x)\n",
        " |  \n",
        " |  __str__(...)\n",
        " |      x.__str__() <==> str(x)\n",
        " |  \n",
        " |  accumulate(...)\n",
        " |      accumulate(array, axis=0, dtype=None, out=None)\n",
        " |      \n",
        " |      Accumulate the result of applying the operator to all elements.\n",
        " |      \n",
        " |      For a one-dimensional array, accumulate produces results equivalent to::\n",
        " |      \n",
        " |        r = np.empty(len(A))\n",
        " |        t = op.identity        # op = the ufunc being applied to A's  elements\n",
        " |        for i in range(len(A)):\n",
        " |            t = op(t, A[i])\n",
        " |            r[i] = t\n",
        " |        return r\n",
        " |      \n",
        " |      For example, add.accumulate() is equivalent to np.cumsum().\n",
        " |      \n",
        " |      For a multi-dimensional array, accumulate is applied along only one\n",
        " |      axis (axis zero by default; see Examples below) so repeated use is\n",
        " |      necessary if one wants to accumulate over multiple axes.\n",
        " |      \n",
        " |      Parameters\n",
        " |      ----------\n",
        " |      array : array_like\n",
        " |          The array to act on.\n",
        " |      axis : int, optional\n",
        " |          The axis along which to apply the accumulation; default is zero.\n",
        " |      dtype : data-type code, optional\n",
        " |          The data-type used to represent the intermediate results. Defaults\n",
        " |          to the data-type of the output array if such is provided, or the\n",
        " |          the data-type of the input array if no output array is provided.\n",
        " |      out : ndarray, optional\n",
        " |          A location into which the result is stored. If not provided a\n",
        " |          freshly-allocated array is returned.\n",
        " |      \n",
        " |      Returns\n",
        " |      -------\n",
        " |      r : ndarray\n",
        " |          The accumulated values. If `out` was supplied, `r` is a reference to\n",
        " |          `out`.\n",
        " |      \n",
        " |      Examples\n",
        " |      --------\n",
        " |      1-D array examples:\n",
        " |      \n",
        " |      >>> np.add.accumulate([2, 3, 5])\n",
        " |      array([ 2,  5, 10])\n",
        " |      >>> np.multiply.accumulate([2, 3, 5])\n",
        " |      array([ 2,  6, 30])\n",
        " |      \n",
        " |      2-D array examples:\n",
        " |      \n",
        " |      >>> I = np.eye(2)\n",
        " |      >>> I\n",
        " |      array([[ 1.,  0.],\n",
        " |             [ 0.,  1.]])\n",
        " |      \n",
        " |      Accumulate along axis 0 (rows), down columns:\n",
        " |      \n",
        " |      >>> np.add.accumulate(I, 0)\n",
        " |      array([[ 1.,  0.],\n",
        " |             [ 1.,  1.]])\n",
        " |      >>> np.add.accumulate(I) # no axis specified = axis zero\n",
        " |      array([[ 1.,  0.],\n",
        " |             [ 1.,  1.]])\n",
        " |      \n",
        " |      Accumulate along axis 1 (columns), through rows:\n",
        " |      \n",
        " |      >>> np.add.accumulate(I, 1)\n",
        " |      array([[ 1.,  1.],\n",
        " |             [ 0.,  1.]])\n",
        " |  \n",
        " |  at(...)\n",
        " |      at(a, indices, b=None)\n",
        " |      \n",
        " |      Performs unbuffered in place operation on operand 'a' for elements\n",
        " |      specified by 'indices'. For addition ufunc, this method is equivalent to\n",
        " |      `a[indices] += b`, except that results are accumulated for elements that\n",
        " |      are indexed more than once. For example, `a[[0,0]] += 1` will only\n",
        " |      increment the first element once because of buffering, whereas\n",
        " |      `add.at(a, [0,0], 1)` will increment the first element twice.\n",
        " |      \n",
        " |      .. versionadded:: 1.8.0\n",
        " |      \n",
        " |      Parameters\n",
        " |      ----------\n",
        " |      a : array_like\n",
        " |          The array to perform in place operation on.\n",
        " |      indices : array_like or tuple\n",
        " |          Array like index object or slice object for indexing into first\n",
        " |          operand. If first operand has multiple dimensions, indices can be a\n",
        " |          tuple of array like index objects or slice objects.\n",
        " |      b : array_like\n",
        " |          Second operand for ufuncs requiring two operands. Operand must be\n",
        " |          broadcastable over first operand after indexing or slicing.\n",
        " |      \n",
        " |      Examples\n",
        " |      --------\n",
        " |      Set items 0 and 1 to their negative values:\n",
        " |      \n",
        " |      >>> a = np.array([1, 2, 3, 4])\n",
        " |      >>> np.negative.at(a, [0, 1])\n",
        " |      >>> print(a)\n",
        " |      array([-1, -2, 3, 4])\n",
        " |      \n",
        " |      ::\n",
        " |      \n",
        " |      Increment items 0 and 1, and increment item 2 twice:\n",
        " |      \n",
        " |      >>> a = np.array([1, 2, 3, 4])\n",
        " |      >>> np.add.at(a, [0, 1, 2, 2], 1)\n",
        " |      >>> print(a)\n",
        " |      array([2, 3, 5, 4])\n",
        " |      \n",
        " |      ::\n",
        " |      \n",
        " |      Add items 0 and 1 in first array to second array,\n",
        " |      and store results in first array:\n",
        " |      \n",
        " |      >>> a = np.array([1, 2, 3, 4])\n",
        " |      >>> b = np.array([1, 2])\n",
        " |      >>> np.add.at(a, [0, 1], b)\n",
        " |      >>> print(a)\n",
        " |      array([2, 4, 3, 4])\n",
        " |  \n",
        " |  outer(...)\n",
        " |      outer(A, B)\n",
        " |      \n",
        " |      Apply the ufunc `op` to all pairs (a, b) with a in `A` and b in `B`.\n",
        " |      \n",
        " |      Let ``M = A.ndim``, ``N = B.ndim``. Then the result, `C`, of\n",
        " |      ``op.outer(A, B)`` is an array of dimension M + N such that:\n",
        " |      \n",
        " |      .. math:: C[i_0, ..., i_{M-1}, j_0, ..., j_{N-1}] =\n",
        " |         op(A[i_0, ..., i_{M-1}], B[j_0, ..., j_{N-1}])\n",
        " |      \n",
        " |      For `A` and `B` one-dimensional, this is equivalent to::\n",
        " |      \n",
        " |        r = empty(len(A),len(B))\n",
        " |        for i in range(len(A)):\n",
        " |            for j in range(len(B)):\n",
        " |                r[i,j] = op(A[i], B[j]) # op = ufunc in question\n",
        " |      \n",
        " |      Parameters\n",
        " |      ----------\n",
        " |      A : array_like\n",
        " |          First array\n",
        " |      B : array_like\n",
        " |          Second array\n",
        " |      \n",
        " |      Returns\n",
        " |      -------\n",
        " |      r : ndarray\n",
        " |          Output array\n",
        " |      \n",
        " |      See Also\n",
        " |      --------\n",
        " |      numpy.outer\n",
        " |      \n",
        " |      Examples\n",
        " |      --------\n",
        " |      >>> np.multiply.outer([1, 2, 3], [4, 5, 6])\n",
        " |      array([[ 4,  5,  6],\n",
        " |             [ 8, 10, 12],\n",
        " |             [12, 15, 18]])\n",
        " |      \n",
        " |      A multi-dimensional example:\n",
        " |      \n",
        " |      >>> A = np.array([[1, 2, 3], [4, 5, 6]])\n",
        " |      >>> A.shape\n",
        " |      (2, 3)\n",
        " |      >>> B = np.array([[1, 2, 3, 4]])\n",
        " |      >>> B.shape\n",
        " |      (1, 4)\n",
        " |      >>> C = np.multiply.outer(A, B)\n",
        " |      >>> C.shape; C\n",
        " |      (2, 3, 1, 4)\n",
        " |      array([[[[ 1,  2,  3,  4]],\n",
        " |              [[ 2,  4,  6,  8]],\n",
        " |              [[ 3,  6,  9, 12]]],\n",
        " |             [[[ 4,  8, 12, 16]],\n",
        " |              [[ 5, 10, 15, 20]],\n",
        " |              [[ 6, 12, 18, 24]]]])\n",
        " |  \n",
        " |  reduce(...)\n",
        " |      reduce(a, axis=0, dtype=None, out=None, keepdims=False)\n",
        " |      \n",
        " |      Reduces `a`'s dimension by one, by applying ufunc along one axis.\n",
        " |      \n",
        " |      Let :math:`a.shape = (N_0, ..., N_i, ..., N_{M-1})`.  Then\n",
        " |      :math:`ufunc.reduce(a, axis=i)[k_0, ..,k_{i-1}, k_{i+1}, .., k_{M-1}]` =\n",
        " |      the result of iterating `j` over :math:`range(N_i)`, cumulatively applying\n",
        " |      ufunc to each :math:`a[k_0, ..,k_{i-1}, j, k_{i+1}, .., k_{M-1}]`.\n",
        " |      For a one-dimensional array, reduce produces results equivalent to:\n",
        " |      ::\n",
        " |      \n",
        " |       r = op.identity # op = ufunc\n",
        " |       for i in range(len(A)):\n",
        " |         r = op(r, A[i])\n",
        " |       return r\n",
        " |      \n",
        " |      For example, add.reduce() is equivalent to sum().\n",
        " |      \n",
        " |      Parameters\n",
        " |      ----------\n",
        " |      a : array_like\n",
        " |          The array to act on.\n",
        " |      axis : None or int or tuple of ints, optional\n",
        " |          Axis or axes along which a reduction is performed.\n",
        " |          The default (`axis` = 0) is perform a reduction over the first\n",
        " |          dimension of the input array. `axis` may be negative, in\n",
        " |          which case it counts from the last to the first axis.\n",
        " |      \n",
        " |          .. versionadded:: 1.7.0\n",
        " |      \n",
        " |          If this is `None`, a reduction is performed over all the axes.\n",
        " |          If this is a tuple of ints, a reduction is performed on multiple\n",
        " |          axes, instead of a single axis or all the axes as before.\n",
        " |      \n",
        " |          For operations which are either not commutative or not associative,\n",
        " |          doing a reduction over multiple axes is not well-defined. The\n",
        " |          ufuncs do not currently raise an exception in this case, but will\n",
        " |          likely do so in the future.\n",
        " |      dtype : data-type code, optional\n",
        " |          The type used to represent the intermediate results. Defaults\n",
        " |          to the data-type of the output array if this is provided, or\n",
        " |          the data-type of the input array if no output array is provided.\n",
        " |      out : ndarray, optional\n",
        " |          A location into which the result is stored. If not provided, a\n",
        " |          freshly-allocated array is returned.\n",
        " |      keepdims : bool, optional\n",
        " |          If this is set to True, the axes which are reduced are left\n",
        " |          in the result as dimensions with size one. With this option,\n",
        " |          the result will broadcast correctly against the original `arr`.\n",
        " |      \n",
        " |      Returns\n",
        " |      -------\n",
        " |      r : ndarray\n",
        " |          The reduced array. If `out` was supplied, `r` is a reference to it.\n",
        " |      \n",
        " |      Examples\n",
        " |      --------\n",
        " |      >>> np.multiply.reduce([2,3,5])\n",
        " |      30\n",
        " |      \n",
        " |      A multi-dimensional array example:\n",
        " |      \n",
        " |      >>> X = np.arange(8).reshape((2,2,2))\n",
        " |      >>> X\n",
        " |      array([[[0, 1],\n",
        " |              [2, 3]],\n",
        " |             [[4, 5],\n",
        " |              [6, 7]]])\n",
        " |      >>> np.add.reduce(X, 0)\n",
        " |      array([[ 4,  6],\n",
        " |             [ 8, 10]])\n",
        " |      >>> np.add.reduce(X) # confirm: default axis value is 0\n",
        " |      array([[ 4,  6],\n",
        " |             [ 8, 10]])\n",
        " |      >>> np.add.reduce(X, 1)\n",
        " |      array([[ 2,  4],\n",
        " |             [10, 12]])\n",
        " |      >>> np.add.reduce(X, 2)\n",
        " |      array([[ 1,  5],\n",
        " |             [ 9, 13]])\n",
        " |  \n",
        " |  reduceat(...)\n",
        " |      reduceat(a, indices, axis=0, dtype=None, out=None)\n",
        " |      \n",
        " |      Performs a (local) reduce with specified slices over a single axis.\n",
        " |      \n",
        " |      For i in ``range(len(indices))``, `reduceat` computes\n",
        " |      ``ufunc.reduce(a[indices[i]:indices[i+1]])``, which becomes the i-th\n",
        " |      generalized \"row\" parallel to `axis` in the final result (i.e., in a\n",
        " |      2-D array, for example, if `axis = 0`, it becomes the i-th row, but if\n",
        " |      `axis = 1`, it becomes the i-th column).  There are two exceptions to this:\n",
        " |      \n",
        " |        * when ``i = len(indices) - 1`` (so for the last index),\n",
        " |          ``indices[i+1] = a.shape[axis]``.\n",
        " |        * if ``indices[i] >= indices[i + 1]``, the i-th generalized \"row\" is\n",
        " |          simply ``a[indices[i]]``.\n",
        " |      \n",
        " |      The shape of the output depends on the size of `indices`, and may be\n",
        " |      larger than `a` (this happens if ``len(indices) > a.shape[axis]``).\n",
        " |      \n",
        " |      Parameters\n",
        " |      ----------\n",
        " |      a : array_like\n",
        " |          The array to act on.\n",
        " |      indices : array_like\n",
        " |          Paired indices, comma separated (not colon), specifying slices to\n",
        " |          reduce.\n",
        " |      axis : int, optional\n",
        " |          The axis along which to apply the reduceat.\n",
        " |      dtype : data-type code, optional\n",
        " |          The type used to represent the intermediate results. Defaults\n",
        " |          to the data type of the output array if this is provided, or\n",
        " |          the data type of the input array if no output array is provided.\n",
        " |      out : ndarray, optional\n",
        " |          A location into which the result is stored. If not provided a\n",
        " |          freshly-allocated array is returned.\n",
        " |      \n",
        " |      Returns\n",
        " |      -------\n",
        " |      r : ndarray\n",
        " |          The reduced values. If `out` was supplied, `r` is a reference to\n",
        " |          `out`.\n",
        " |      \n",
        " |      Notes\n",
        " |      -----\n",
        " |      A descriptive example:\n",
        " |      \n",
        " |      If `a` is 1-D, the function `ufunc.accumulate(a)` is the same as\n",
        " |      ``ufunc.reduceat(a, indices)[::2]`` where `indices` is\n",
        " |      ``range(len(array) - 1)`` with a zero placed\n",
        " |      in every other element:\n",
        " |      ``indices = zeros(2 * len(a) - 1)``, ``indices[1::2] = range(1, len(a))``.\n",
        " |      \n",
        " |      Don't be fooled by this attribute's name: `reduceat(a)` is not\n",
        " |      necessarily smaller than `a`.\n",
        " |      \n",
        " |      Examples\n",
        " |      --------\n",
        " |      To take the running sum of four successive values:\n",
        " |      \n",
        " |      >>> np.add.reduceat(np.arange(8),[0,4, 1,5, 2,6, 3,7])[::2]\n",
        " |      array([ 6, 10, 14, 18])\n",
        " |      \n",
        " |      A 2-D example:\n",
        " |      \n",
        " |      >>> x = np.linspace(0, 15, 16).reshape(4,4)\n",
        " |      >>> x\n",
        " |      array([[  0.,   1.,   2.,   3.],\n",
        " |             [  4.,   5.,   6.,   7.],\n",
        " |             [  8.,   9.,  10.,  11.],\n",
        " |             [ 12.,  13.,  14.,  15.]])\n",
        " |      \n",
        " |      ::\n",
        " |      \n",
        " |       # reduce such that the result has the following five rows:\n",
        " |       # [row1 + row2 + row3]\n",
        " |       # [row4]\n",
        " |       # [row2]\n",
        " |       # [row3]\n",
        " |       # [row1 + row2 + row3 + row4]\n",
        " |      \n",
        " |      >>> np.add.reduceat(x, [0, 3, 1, 2, 0])\n",
        " |      array([[ 12.,  15.,  18.,  21.],\n",
        " |             [ 12.,  13.,  14.,  15.],\n",
        " |             [  4.,   5.,   6.,   7.],\n",
        " |             [  8.,   9.,  10.,  11.],\n",
        " |             [ 24.,  28.,  32.,  36.]])\n",
        " |      \n",
        " |      ::\n",
        " |      \n",
        " |       # reduce such that result has the following two columns:\n",
        " |       # [col1 * col2 * col3, col4]\n",
        " |      \n",
        " |      >>> np.multiply.reduceat(x, [0, 3], 1)\n",
        " |      array([[    0.,     3.],\n",
        " |             [  120.,     7.],\n",
        " |             [  720.,    11.],\n",
        " |             [ 2184.,    15.]])\n",
        " |  \n",
        " |  ----------------------------------------------------------------------\n",
        " |  Data descriptors defined here:\n",
        " |  \n",
        " |  identity\n",
        " |      The identity value.\n",
        " |      \n",
        " |      Data attribute containing the identity element for the ufunc, if it has one.\n",
        " |      If it does not, the attribute value is None.\n",
        " |      \n",
        " |      Examples\n",
        " |      --------\n",
        " |      >>> np.add.identity\n",
        " |      0\n",
        " |      >>> np.multiply.identity\n",
        " |      1\n",
        " |      >>> np.power.identity\n",
        " |      1\n",
        " |      >>> print np.exp.identity\n",
        " |      None\n",
        " |  \n",
        " |  nargs\n",
        " |      The number of arguments.\n",
        " |      \n",
        " |      Data attribute containing the number of arguments the ufunc takes, including\n",
        " |      optional ones.\n",
        " |      \n",
        " |      Notes\n",
        " |      -----\n",
        " |      Typically this value will be one more than what you might expect because all\n",
        " |      ufuncs take  the optional \"out\" argument.\n",
        " |      \n",
        " |      Examples\n",
        " |      --------\n",
        " |      >>> np.add.nargs\n",
        " |      3\n",
        " |      >>> np.multiply.nargs\n",
        " |      3\n",
        " |      >>> np.power.nargs\n",
        " |      3\n",
        " |      >>> np.exp.nargs\n",
        " |      2\n",
        " |  \n",
        " |  nin\n",
        " |      The number of inputs.\n",
        " |      \n",
        " |      Data attribute containing the number of arguments the ufunc treats as input.\n",
        " |      \n",
        " |      Examples\n",
        " |      --------\n",
        " |      >>> np.add.nin\n",
        " |      2\n",
        " |      >>> np.multiply.nin\n",
        " |      2\n",
        " |      >>> np.power.nin\n",
        " |      2\n",
        " |      >>> np.exp.nin\n",
        " |      1\n",
        " |  \n",
        " |  nout\n",
        " |      The number of outputs.\n",
        " |      \n",
        " |      Data attribute containing the number of arguments the ufunc treats as output.\n",
        " |      \n",
        " |      Notes\n",
        " |      -----\n",
        " |      Since all ufuncs can take output arguments, this will always be (at least) 1.\n",
        " |      \n",
        " |      Examples\n",
        " |      --------\n",
        " |      >>> np.add.nout\n",
        " |      1\n",
        " |      >>> np.multiply.nout\n",
        " |      1\n",
        " |      >>> np.power.nout\n",
        " |      1\n",
        " |      >>> np.exp.nout\n",
        " |      1\n",
        " |  \n",
        " |  ntypes\n",
        " |      The number of types.\n",
        " |      \n",
        " |      The number of numerical NumPy types - of which there are 18 total - on which\n",
        " |      the ufunc can operate.\n",
        " |      \n",
        " |      See Also\n",
        " |      --------\n",
        " |      numpy.ufunc.types\n",
        " |      \n",
        " |      Examples\n",
        " |      --------\n",
        " |      >>> np.add.ntypes\n",
        " |      18\n",
        " |      >>> np.multiply.ntypes\n",
        " |      18\n",
        " |      >>> np.power.ntypes\n",
        " |      17\n",
        " |      >>> np.exp.ntypes\n",
        " |      7\n",
        " |      >>> np.remainder.ntypes\n",
        " |      14\n",
        " |  \n",
        " |  signature\n",
        " |  \n",
        " |  types\n",
        " |      Returns a list with types grouped input->output.\n",
        " |      \n",
        " |      Data attribute listing the data-type \"Domain-Range\" groupings the ufunc can\n",
        " |      deliver. The data-types are given using the character codes.\n",
        " |      \n",
        " |      See Also\n",
        " |      --------\n",
        " |      numpy.ufunc.ntypes\n",
        " |      \n",
        " |      Examples\n",
        " |      --------\n",
        " |      >>> np.add.types\n",
        " |      ['??->?', 'bb->b', 'BB->B', 'hh->h', 'HH->H', 'ii->i', 'II->I', 'll->l',\n",
        " |      'LL->L', 'qq->q', 'QQ->Q', 'ff->f', 'dd->d', 'gg->g', 'FF->F', 'DD->D',\n",
        " |      'GG->G', 'OO->O']\n",
        " |      \n",
        " |      >>> np.multiply.types\n",
        " |      ['??->?', 'bb->b', 'BB->B', 'hh->h', 'HH->H', 'ii->i', 'II->I', 'll->l',\n",
        " |      'LL->L', 'qq->q', 'QQ->Q', 'ff->f', 'dd->d', 'gg->g', 'FF->F', 'DD->D',\n",
        " |      'GG->G', 'OO->O']\n",
        " |      \n",
        " |      >>> np.power.types\n",
        " |      ['bb->b', 'BB->B', 'hh->h', 'HH->H', 'ii->i', 'II->I', 'll->l', 'LL->L',\n",
        " |      'qq->q', 'QQ->Q', 'ff->f', 'dd->d', 'gg->g', 'FF->F', 'DD->D', 'GG->G',\n",
        " |      'OO->O']\n",
        " |      \n",
        " |      >>> np.exp.types\n",
        " |      ['f->f', 'd->d', 'g->g', 'F->F', 'D->D', 'G->G', 'O->O']\n",
        " |      \n",
        " |      >>> np.remainder.types\n",
        " |      ['bb->b', 'BB->B', 'hh->h', 'HH->H', 'ii->i', 'II->I', 'll->l', 'LL->L',\n",
        " |      'qq->q', 'QQ->Q', 'ff->f', 'dd->d', 'gg->g', 'OO->O']\n",
        "\n"
       ]
      }
     ],
     "prompt_number": 17
    },
    {
     "cell_type": "markdown",
     "metadata": {},
     "source": [
      "## Variables\n",
      "Store the values in variables using assignment '=' , '<-' will not work in Python"
     ]
    },
    {
     "cell_type": "code",
     "collapsed": false,
     "input": [
      "SquareRoot2 = sqrt(2)\n",
      "SquareRoot2"
     ],
     "language": "python",
     "metadata": {},
     "outputs": [
      {
       "metadata": {},
       "output_type": "pyout",
       "prompt_number": 11,
       "text": [
        "1.4142135623730951"
       ]
      }
     ],
     "prompt_number": 11
    },
    {
     "cell_type": "code",
     "collapsed": false,
     "input": [
      "HoursYear = 365*24\n",
      "HoursYear"
     ],
     "language": "python",
     "metadata": {},
     "outputs": [
      {
       "metadata": {},
       "output_type": "pyout",
       "prompt_number": 12,
       "text": [
        "8760"
       ]
      }
     ],
     "prompt_number": 12
    },
    {
     "cell_type": "markdown",
     "metadata": {},
     "source": [
      "see names in current scope     \n",
      "You will see a much shorter list if you are using the basic python prompt     \n",
      "You can use 'name' in dir() to test if a object by that name existed in the scope or not"
     ]
    },
    {
     "cell_type": "code",
     "collapsed": false,
     "input": [
      "dir()[:5]"
     ],
     "language": "python",
     "metadata": {},
     "outputs": [
      {
       "metadata": {},
       "output_type": "pyout",
       "prompt_number": 14,
       "text": [
        "['ALLOW_THREADS', 'Annotation', 'Arrow', 'Artist', 'AutoLocator']"
       ]
      }
     ],
     "prompt_number": 14
    },
    {
     "cell_type": "code",
     "collapsed": false,
     "input": [
      "'HoursYear' in dir()"
     ],
     "language": "python",
     "metadata": {},
     "outputs": [
      {
       "metadata": {},
       "output_type": "pyout",
       "prompt_number": 15,
       "text": [
        "True"
       ]
      }
     ],
     "prompt_number": 15
    },
    {
     "cell_type": "markdown",
     "metadata": {},
     "source": [
      "Similarily you can use locals().keys()"
     ]
    },
    {
     "cell_type": "code",
     "collapsed": false,
     "input": [
      "locals().keys()[:5]"
     ],
     "language": "python",
     "metadata": {},
     "outputs": [
      {
       "metadata": {},
       "output_type": "pyout",
       "prompt_number": 19,
       "text": [
        "['disp', 'union1d', 'all', 'dist', 'issubsctype']"
       ]
      }
     ],
     "prompt_number": 19
    },
    {
     "cell_type": "code",
     "collapsed": false,
     "input": [
      "'HoursYear' in locals().keys()"
     ],
     "language": "python",
     "metadata": {},
     "outputs": [
      {
       "metadata": {},
       "output_type": "pyout",
       "prompt_number": 20,
       "text": [
        "True"
       ]
      }
     ],
     "prompt_number": 20
    },
    {
     "cell_type": "markdown",
     "metadata": {},
     "source": [
      "# VIDEO 3 \n",
      "\n",
      "## Vectors\n",
      "use numpy array to store a vector"
     ]
    },
    {
     "cell_type": "code",
     "collapsed": false,
     "input": [
      "import numpy as np\n",
      "np.array([2,3,5,8,13])"
     ],
     "language": "python",
     "metadata": {},
     "outputs": [
      {
       "metadata": {},
       "output_type": "pyout",
       "prompt_number": 21,
       "text": [
        "array([ 2,  3,  5,  8, 13])"
       ]
      }
     ],
     "prompt_number": 21
    },
    {
     "cell_type": "code",
     "collapsed": false,
     "input": [
      "Country = np.array([\"Brazil\", \"China\", \"India\",\"Switzerland\",\"USA\"])\n",
      "LifeExpectancy = np.array([74,76,65,83,79])\n",
      "Country"
     ],
     "language": "python",
     "metadata": {},
     "outputs": [
      {
       "metadata": {},
       "output_type": "pyout",
       "prompt_number": 22,
       "text": [
        "array(['Brazil', 'China', 'India', 'Switzerland', 'USA'], \n",
        "      dtype='|S11')"
       ]
      }
     ],
     "prompt_number": 22
    },
    {
     "cell_type": "markdown",
     "metadata": {},
     "source": [
      "use print to see the output in a nicer way"
     ]
    },
    {
     "cell_type": "code",
     "collapsed": false,
     "input": [
      "print Country"
     ],
     "language": "python",
     "metadata": {},
     "outputs": [
      {
       "output_type": "stream",
       "stream": "stdout",
       "text": [
        "['Brazil' 'China' 'India' 'Switzerland' 'USA']\n"
       ]
      }
     ],
     "prompt_number": 25
    },
    {
     "cell_type": "code",
     "collapsed": false,
     "input": [
      "print LifeExpectancy"
     ],
     "language": "python",
     "metadata": {},
     "outputs": [
      {
       "output_type": "stream",
       "stream": "stdout",
       "text": [
        "[74 76 65 83 79]\n"
       ]
      }
     ],
     "prompt_number": 24
    },
    {
     "cell_type": "markdown",
     "metadata": {},
     "source": [
      "Getting the element from numpy arrary using index ( starts from 0 rahter than 1 in R)"
     ]
    },
    {
     "cell_type": "code",
     "collapsed": false,
     "input": [
      "Country[0]"
     ],
     "language": "python",
     "metadata": {},
     "outputs": [
      {
       "metadata": {},
       "output_type": "pyout",
       "prompt_number": 26,
       "text": [
        "'Brazil'"
       ]
      }
     ],
     "prompt_number": 26
    },
    {
     "cell_type": "code",
     "collapsed": false,
     "input": [
      "LifeExpectancy[2]"
     ],
     "language": "python",
     "metadata": {},
     "outputs": [
      {
       "metadata": {},
       "output_type": "pyout",
       "prompt_number": 27,
       "text": [
        "65"
       ]
      }
     ],
     "prompt_number": 27
    },
    {
     "cell_type": "markdown",
     "metadata": {},
     "source": [
      "Create a array of fixed step integers using arange(), notice the end point is excluded, so you need +1"
     ]
    },
    {
     "cell_type": "code",
     "collapsed": false,
     "input": [
      "Sequence = np.arange(0,100+1,2)\n",
      "Sequence"
     ],
     "language": "python",
     "metadata": {},
     "outputs": [
      {
       "metadata": {},
       "output_type": "pyout",
       "prompt_number": 28,
       "text": [
        "array([  0,   2,   4,   6,   8,  10,  12,  14,  16,  18,  20,  22,  24,\n",
        "        26,  28,  30,  32,  34,  36,  38,  40,  42,  44,  46,  48,  50,\n",
        "        52,  54,  56,  58,  60,  62,  64,  66,  68,  70,  72,  74,  76,\n",
        "        78,  80,  82,  84,  86,  88,  90,  92,  94,  96,  98, 100])"
       ]
      }
     ],
     "prompt_number": 28
    },
    {
     "cell_type": "markdown",
     "metadata": {},
     "source": [
      "## Data Frames\n",
      "a DataFrame is a table-like data structure    \n",
      "there are many ways to create a dataframe, I prefer to pass in data as a dictionary.     \n",
      "This way, which vector becomes which column will be very clear "
     ]
    },
    {
     "cell_type": "code",
     "collapsed": false,
     "input": [
      "from pandas import DataFrame\n",
      "CountryData = DataFrame({'Country':Country, 'LifeExpectancy':LifeExpectancy})\n",
      "print CountryData"
     ],
     "language": "python",
     "metadata": {},
     "outputs": [
      {
       "output_type": "stream",
       "stream": "stdout",
       "text": [
        "       Country  LifeExpectancy\n",
        "0       Brazil              74\n",
        "1        China              76\n",
        "2        India              65\n",
        "3  Switzerland              83\n",
        "4          USA              79\n"
       ]
      }
     ],
     "prompt_number": 30
    },
    {
     "cell_type": "markdown",
     "metadata": {},
     "source": [
      "Use dataframeName['columnName'] to access column in the dataframe    \n",
      "Add a new column named 'Population'"
     ]
    },
    {
     "cell_type": "code",
     "collapsed": false,
     "input": [
      "CountryData['Population'] = np.array([199000,1390000,1240000,7997,318000])\n",
      "print CountryData"
     ],
     "language": "python",
     "metadata": {},
     "outputs": [
      {
       "output_type": "stream",
       "stream": "stdout",
       "text": [
        "       Country  LifeExpectancy  Population\n",
        "0       Brazil              74      199000\n",
        "1        China              76     1390000\n",
        "2        India              65     1240000\n",
        "3  Switzerland              83        7997\n",
        "4          USA              79      318000\n"
       ]
      }
     ],
     "prompt_number": 31
    },
    {
     "cell_type": "markdown",
     "metadata": {},
     "source": [
      "Example of creating a new 'shorter' dateframe and append to the above one by row "
     ]
    },
    {
     "cell_type": "code",
     "collapsed": false,
     "input": [
      "Country = np.array(['Australia','Greece'])\n",
      "LifeExpectancy = np.array([82, 81])\n",
      "Population = np.array([23050, 11125])\n",
      "\n",
      "NewCountryData = DataFrame({'Country':Country, 'LifeExpectancy':LifeExpectancy,\n",
      "        'Population':Population})\n",
      "\n",
      "print NewCountryData"
     ],
     "language": "python",
     "metadata": {},
     "outputs": [
      {
       "output_type": "stream",
       "stream": "stdout",
       "text": [
        "     Country  LifeExpectancy  Population\n",
        "0  Australia              82       23050\n",
        "1     Greece              81       11125\n"
       ]
      }
     ],
     "prompt_number": 33
    },
    {
     "cell_type": "code",
     "collapsed": false,
     "input": [
      "AllCountryData = CountryData.append(NewCountryData)\n",
      "print AllCountryData"
     ],
     "language": "python",
     "metadata": {},
     "outputs": [
      {
       "output_type": "stream",
       "stream": "stdout",
       "text": [
        "       Country  LifeExpectancy  Population\n",
        "0       Brazil              74      199000\n",
        "1        China              76     1390000\n",
        "2        India              65     1240000\n",
        "3  Switzerland              83        7997\n",
        "4          USA              79      318000\n",
        "0    Australia              82       23050\n",
        "1       Greece              81       11125\n"
       ]
      }
     ],
     "prompt_number": 34
    },
    {
     "cell_type": "markdown",
     "metadata": {},
     "source": [
      "notice the index is not correctly updated, need a quick fix"
     ]
    },
    {
     "cell_type": "code",
     "collapsed": false,
     "input": [
      "AllCountryData.index = range(len(AllCountryData))\n",
      "print AllCountryData"
     ],
     "language": "python",
     "metadata": {},
     "outputs": [
      {
       "output_type": "stream",
       "stream": "stdout",
       "text": [
        "       Country  LifeExpectancy  Population\n",
        "0       Brazil              74      199000\n",
        "1        China              76     1390000\n",
        "2        India              65     1240000\n",
        "3  Switzerland              83        7997\n",
        "4          USA              79      318000\n",
        "5    Australia              82       23050\n",
        "6       Greece              81       11125\n"
       ]
      }
     ],
     "prompt_number": 35
    },
    {
     "cell_type": "markdown",
     "metadata": {},
     "source": [
      "or we can add a second parameter when calling the  \n"
     ]
    },
    {
     "cell_type": "code",
     "collapsed": false,
     "input": [
      "print CountryData.append(NewCountryData, True)"
     ],
     "language": "python",
     "metadata": {},
     "outputs": [
      {
       "output_type": "stream",
       "stream": "stdout",
       "text": [
        "       Country  LifeExpectancy  Population\n",
        "0       Brazil              74      199000\n",
        "1        China              76     1390000\n",
        "2        India              65     1240000\n",
        "3  Switzerland              83        7997\n",
        "4          USA              79      318000\n",
        "5    Australia              82       23050\n",
        "6       Greece              81       11125\n"
       ]
      }
     ],
     "prompt_number": 37
    },
    {
     "cell_type": "markdown",
     "metadata": {},
     "source": [
      "# VIDEO 4\n",
      "## change the working directory to where the data file loacted..."
     ]
    },
    {
     "cell_type": "code",
     "collapsed": false,
     "input": [
      "import os\n",
      "path = 'C:\\\\Users\\\\iris\\\\documents\\\\github\\\\edX\\\\The Analytic Edge\\\\week1'\n",
      "os.chdir(path)"
     ],
     "language": "python",
     "metadata": {},
     "outputs": [],
     "prompt_number": 40
    },
    {
     "cell_type": "markdown",
     "metadata": {},
     "source": [
      "## Loading csv files"
     ]
    },
    {
     "cell_type": "code",
     "collapsed": false,
     "input": [
      "import pandas as pd\n",
      "WHO = pd.read_csv(\"WHO.csv\")"
     ],
     "language": "python",
     "metadata": {},
     "outputs": [],
     "prompt_number": 41
    },
    {
     "cell_type": "markdown",
     "metadata": {},
     "source": [
      "see the first 5 rows in the dataframe"
     ]
    },
    {
     "cell_type": "code",
     "collapsed": false,
     "input": [
      "WHO.head()"
     ],
     "language": "python",
     "metadata": {},
     "outputs": [
      {
       "html": [
        "<div style=\"max-height:1000px;max-width:1500px;overflow:auto;\">\n",
        "<table border=\"1\" class=\"dataframe\">\n",
        "  <thead>\n",
        "    <tr style=\"text-align: right;\">\n",
        "      <th></th>\n",
        "      <th>Country</th>\n",
        "      <th>Region</th>\n",
        "      <th>Population</th>\n",
        "      <th>Under15</th>\n",
        "      <th>Over60</th>\n",
        "      <th>FertilityRate</th>\n",
        "      <th>LifeExpectancy</th>\n",
        "      <th>ChildMortality</th>\n",
        "      <th>CellularSubscribers</th>\n",
        "      <th>LiteracyRate</th>\n",
        "      <th>GNI</th>\n",
        "      <th>PrimarySchoolEnrollmentMale</th>\n",
        "      <th>PrimarySchoolEnrollmentFemale</th>\n",
        "    </tr>\n",
        "  </thead>\n",
        "  <tbody>\n",
        "    <tr>\n",
        "      <th>0</th>\n",
        "      <td> Afghanistan</td>\n",
        "      <td> Eastern Mediterranean</td>\n",
        "      <td> 29825</td>\n",
        "      <td> 47.42</td>\n",
        "      <td>  3.82</td>\n",
        "      <td> 5.40</td>\n",
        "      <td> 60</td>\n",
        "      <td>  98.5</td>\n",
        "      <td> 54.26</td>\n",
        "      <td>  NaN</td>\n",
        "      <td> 1140</td>\n",
        "      <td>  NaN</td>\n",
        "      <td>  NaN</td>\n",
        "    </tr>\n",
        "    <tr>\n",
        "      <th>1</th>\n",
        "      <td>     Albania</td>\n",
        "      <td>                Europe</td>\n",
        "      <td>  3162</td>\n",
        "      <td> 21.33</td>\n",
        "      <td> 14.93</td>\n",
        "      <td> 1.75</td>\n",
        "      <td> 74</td>\n",
        "      <td>  16.7</td>\n",
        "      <td> 96.39</td>\n",
        "      <td>  NaN</td>\n",
        "      <td> 8820</td>\n",
        "      <td>  NaN</td>\n",
        "      <td>  NaN</td>\n",
        "    </tr>\n",
        "    <tr>\n",
        "      <th>2</th>\n",
        "      <td>     Algeria</td>\n",
        "      <td>                Africa</td>\n",
        "      <td> 38482</td>\n",
        "      <td> 27.42</td>\n",
        "      <td>  7.17</td>\n",
        "      <td> 2.83</td>\n",
        "      <td> 73</td>\n",
        "      <td>  20.0</td>\n",
        "      <td> 98.99</td>\n",
        "      <td>  NaN</td>\n",
        "      <td> 8310</td>\n",
        "      <td> 98.2</td>\n",
        "      <td> 96.4</td>\n",
        "    </tr>\n",
        "    <tr>\n",
        "      <th>3</th>\n",
        "      <td>     Andorra</td>\n",
        "      <td>                Europe</td>\n",
        "      <td>    78</td>\n",
        "      <td> 15.20</td>\n",
        "      <td> 22.86</td>\n",
        "      <td>  NaN</td>\n",
        "      <td> 82</td>\n",
        "      <td>   3.2</td>\n",
        "      <td> 75.49</td>\n",
        "      <td>  NaN</td>\n",
        "      <td>  NaN</td>\n",
        "      <td> 78.4</td>\n",
        "      <td> 79.4</td>\n",
        "    </tr>\n",
        "    <tr>\n",
        "      <th>4</th>\n",
        "      <td>      Angola</td>\n",
        "      <td>                Africa</td>\n",
        "      <td> 20821</td>\n",
        "      <td> 47.58</td>\n",
        "      <td>  3.84</td>\n",
        "      <td> 6.10</td>\n",
        "      <td> 51</td>\n",
        "      <td> 163.5</td>\n",
        "      <td> 48.38</td>\n",
        "      <td> 70.1</td>\n",
        "      <td> 5230</td>\n",
        "      <td> 93.1</td>\n",
        "      <td> 78.2</td>\n",
        "    </tr>\n",
        "  </tbody>\n",
        "</table>\n",
        "</div>"
       ],
       "metadata": {},
       "output_type": "pyout",
       "prompt_number": 44,
       "text": [
        "       Country                 Region  Population  Under15  Over60  \\\n",
        "0  Afghanistan  Eastern Mediterranean       29825    47.42    3.82   \n",
        "1      Albania                 Europe        3162    21.33   14.93   \n",
        "2      Algeria                 Africa       38482    27.42    7.17   \n",
        "3      Andorra                 Europe          78    15.20   22.86   \n",
        "4       Angola                 Africa       20821    47.58    3.84   \n",
        "\n",
        "   FertilityRate  LifeExpectancy  ChildMortality  CellularSubscribers  \\\n",
        "0           5.40              60            98.5                54.26   \n",
        "1           1.75              74            16.7                96.39   \n",
        "2           2.83              73            20.0                98.99   \n",
        "3            NaN              82             3.2                75.49   \n",
        "4           6.10              51           163.5                48.38   \n",
        "\n",
        "   LiteracyRate   GNI  PrimarySchoolEnrollmentMale  \\\n",
        "0           NaN  1140                          NaN   \n",
        "1           NaN  8820                          NaN   \n",
        "2           NaN  8310                         98.2   \n",
        "3           NaN   NaN                         78.4   \n",
        "4          70.1  5230                         93.1   \n",
        "\n",
        "   PrimarySchoolEnrollmentFemale  \n",
        "0                            NaN  \n",
        "1                            NaN  \n",
        "2                           96.4  \n",
        "3                           79.4  \n",
        "4                           78.2  "
       ]
      }
     ],
     "prompt_number": 44
    },
    {
     "cell_type": "markdown",
     "metadata": {},
     "source": [
      "# to see the structure of the data frame\n",
      "Can't find a exact equalvalent function to str() in R"
     ]
    },
    {
     "cell_type": "code",
     "collapsed": false,
     "input": [
      "print WHO.shape"
     ],
     "language": "python",
     "metadata": {},
     "outputs": [
      {
       "output_type": "stream",
       "stream": "stdout",
       "text": [
        "(194, 13)\n"
       ]
      }
     ],
     "prompt_number": 47
    },
    {
     "cell_type": "code",
     "collapsed": false,
     "input": [
      "print WHO.dtypes"
     ],
     "language": "python",
     "metadata": {},
     "outputs": [
      {
       "output_type": "stream",
       "stream": "stdout",
       "text": [
        "Country                           object\n",
        "Region                            object\n",
        "Population                         int64\n",
        "Under15                          float64\n",
        "Over60                           float64\n",
        "FertilityRate                    float64\n",
        "LifeExpectancy                     int64\n",
        "ChildMortality                   float64\n",
        "CellularSubscribers              float64\n",
        "LiteracyRate                     float64\n",
        "GNI                              float64\n",
        "PrimarySchoolEnrollmentMale      float64\n",
        "PrimarySchoolEnrollmentFemale    float64\n",
        "dtype: object\n"
       ]
      }
     ],
     "prompt_number": 48
    },
    {
     "cell_type": "code",
     "collapsed": false,
     "input": [
      "print WHO.values.T[:,:5]"
     ],
     "language": "python",
     "metadata": {},
     "outputs": [
      {
       "output_type": "stream",
       "stream": "stdout",
       "text": [
        "[['Afghanistan' 'Albania' 'Algeria' 'Andorra' 'Angola']\n",
        " ['Eastern Mediterranean' 'Europe' 'Africa' 'Europe' 'Africa']\n",
        " [29825L 3162L 38482L 78L 20821L]\n",
        " [47.42 21.33 27.42 15.2 47.58]\n",
        " [3.82 14.93 7.17 22.86 3.84]\n",
        " [5.4 1.75 2.83 nan 6.1]\n",
        " [60L 74L 73L 82L 51L]\n",
        " [98.5 16.7 20.0 3.2 163.5]\n",
        " [54.26 96.39 98.99 75.49 48.38]\n",
        " [nan nan nan nan 70.1]\n",
        " [1140.0 8820.0 8310.0 nan 5230.0]\n",
        " [nan nan 98.2 78.4 93.1]\n",
        " [nan nan 96.4 79.4 78.2]]\n"
       ]
      }
     ],
     "prompt_number": 52
    },
    {
     "cell_type": "markdown",
     "metadata": {},
     "source": [
      "## Print out a summary of variables in the dataframe\n",
      "The outputed infomation is slightly different"
     ]
    },
    {
     "cell_type": "code",
     "collapsed": false,
     "input": [
      "WHO.describe(include = 'all')"
     ],
     "language": "python",
     "metadata": {},
     "outputs": [
      {
       "html": [
        "<div style=\"max-height:1000px;max-width:1500px;overflow:auto;\">\n",
        "<table border=\"1\" class=\"dataframe\">\n",
        "  <thead>\n",
        "    <tr style=\"text-align: right;\">\n",
        "      <th></th>\n",
        "      <th>Country</th>\n",
        "      <th>Region</th>\n",
        "      <th>Population</th>\n",
        "      <th>Under15</th>\n",
        "      <th>Over60</th>\n",
        "      <th>FertilityRate</th>\n",
        "      <th>LifeExpectancy</th>\n",
        "      <th>ChildMortality</th>\n",
        "      <th>CellularSubscribers</th>\n",
        "      <th>LiteracyRate</th>\n",
        "      <th>GNI</th>\n",
        "      <th>PrimarySchoolEnrollmentMale</th>\n",
        "      <th>PrimarySchoolEnrollmentFemale</th>\n",
        "    </tr>\n",
        "  </thead>\n",
        "  <tbody>\n",
        "    <tr>\n",
        "      <th>count</th>\n",
        "      <td>                194</td>\n",
        "      <td>    194</td>\n",
        "      <td>     194.000000</td>\n",
        "      <td> 194.000000</td>\n",
        "      <td> 194.000000</td>\n",
        "      <td> 183.000000</td>\n",
        "      <td> 194.000000</td>\n",
        "      <td> 194.000000</td>\n",
        "      <td> 184.000000</td>\n",
        "      <td> 103.000000</td>\n",
        "      <td>   162.000000</td>\n",
        "      <td> 101.000000</td>\n",
        "      <td> 101.000000</td>\n",
        "    </tr>\n",
        "    <tr>\n",
        "      <th>unique</th>\n",
        "      <td>                194</td>\n",
        "      <td>      6</td>\n",
        "      <td>            NaN</td>\n",
        "      <td>        NaN</td>\n",
        "      <td>        NaN</td>\n",
        "      <td>        NaN</td>\n",
        "      <td>        NaN</td>\n",
        "      <td>        NaN</td>\n",
        "      <td>        NaN</td>\n",
        "      <td>        NaN</td>\n",
        "      <td>          NaN</td>\n",
        "      <td>        NaN</td>\n",
        "      <td>        NaN</td>\n",
        "    </tr>\n",
        "    <tr>\n",
        "      <th>top</th>\n",
        "      <td> Russian Federation</td>\n",
        "      <td> Europe</td>\n",
        "      <td>            NaN</td>\n",
        "      <td>        NaN</td>\n",
        "      <td>        NaN</td>\n",
        "      <td>        NaN</td>\n",
        "      <td>        NaN</td>\n",
        "      <td>        NaN</td>\n",
        "      <td>        NaN</td>\n",
        "      <td>        NaN</td>\n",
        "      <td>          NaN</td>\n",
        "      <td>        NaN</td>\n",
        "      <td>        NaN</td>\n",
        "    </tr>\n",
        "    <tr>\n",
        "      <th>freq</th>\n",
        "      <td>                  1</td>\n",
        "      <td>     53</td>\n",
        "      <td>            NaN</td>\n",
        "      <td>        NaN</td>\n",
        "      <td>        NaN</td>\n",
        "      <td>        NaN</td>\n",
        "      <td>        NaN</td>\n",
        "      <td>        NaN</td>\n",
        "      <td>        NaN</td>\n",
        "      <td>        NaN</td>\n",
        "      <td>          NaN</td>\n",
        "      <td>        NaN</td>\n",
        "      <td>        NaN</td>\n",
        "    </tr>\n",
        "    <tr>\n",
        "      <th>mean</th>\n",
        "      <td>                NaN</td>\n",
        "      <td>    NaN</td>\n",
        "      <td>   36359.974227</td>\n",
        "      <td>  28.732423</td>\n",
        "      <td>  11.163660</td>\n",
        "      <td>   2.940656</td>\n",
        "      <td>  70.010309</td>\n",
        "      <td>  36.148969</td>\n",
        "      <td>  93.641522</td>\n",
        "      <td>  83.710680</td>\n",
        "      <td> 13320.925926</td>\n",
        "      <td>  90.850495</td>\n",
        "      <td>  89.632673</td>\n",
        "    </tr>\n",
        "    <tr>\n",
        "      <th>std</th>\n",
        "      <td>                NaN</td>\n",
        "      <td>    NaN</td>\n",
        "      <td>  137903.141241</td>\n",
        "      <td>  10.534573</td>\n",
        "      <td>   7.149331</td>\n",
        "      <td>   1.480984</td>\n",
        "      <td>   9.259075</td>\n",
        "      <td>  37.992935</td>\n",
        "      <td>  41.400447</td>\n",
        "      <td>  17.530645</td>\n",
        "      <td> 15192.988650</td>\n",
        "      <td>  11.017147</td>\n",
        "      <td>  12.817614</td>\n",
        "    </tr>\n",
        "    <tr>\n",
        "      <th>min</th>\n",
        "      <td>                NaN</td>\n",
        "      <td>    NaN</td>\n",
        "      <td>       1.000000</td>\n",
        "      <td>  13.120000</td>\n",
        "      <td>   0.810000</td>\n",
        "      <td>   1.260000</td>\n",
        "      <td>  47.000000</td>\n",
        "      <td>   2.200000</td>\n",
        "      <td>   2.570000</td>\n",
        "      <td>  31.100000</td>\n",
        "      <td>   340.000000</td>\n",
        "      <td>  37.200000</td>\n",
        "      <td>  32.500000</td>\n",
        "    </tr>\n",
        "    <tr>\n",
        "      <th>25%</th>\n",
        "      <td>                NaN</td>\n",
        "      <td>    NaN</td>\n",
        "      <td>    1695.750000</td>\n",
        "      <td>  18.717500</td>\n",
        "      <td>   5.200000</td>\n",
        "      <td>   1.835000</td>\n",
        "      <td>  64.000000</td>\n",
        "      <td>   8.425000</td>\n",
        "      <td>  63.567500</td>\n",
        "      <td>  71.600000</td>\n",
        "      <td>  2335.000000</td>\n",
        "      <td>  87.700000</td>\n",
        "      <td>  87.300000</td>\n",
        "    </tr>\n",
        "    <tr>\n",
        "      <th>50%</th>\n",
        "      <td>                NaN</td>\n",
        "      <td>    NaN</td>\n",
        "      <td>    7790.000000</td>\n",
        "      <td>  28.650000</td>\n",
        "      <td>   8.530000</td>\n",
        "      <td>   2.400000</td>\n",
        "      <td>  72.500000</td>\n",
        "      <td>  18.600000</td>\n",
        "      <td>  97.745000</td>\n",
        "      <td>  91.800000</td>\n",
        "      <td>  7870.000000</td>\n",
        "      <td>  94.700000</td>\n",
        "      <td>  95.100000</td>\n",
        "    </tr>\n",
        "    <tr>\n",
        "      <th>75%</th>\n",
        "      <td>                NaN</td>\n",
        "      <td>    NaN</td>\n",
        "      <td>   24535.250000</td>\n",
        "      <td>  37.752500</td>\n",
        "      <td>  16.687500</td>\n",
        "      <td>   3.905000</td>\n",
        "      <td>  76.000000</td>\n",
        "      <td>  55.975000</td>\n",
        "      <td> 120.805000</td>\n",
        "      <td>  97.850000</td>\n",
        "      <td> 17557.500000</td>\n",
        "      <td>  98.100000</td>\n",
        "      <td>  97.900000</td>\n",
        "    </tr>\n",
        "    <tr>\n",
        "      <th>max</th>\n",
        "      <td>                NaN</td>\n",
        "      <td>    NaN</td>\n",
        "      <td> 1390000.000000</td>\n",
        "      <td>  49.990000</td>\n",
        "      <td>  31.920000</td>\n",
        "      <td>   7.580000</td>\n",
        "      <td>  83.000000</td>\n",
        "      <td> 181.600000</td>\n",
        "      <td> 196.410000</td>\n",
        "      <td>  99.800000</td>\n",
        "      <td> 86440.000000</td>\n",
        "      <td> 100.000000</td>\n",
        "      <td> 100.000000</td>\n",
        "    </tr>\n",
        "  </tbody>\n",
        "</table>\n",
        "</div>"
       ],
       "metadata": {},
       "output_type": "pyout",
       "prompt_number": 54,
       "text": [
        "                   Country  Region      Population     Under15      Over60  \\\n",
        "count                  194     194      194.000000  194.000000  194.000000   \n",
        "unique                 194       6             NaN         NaN         NaN   \n",
        "top     Russian Federation  Europe             NaN         NaN         NaN   \n",
        "freq                     1      53             NaN         NaN         NaN   \n",
        "mean                   NaN     NaN    36359.974227   28.732423   11.163660   \n",
        "std                    NaN     NaN   137903.141241   10.534573    7.149331   \n",
        "min                    NaN     NaN        1.000000   13.120000    0.810000   \n",
        "25%                    NaN     NaN     1695.750000   18.717500    5.200000   \n",
        "50%                    NaN     NaN     7790.000000   28.650000    8.530000   \n",
        "75%                    NaN     NaN    24535.250000   37.752500   16.687500   \n",
        "max                    NaN     NaN  1390000.000000   49.990000   31.920000   \n",
        "\n",
        "        FertilityRate  LifeExpectancy  ChildMortality  CellularSubscribers  \\\n",
        "count      183.000000      194.000000      194.000000           184.000000   \n",
        "unique            NaN             NaN             NaN                  NaN   \n",
        "top               NaN             NaN             NaN                  NaN   \n",
        "freq              NaN             NaN             NaN                  NaN   \n",
        "mean         2.940656       70.010309       36.148969            93.641522   \n",
        "std          1.480984        9.259075       37.992935            41.400447   \n",
        "min          1.260000       47.000000        2.200000             2.570000   \n",
        "25%          1.835000       64.000000        8.425000            63.567500   \n",
        "50%          2.400000       72.500000       18.600000            97.745000   \n",
        "75%          3.905000       76.000000       55.975000           120.805000   \n",
        "max          7.580000       83.000000      181.600000           196.410000   \n",
        "\n",
        "        LiteracyRate           GNI  PrimarySchoolEnrollmentMale  \\\n",
        "count     103.000000    162.000000                   101.000000   \n",
        "unique           NaN           NaN                          NaN   \n",
        "top              NaN           NaN                          NaN   \n",
        "freq             NaN           NaN                          NaN   \n",
        "mean       83.710680  13320.925926                    90.850495   \n",
        "std        17.530645  15192.988650                    11.017147   \n",
        "min        31.100000    340.000000                    37.200000   \n",
        "25%        71.600000   2335.000000                    87.700000   \n",
        "50%        91.800000   7870.000000                    94.700000   \n",
        "75%        97.850000  17557.500000                    98.100000   \n",
        "max        99.800000  86440.000000                   100.000000   \n",
        "\n",
        "        PrimarySchoolEnrollmentFemale  \n",
        "count                      101.000000  \n",
        "unique                            NaN  \n",
        "top                               NaN  \n",
        "freq                              NaN  \n",
        "mean                        89.632673  \n",
        "std                         12.817614  \n",
        "min                         32.500000  \n",
        "25%                         87.300000  \n",
        "50%                         95.100000  \n",
        "75%                         97.900000  \n",
        "max                        100.000000  "
       ]
      }
     ],
     "prompt_number": 54
    },
    {
     "cell_type": "markdown",
     "metadata": {},
     "source": [
      "## Subsetting"
     ]
    },
    {
     "cell_type": "code",
     "collapsed": false,
     "input": [
      "WHO_Europe =  WHO[WHO.Region == \"Europe\"]\n",
      "WHO_Europe.shape"
     ],
     "language": "python",
     "metadata": {},
     "outputs": [
      {
       "metadata": {},
       "output_type": "pyout",
       "prompt_number": 57,
       "text": [
        "(53, 13)"
       ]
      }
     ],
     "prompt_number": 57
    },
    {
     "cell_type": "markdown",
     "metadata": {},
     "source": [
      "## Writing csv files"
     ]
    },
    {
     "cell_type": "code",
     "collapsed": false,
     "input": [
      "WHO_Europe.to_csv(\"WHO_Europe.csv\")"
     ],
     "language": "python",
     "metadata": {},
     "outputs": [],
     "prompt_number": 58
    },
    {
     "cell_type": "markdown",
     "metadata": {},
     "source": [
      "## Removing variables"
     ]
    },
    {
     "cell_type": "code",
     "collapsed": false,
     "input": [
      "del(WHO_Europe)"
     ],
     "language": "python",
     "metadata": {},
     "outputs": [],
     "prompt_number": 59
    },
    {
     "cell_type": "markdown",
     "metadata": {},
     "source": [
      "# VIDEO 5\n",
      "## Basic data analysis "
     ]
    },
    {
     "cell_type": "code",
     "collapsed": false,
     "input": [
      "WHO['Under15'].mean()"
     ],
     "language": "python",
     "metadata": {},
     "outputs": [
      {
       "metadata": {},
       "output_type": "pyout",
       "prompt_number": 61,
       "text": [
        "28.732422680412363"
       ]
      }
     ],
     "prompt_number": 61
    },
    {
     "cell_type": "code",
     "collapsed": false,
     "input": [
      "WHO['Under15'].std()"
     ],
     "language": "python",
     "metadata": {},
     "outputs": [
      {
       "metadata": {},
       "output_type": "pyout",
       "prompt_number": 62,
       "text": [
        "10.534573319923823"
       ]
      }
     ],
     "prompt_number": 62
    },
    {
     "cell_type": "code",
     "collapsed": false,
     "input": [
      "WHO['Under15'].describe()"
     ],
     "language": "python",
     "metadata": {},
     "outputs": [
      {
       "metadata": {},
       "output_type": "pyout",
       "prompt_number": 63,
       "text": [
        "count    194.000000\n",
        "mean      28.732423\n",
        "std       10.534573\n",
        "min       13.120000\n",
        "25%       18.717500\n",
        "50%       28.650000\n",
        "75%       37.752500\n",
        "max       49.990000\n",
        "Name: Under15, dtype: float64"
       ]
      }
     ],
     "prompt_number": 63
    },
    {
     "cell_type": "code",
     "collapsed": false,
     "input": [
      "WHO['Under15'].idxmin()"
     ],
     "language": "python",
     "metadata": {},
     "outputs": [
      {
       "metadata": {},
       "output_type": "pyout",
       "prompt_number": 64,
       "text": [
        "85"
       ]
      }
     ],
     "prompt_number": 64
    },
    {
     "cell_type": "code",
     "collapsed": false,
     "input": [
      "WHO['Country'][85]"
     ],
     "language": "python",
     "metadata": {},
     "outputs": [
      {
       "metadata": {},
       "output_type": "pyout",
       "prompt_number": 68,
       "text": [
        "'Japan'"
       ]
      }
     ],
     "prompt_number": 68
    },
    {
     "cell_type": "code",
     "collapsed": false,
     "input": [
      "WHO['Under15'].idxmax()"
     ],
     "language": "python",
     "metadata": {},
     "outputs": [
      {
       "metadata": {},
       "output_type": "pyout",
       "prompt_number": 66,
       "text": [
        "123"
       ]
      }
     ],
     "prompt_number": 66
    },
    {
     "cell_type": "markdown",
     "metadata": {},
     "source": [
      "equvalent way to setting the value:"
     ]
    },
    {
     "cell_type": "code",
     "collapsed": false,
     "input": [
      "WHO.at[123,'Country']"
     ],
     "language": "python",
     "metadata": {},
     "outputs": [
      {
       "metadata": {},
       "output_type": "pyout",
       "prompt_number": 70,
       "text": [
        "'Niger'"
       ]
      }
     ],
     "prompt_number": 70
    },
    {
     "cell_type": "markdown",
     "metadata": {},
     "source": [
      "## Scatterplot"
     ]
    },
    {
     "cell_type": "code",
     "collapsed": false,
     "input": [
      "WHO.plot('GNI', 'FertilityRate', kind = 'scatter')"
     ],
     "language": "python",
     "metadata": {},
     "outputs": [
      {
       "metadata": {},
       "output_type": "pyout",
       "prompt_number": 79,
       "text": [
        "<matplotlib.axes._subplots.AxesSubplot at 0xd5ca048>"
       ]
      },
      {
       "metadata": {},
       "output_type": "display_data",
       "png": "[encoded data removed]",
       "text": [
        "<matplotlib.figure.Figure at 0xd4e8470>"
       ]
      }
     ],
     "prompt_number": 79
    },
    {
     "cell_type": "markdown",
     "metadata": {},
     "source": [
      "## Subsetting"
     ]
    },
    {
     "cell_type": "code",
     "collapsed": false,
     "input": [
      "Outliers = WHO[(WHO.GNI > 10000) & (WHO.FertilityRate > 2.5)]\n",
      "Outliers.shape[0]"
     ],
     "language": "python",
     "metadata": {},
     "outputs": [
      {
       "metadata": {},
       "output_type": "pyout",
       "prompt_number": 85,
       "text": [
        "7"
       ]
      }
     ],
     "prompt_number": 85
    },
    {
     "cell_type": "code",
     "collapsed": false,
     "input": [
      "Outliers[['Country','GNI','FertilityRate']]"
     ],
     "language": "python",
     "metadata": {},
     "outputs": [
      {
       "html": [
        "<div style=\"max-height:1000px;max-width:1500px;overflow:auto;\">\n",
        "<table border=\"1\" class=\"dataframe\">\n",
        "  <thead>\n",
        "    <tr style=\"text-align: right;\">\n",
        "      <th></th>\n",
        "      <th>Country</th>\n",
        "      <th>GNI</th>\n",
        "      <th>FertilityRate</th>\n",
        "    </tr>\n",
        "  </thead>\n",
        "  <tbody>\n",
        "    <tr>\n",
        "      <th>22 </th>\n",
        "      <td>          Botswana</td>\n",
        "      <td> 14550</td>\n",
        "      <td> 2.71</td>\n",
        "    </tr>\n",
        "    <tr>\n",
        "      <th>55 </th>\n",
        "      <td> Equatorial Guinea</td>\n",
        "      <td> 25620</td>\n",
        "      <td> 5.04</td>\n",
        "    </tr>\n",
        "    <tr>\n",
        "      <th>62 </th>\n",
        "      <td>             Gabon</td>\n",
        "      <td> 13740</td>\n",
        "      <td> 4.18</td>\n",
        "    </tr>\n",
        "    <tr>\n",
        "      <th>82 </th>\n",
        "      <td>            Israel</td>\n",
        "      <td> 27110</td>\n",
        "      <td> 2.92</td>\n",
        "    </tr>\n",
        "    <tr>\n",
        "      <th>87 </th>\n",
        "      <td>        Kazakhstan</td>\n",
        "      <td> 11250</td>\n",
        "      <td> 2.52</td>\n",
        "    </tr>\n",
        "    <tr>\n",
        "      <th>130</th>\n",
        "      <td>            Panama</td>\n",
        "      <td> 14510</td>\n",
        "      <td> 2.52</td>\n",
        "    </tr>\n",
        "    <tr>\n",
        "      <th>149</th>\n",
        "      <td>      Saudi Arabia</td>\n",
        "      <td> 24700</td>\n",
        "      <td> 2.76</td>\n",
        "    </tr>\n",
        "  </tbody>\n",
        "</table>\n",
        "</div>"
       ],
       "metadata": {},
       "output_type": "pyout",
       "prompt_number": 86,
       "text": [
        "               Country    GNI  FertilityRate\n",
        "22            Botswana  14550           2.71\n",
        "55   Equatorial Guinea  25620           5.04\n",
        "62               Gabon  13740           4.18\n",
        "82              Israel  27110           2.92\n",
        "87          Kazakhstan  11250           2.52\n",
        "130             Panama  14510           2.52\n",
        "149       Saudi Arabia  24700           2.76"
       ]
      }
     ],
     "prompt_number": 86
    },
    {
     "cell_type": "markdown",
     "metadata": {},
     "source": [
      "# VIDEO 6\n",
      "## Histograms"
     ]
    },
    {
     "cell_type": "code",
     "collapsed": false,
     "input": [
      "WHO.plot(y = 'CellularSubscribers', kind = 'hist', legend = False)"
     ],
     "language": "python",
     "metadata": {},
     "outputs": [
      {
       "metadata": {},
       "output_type": "pyout",
       "prompt_number": 88,
       "text": [
        "<matplotlib.axes._subplots.AxesSubplot at 0xe3990b8>"
       ]
      },
      {
       "metadata": {},
       "output_type": "display_data",
       "png": "[encoded data removed]",
       "text": [
        "<matplotlib.figure.Figure at 0xa835278>"
       ]
      }
     ],
     "prompt_number": 88
    },
    {
     "cell_type": "markdown",
     "metadata": {},
     "source": [
      "## Boxplot\n",
      "Using default settings"
     ]
    },
    {
     "cell_type": "code",
     "collapsed": false,
     "input": [
      "WHO.boxplot('LifeExpectancy', by = 'Region')"
     ],
     "language": "python",
     "metadata": {},
     "outputs": [
      {
       "metadata": {},
       "output_type": "pyout",
       "prompt_number": 89,
       "text": [
        "<matplotlib.axes._subplots.AxesSubplot at 0xe41b080>"
       ]
      },
      {
       "metadata": {},
       "output_type": "display_data",
       "png": "[encoded data removed]",
       "text": [
        "<matplotlib.figure.Figure at 0xe41bc88>"
       ]
      }
     ],
     "prompt_number": 89
    },
    {
     "cell_type": "markdown",
     "metadata": {},
     "source": [
      "tweaking the params a little bit to get a nicer plot    \n",
      "The code is a bit messy...."
     ]
    },
    {
     "cell_type": "code",
     "collapsed": false,
     "input": [
      "fig = plt.figure()\n",
      "WHO.boxplot('LifeExpectancy', by = 'Region', rot = 60)\n",
      "plt.title(\"Life Expectancy of Countries by Region\")\n",
      "plt.suptitle(\"\")\n",
      "plt.ylabel(\"Life Expectancy\")"
     ],
     "language": "python",
     "metadata": {},
     "outputs": [
      {
       "metadata": {},
       "output_type": "pyout",
       "prompt_number": 102,
       "text": [
        "<matplotlib.text.Text at 0x11674240>"
       ]
      },
      {
       "metadata": {},
       "output_type": "display_data",
       "text": [
        "<matplotlib.figure.Figure at 0x10946b70>"
       ]
      },
      {
       "metadata": {},
       "output_type": "display_data",
       "png": "[encoded data removed]",
       "text": [
        "<matplotlib.figure.Figure at 0x112b1dd8>"
       ]
      }
     ],
     "prompt_number": 102
    },
    {
     "cell_type": "markdown",
     "metadata": {},
     "source": [
      "## Summary Tables\n",
      "A bit more complicated than in R"
     ]
    },
    {
     "cell_type": "code",
     "collapsed": false,
     "input": [
      "WHO.groupby('Region').size()"
     ],
     "language": "python",
     "metadata": {},
     "outputs": [
      {
       "metadata": {},
       "output_type": "pyout",
       "prompt_number": 103,
       "text": [
        "Region\n",
        "Africa                   46\n",
        "Americas                 35\n",
        "Eastern Mediterranean    22\n",
        "Europe                   53\n",
        "South-East Asia          11\n",
        "Western Pacific          27\n",
        "dtype: int64"
       ]
      }
     ],
     "prompt_number": 103
    },
    {
     "cell_type": "code",
     "collapsed": false,
     "input": [
      "WHO.groupby('Region')['Over60'].mean()"
     ],
     "language": "python",
     "metadata": {},
     "outputs": [
      {
       "metadata": {},
       "output_type": "pyout",
       "prompt_number": 107,
       "text": [
        "Region\n",
        "Africa                    5.220652\n",
        "Americas                 10.943714\n",
        "Eastern Mediterranean     5.620000\n",
        "Europe                   19.774906\n",
        "South-East Asia           8.769091\n",
        "Western Pacific          10.162963\n",
        "Name: Over60, dtype: float64"
       ]
      }
     ],
     "prompt_number": 107
    },
    {
     "cell_type": "code",
     "collapsed": false,
     "input": [
      "WHO.groupby('Region')['LiteracyRate'].min()"
     ],
     "language": "python",
     "metadata": {},
     "outputs": [
      {
       "metadata": {},
       "output_type": "pyout",
       "prompt_number": 109,
       "text": [
        "Region\n",
        "Africa                   31.1\n",
        "Americas                 75.2\n",
        "Eastern Mediterranean    63.9\n",
        "Europe                   95.2\n",
        "South-East Asia          56.8\n",
        "Western Pacific          60.6\n",
        "Name: LiteracyRate, dtype: float64"
       ]
      }
     ],
     "prompt_number": 109
    }
   ],
   "metadata": {}
  }
 ]
}