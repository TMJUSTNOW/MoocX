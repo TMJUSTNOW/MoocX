{
 "cells": [
  {
   "cell_type": "code",
   "execution_count": 1,
   "metadata": {
    "collapsed": false
   },
   "outputs": [
    {
     "data": {
      "text/plain": [
       "<IPython.core.display.Javascript object>"
      ]
     },
     "metadata": {},
     "output_type": "display_data"
    }
   ],
   "source": [
    "%%javascript\n",
    "var kernel = IPython.notebook.kernel;\n",
    "var body = document.body,  \n",
    "    attribs = body.attributes;\n",
    "var command = \"__filename__ = \" + \"'\" + decodeURIComponent(attribs['data-notebook-name'].value) + \"'\";\n",
    "kernel.execute(command);"
   ]
  },
  {
   "cell_type": "code",
   "execution_count": 2,
   "metadata": {
    "collapsed": false
   },
   "outputs": [
    {
     "name": "stdout",
     "output_type": "stream",
     "text": [
      "Training Convergence.ipynb\n"
     ]
    }
   ],
   "source": [
    "print(__filename__)"
   ]
  },
  {
   "cell_type": "code",
   "execution_count": null,
   "metadata": {
    "collapsed": false
   },
   "outputs": [
    {
     "name": "stdout",
     "output_type": "stream",
     "text": [
      "Extracting MNIST_data/train-images-idx3-ubyte.gz\n",
      "Extracting MNIST_data/train-labels-idx1-ubyte.gz\n",
      "Extracting MNIST_data/t10k-images-idx3-ubyte.gz\n",
      "Extracting MNIST_data/t10k-labels-idx1-ubyte.gz\n",
      "Extracting MNIST_data/train-images-idx3-ubyte.gz\n",
      "Extracting MNIST_data/train-labels-idx1-ubyte.gz\n",
      "Extracting MNIST_data/t10k-images-idx3-ubyte.gz\n",
      "Extracting MNIST_data/t10k-labels-idx1-ubyte.gz\n"
     ]
    }
   ],
   "source": [
    "import os, sys, numpy as np, tensorflow as tf\n",
    "from pathlib import Path\n",
    "\n",
    "import time\n",
    "try:\n",
    "    print(__file__)\n",
    "    __current_dir__ = str(Path(__file__).resolve().parents[0])\n",
    "    __filename__ = os.path.basename(__file__)\n",
    "\n",
    "except NameError:\n",
    "    # jupyter notebook automatically sets the working \n",
    "    # directory to where the notebook is.\n",
    "    __current_dir__ = str(Path(os.getcwd()))\n",
    "\n",
    "module_parent_dir = str(Path(__current_dir__).resolve().parents[0])\n",
    "\n",
    "sys.path.append(module_parent_dir)\n",
    "import LeNet_plus_centerloss\n",
    "\n",
    "__package__ = 'LeNet_plus_centerloss'\n",
    "from . import network\n",
    "\n",
    "from tensorflow.examples.tutorials.mnist import input_data\n",
    "\n",
    "mnist = input_data.read_data_sets(\"MNIST_data/\", one_hot=True)\n",
    "\n",
    "BATCH_SIZE = 250\n",
    "SCRIPT_DIR = __current_dir__\n",
    "FILENAME = __filename__\n",
    "SUMMARIES_DIR = SCRIPT_DIR\n",
    "SAVE_PATH = SCRIPT_DIR + \"/network.ckpt\"\n",
    "\n",
    "### configure devices for this eval script.\n",
    "USE_DEVICE = '/gpu:0'\n",
    "session_config = tf.ConfigProto(log_device_placement=True)\n",
    "session_config.gpu_options.allow_growth = True\n",
    "# this is required if want to use GPU as device.\n",
    "# see: https://github.com/tensorflow/tensorflow/issues/2292\n",
    "session_config.allow_soft_placement = True"
   ]
  },
  {
   "cell_type": "code",
   "execution_count": null,
   "metadata": {
    "collapsed": false
   },
   "outputs": [
    {
     "name": "stdout",
     "output_type": "stream",
     "text": [
      "- MNIST Test accuracy is  1.0\n",
      "- MNIST Test accuracy is  1.0\n",
      "- MNIST Test accuracy is  1.0\n",
      "- MNIST Test accuracy is  1.0\n",
      "- MNIST Test accuracy is  1.0\n",
      "- MNIST Test accuracy is  1.0\n",
      "- MNIST Test accuracy is  1.0\n",
      "- MNIST Test accuracy is  1.0\n",
      "- MNIST Test accuracy is  1.0\n"
     ]
    }
   ],
   "source": [
    "if __name__ == \"__main__\":\n",
    "    with tf.Graph().as_default() as g, tf.device(USE_DEVICE):\n",
    "        # inference()\n",
    "        input, hidden_2d, logits = network.inference()\n",
    "        labels, loss_op = network.loss(logits)\n",
    "        train = network.training(loss_op, 1e-1)\n",
    "        eval = network.evaluation(logits, labels)\n",
    "\n",
    "        init = tf.initialize_all_variables()\n",
    "\n",
    "        with tf.Session(config=session_config) as sess:\n",
    "            # Merge all the summaries and write them out to /tmp/mnist_logs (by default)\n",
    "            # to see the tensor graph, fire up the tensorboard with --logdir=\"./train\"\n",
    "            merged = tf.merge_all_summaries()\n",
    "            train_writer = tf.train.SummaryWriter(SUMMARIES_DIR + '/summaries/train', sess.graph)\n",
    "            test_writer = tf.train.SummaryWriter(SUMMARIES_DIR + '/summaries/test')\n",
    "\n",
    "            saver = tf.train.Saver()\n",
    "\n",
    "            sess.run(init)\n",
    "            saver.restore(sess, SAVE_PATH)\n",
    "\n",
    "            # now let's test!\n",
    "            TEST_BATCH_SIZE = np.shape(mnist.test.labels)[0]\n",
    "            \n",
    "            # while True:\n",
    "            # saver.restore(sess, SAVE_PATH)\n",
    "            output, loss_value, accuracy = sess.run([logits, loss_op, eval], feed_dict={\n",
    "                input: mnist.test.images,\n",
    "                labels: mnist.test.labels\n",
    "            })\n",
    "            print(\"- MNIST Test accuracy is \", accuracy / TEST_BATCH_SIZE)\n",
    "            # time.sleep(5.0)"
   ]
  },
  {
   "cell_type": "code",
   "execution_count": null,
   "metadata": {
    "collapsed": true
   },
   "outputs": [],
   "source": [
    ""
   ]
  }
 ],
 "metadata": {
  "kernelspec": {
   "display_name": "Python 3",
   "language": "python",
   "name": "python3"
  },
  "language_info": {
   "codemirror_mode": {
    "name": "ipython",
    "version": 3.0
   },
   "file_extension": ".py",
   "mimetype": "text/x-python",
   "name": "python",
   "nbconvert_exporter": "python",
   "pygments_lexer": "ipython3",
   "version": "3.4.3"
  }
 },
 "nbformat": 4,
 "nbformat_minor": 0
}