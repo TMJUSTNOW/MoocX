{
 "cells": [
  {
   "cell_type": "code",
   "execution_count": 23,
   "metadata": {
    "collapsed": false
   },
   "outputs": [
    {
     "data": {
      "text/plain": [
       "<IPython.core.display.Javascript object>"
      ]
     },
     "metadata": {},
     "output_type": "display_data"
    }
   ],
   "source": [
    "%%javascript\n",
    "var kernel = IPython.notebook.kernel;\n",
    "var body = document.body,  \n",
    "    attribs = body.attributes;\n",
    "var command = \"__filename__ = \" + \"'\" + decodeURIComponent(attribs['data-notebook-name'].value) + \"'\";\n",
    "kernel.execute(command);"
   ]
  },
  {
   "cell_type": "code",
   "execution_count": 24,
   "metadata": {
    "collapsed": false
   },
   "outputs": [
    {
     "name": "stdout",
     "output_type": "stream",
     "text": [
      "2D visualization of learning.ipynb\n"
     ]
    }
   ],
   "source": [
    "print(__filename__)"
   ]
  },
  {
   "cell_type": "code",
   "execution_count": 37,
   "metadata": {
    "collapsed": false
   },
   "outputs": [
    {
     "name": "stdout",
     "output_type": "stream",
     "text": [
      "Extracting MNIST_data/train-images-idx3-ubyte.gz\n",
      "Extracting MNIST_data/train-labels-idx1-ubyte.gz\n",
      "Extracting MNIST_data/t10k-images-idx3-ubyte.gz\n",
      "Extracting MNIST_data/t10k-labels-idx1-ubyte.gz\n"
     ]
    }
   ],
   "source": [
    "import os, sys, numpy as np, tensorflow as tf\n",
    "from pathlib import Path\n",
    "\n",
    "import time\n",
    "try:\n",
    "    print(__file__)\n",
    "    __current_dir__ = str(Path(__file__).resolve().parents[0])\n",
    "    __filename__ = os.path.basename(__file__)\n",
    "\n",
    "except NameError:\n",
    "    # jupyter notebook automatically sets the working \n",
    "    # directory to where the notebook is.\n",
    "    __current_dir__ = str(Path(os.getcwd()))\n",
    "\n",
    "module_parent_dir = str(Path(__current_dir__).resolve().parents[0])\n",
    "\n",
    "sys.path.append(module_parent_dir)\n",
    "import LeNet_plus_centerloss\n",
    "\n",
    "__package__ = 'LeNet_plus_centerloss'\n",
    "from . import network\n",
    "\n",
    "from tensorflow.examples.tutorials.mnist import input_data\n",
    "\n",
    "mnist = input_data.read_data_sets(\"MNIST_data/\", one_hot=True)\n",
    "\n",
    "BATCH_SIZE = 250\n",
    "SCRIPT_DIR = __current_dir__\n",
    "FILENAME = __filename__\n",
    "SUMMARIES_DIR = SCRIPT_DIR\n",
    "SAVE_PATH = SCRIPT_DIR + \"/network.ckpt\"\n",
    "\n",
    "### configure devices for this eval script.\n",
    "USE_DEVICE = '/gpu:2'\n",
    "session_config = tf.ConfigProto(log_device_placement=True)\n",
    "session_config.gpu_options.allow_growth = True\n",
    "# this is required if want to use GPU as device.\n",
    "# see: https://github.com/tensorflow/tensorflow/issues/2292\n",
    "session_config.allow_soft_placement = True"
   ]
  },
  {
   "cell_type": "code",
   "execution_count": 38,
   "metadata": {
    "collapsed": false
   },
   "outputs": [
    {
     "name": "stdout",
     "output_type": "stream",
     "text": [
      "MNIST Test accuracy is  0.9808\n"
     ]
    }
   ],
   "source": [
    "with tf.Graph().as_default() as g, tf.device(USE_DEVICE):\n",
    "    # inference()\n",
    "    input, deep_features = network.inference()\n",
    "    labels, logits, loss_op = network.loss(deep_features)\n",
    "    eval = network.evaluation(logits, labels)\n",
    "\n",
    "    init = tf.initialize_all_variables()\n",
    "\n",
    "    with tf.Session(config=session_config) as sess:\n",
    "        \n",
    "        saver = tf.train.Saver()\n",
    "\n",
    "        saver.restore(sess, SAVE_PATH)\n",
    "\n",
    "        # TEST_BATCH_SIZE = np.shape(mnist.test.labels)[0]\n",
    "        logits_output, deep_features_output, loss_value, accuracy = \\\n",
    "            sess.run(\n",
    "                [logits, deep_features, loss_op, eval], feed_dict={\n",
    "                    input: mnist.test.images[5000:],\n",
    "                    labels: mnist.test.labels[5000:]\n",
    "                })\n",
    "        print(\"MNIST Test accuracy is \", accuracy)"
   ]
  },
  {
   "cell_type": "code",
   "execution_count": 39,
   "metadata": {
    "collapsed": false
   },
   "outputs": [],
   "source": [
    "import matplotlib.pyplot as plt\n",
    "%matplotlib inline"
   ]
  },
  {
   "cell_type": "code",
   "execution_count": 40,
   "metadata": {
    "collapsed": true
   },
   "outputs": [],
   "source": [
    "color_palette = ['#507ba6', '#f08e39', '#e0595c', '#79b8b3', '#5ca153', \n",
    "                 '#edc854', '#af7ba2', '#fe9fa9', '#9c7561', '#bbb0ac']"
   ]
  },
  {
   "cell_type": "code",
   "execution_count": 41,
   "metadata": {
    "collapsed": false
   },
   "outputs": [],
   "source": [
    "from IPython.display import FileLink, FileLinks"
   ]
  },
  {
   "cell_type": "code",
   "execution_count": 42,
   "metadata": {
    "collapsed": false
   },
   "outputs": [
    {
     "data": {
      "text/html": [
       "<a href='./figures/MNIST LeNet++ with 2 Deep Features (PReLU).png' target='_blank'>./figures/MNIST LeNet++ with 2 Deep Features (PReLU).png</a><br>"
      ],
      "text/plain": [
       "/home/ubuntu/pynb/deep_learning_notes/Proj_Centroid_Loss_LeNet/LeNet_plus_centerloss/figures/MNIST LeNet++ with 2 Deep Features (PReLU).png"
      ]
     },
     "execution_count": 42,
     "metadata": {},
     "output_type": "execute_result"
    },
    {
     "data": {
      "image/png": "[encoded data removed]",
      "text/plain": [
       "<matplotlib.figure.Figure at 0x7f0e3c066828>"
      ]
     },
     "metadata": {},
     "output_type": "display_data"
    }
   ],
   "source": [
    "bins = {}\n",
    "for logit, deep_feature in zip(logits_output, deep_features_output):\n",
    "    label = np.argmax(logit)\n",
    "    try:\n",
    "        bins[str(label)].append(list(deep_feature))\n",
    "    except KeyError:\n",
    "        bins[str(label)] = [list(deep_feature)]\n",
    "\n",
    "plt.figure(figsize=(5, 5))\n",
    "for numeral in map(str, range(10)):\n",
    "    try:\n",
    "        features = np.array(bins[numeral])\n",
    "    except KeyError:\n",
    "        print(numeral + \" does not exist\")\n",
    "        features = []\n",
    "    plt.scatter(\n",
    "        features[:, 0], \n",
    "        features[:, 1], \n",
    "        color=color_palette[int(numeral)],\n",
    "        label=numeral\n",
    "    )\n",
    "    \n",
    "plt.legend(loc=(1.1, 0.1), frameon=False)\n",
    "\n",
    "title = 'MNIST LeNet++ with 2 Deep Features (PReLU)'\n",
    "plt.title(title)\n",
    "plt.xlabel('activation of hidden neuron 1')\n",
    "plt.ylabel('activation of hidden neuron 2')\n",
    "\n",
    "fname = './figures/' + title + '.png'\n",
    "plt.savefig(fname, dpi=300, bbox_inches='tight')\n",
    "FileLink(fname)"
   ]
  },
  {
   "cell_type": "code",
   "execution_count": null,
   "metadata": {
    "collapsed": true
   },
   "outputs": [],
   "source": [
    ""
   ]
  }
 ],
 "metadata": {
  "kernelspec": {
   "display_name": "Python 3",
   "language": "python",
   "name": "python3"
  },
  "language_info": {
   "codemirror_mode": {
    "name": "ipython",
    "version": 3.0
   },
   "file_extension": ".py",
   "mimetype": "text/x-python",
   "name": "python",
   "nbconvert_exporter": "python",
   "pygments_lexer": "ipython3",
   "version": "3.4.3"
  }
 },
 "nbformat": 4,
 "nbformat_minor": 0
}