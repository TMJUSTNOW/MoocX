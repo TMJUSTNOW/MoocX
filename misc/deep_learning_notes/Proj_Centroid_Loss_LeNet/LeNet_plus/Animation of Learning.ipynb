{
 "cells": [
  {
   "cell_type": "code",
   "execution_count": 1,
   "metadata": {
    "collapsed": false
   },
   "outputs": [],
   "source": [
    "import h5py\n",
    "import numpy as np\n",
    "from pprint import pprint\n",
    "from termcolor import colored as c, cprint\n",
    "from IPython.display import FileLink\n",
    "from tqdm import tqdm \n",
    "\n",
    "import matplotlib\n",
    "matplotlib.use('Agg')\n",
    "import matplotlib.pyplot as plt\n",
    "%matplotlib inline"
   ]
  },
  {
   "cell_type": "code",
   "execution_count": 2,
   "metadata": {
    "collapsed": true
   },
   "outputs": [],
   "source": [
    "color_palette = ['#507ba6', '#f08e39', '#e0595c', '#79b8b3', '#5ca153', \n",
    "                 '#edc854', '#af7ba2', '#fe9fa9', '#9c7561', '#bbb0ac']\n",
    "\n",
    "def plot_deep_features(deep_features, labels, save=False, **kwargs):\n",
    "    bins = {}\n",
    "    for logit, deep_feature in zip(labels, deep_features):\n",
    "        label = np.argmax(logit)\n",
    "        \n",
    "        # print(label)\n",
    "        try:\n",
    "            bins[str(label)].append(list(deep_feature))\n",
    "        except KeyError:\n",
    "            bins[str(label)] = [list(deep_feature)]\n",
    "\n",
    "    fig = plt.figure(figsize=(5, 5))\n",
    "    \n",
    "    for numeral in map(str, range(10)):\n",
    "        try:\n",
    "            features = np.array(bins[numeral])\n",
    "        except KeyError:\n",
    "            print(numeral + \" does not exist\")\n",
    "            features = []\n",
    "        \n",
    "        try:\n",
    "            x, y = np.transpose(features)\n",
    "        except ValueError:\n",
    "            x = []; y = []\n",
    "        plt.scatter(\n",
    "            x, \n",
    "            y, \n",
    "            color=color_palette[int(numeral)],\n",
    "            label=numeral\n",
    "        )\n",
    "\n",
    "    plt.legend(loc=(1.1, 0.1), frameon=False)\n",
    "\n",
    "    title = 'MNIST LeNet++ with 2 Deep Features (PReLU)'\n",
    "    plt.title(title)\n",
    "    \n",
    "    plt.xlabel('activation of hidden neuron 1')\n",
    "    plt.ylabel('activation of hidden neuron 2')\n",
    "    \n",
    "    if 'xlim' in kwargs:\n",
    "        plt.xlim(kwargs['xlim'][0], kwargs['xlim'][1])\n",
    "    if 'ylim' in kwargs:\n",
    "        plt.ylim(kwargs['ylim'][0], kwargs['ylim'][1])\n",
    "    \n",
    "    if save and 'frame_index' in kwargs:\n",
    "        prefix = 'frame'\n",
    "        fname = './figures/animation/' + prefix + \"_\" + str(1000 + kwargs['frame_index'])[-3:] + '.png'\n",
    "        plt.savefig(fname, dpi=300, bbox_inches='tight')\n",
    "        plt.close(fig)\n",
    "    elif save:\n",
    "        fname = './figures/animation/' + title + '.png'\n",
    "        plt.savefig(fname, dpi=300, bbox_inches='tight')\n",
    "        plt.close(fig)\n",
    "    else:\n",
    "        plt.show()"
   ]
  },
  {
   "cell_type": "code",
   "execution_count": null,
   "metadata": {
    "collapsed": false,
    "scrolled": false
   },
   "outputs": [],
   "source": [
    "with h5py.File('./dumps/training.h5') as f:\n",
    "    for i in tqdm(range(0, 20000, 50)):\n",
    "        step_key = \"step_{}\".format(str(1000000 + i)[-6:])\n",
    "        step_entry = f[step_key]\n",
    "        \n",
    "        deep_features = step_entry['deep_features']\n",
    "        logits = step_entry['logits']\n",
    "        target_labels = step_entry['target_labels']\n",
    "        \n",
    "        target_labels_output = list(target_labels)\n",
    "        \n",
    "        plot_deep_features(deep_features, target_labels, xlim=(-250, 200), ylim=(-250, 200), save=True, frame_index=int(i/50))"
   ]
  },
  {
   "cell_type": "code",
   "execution_count": 3,
   "metadata": {
    "collapsed": false
   },
   "outputs": [
    {
     "name": "stdout",
     "output_type": "stream",
     "text": [
      "/home/ubuntu/deep_learning_notes/Proj_Centroid_Loss_LeNet/LeNet_plus\n"
     ]
    },
    {
     "name": "stderr",
     "output_type": "stream",
     "text": [
      "ffmpeg version N-80901-gfebc862 Copyright (c) 2000-2016 the FFmpeg developers\n",
      "  built with gcc 4.8 (Ubuntu 4.8.4-2ubuntu1~14.04.3)\n",
      "  configuration: --extra-libs=-ldl --prefix=/opt/ffmpeg --mandir=/usr/share/man --enable-avresample --disable-debug --enable-nonfree --enable-gpl --enable-version3 --enable-libopencore-amrnb --enable-libopencore-amrwb --disable-decoder=amrnb --disable-decoder=amrwb --enable-libpulse --enable-libfreetype --enable-gnutls --enable-libx264 --enable-libx265 --enable-libfdk-aac --enable-libvorbis --enable-libmp3lame --enable-libopus --enable-libvpx --enable-libspeex --enable-libass --enable-avisynth --enable-libsoxr --enable-libxvid --enable-libvidstab\n",
      "  libavutil      55. 28.100 / 55. 28.100\n",
      "  libavcodec     57. 48.101 / 57. 48.101\n",
      "  libavformat    57. 41.100 / 57. 41.100\n",
      "  libavdevice    57.  0.102 / 57.  0.102\n",
      "  libavfilter     6. 47.100 /  6. 47.100\n",
      "  libavresample   3.  0.  0 /  3.  0.  0\n",
      "  libswscale      4.  1.100 /  4.  1.100\n",
      "  libswresample   2.  1.100 /  2.  1.100\n",
      "  libpostproc    54.  0.100 / 54.  0.100\n",
      "Input #0, image2, from 'frame_%03d.png':\n",
      "  Duration: 00:00:40.00, start: 0.000000, bitrate: N/A\n",
      "    Stream #0:0: Video: png, rgba(pc), 1730x1398 [SAR 11811:11811 DAR 865:699], 10 fps, 10 tbr, 10 tbn, 10 tbc\n",
      "[libx264 @ 0x25f0d80] using SAR=1/1\n",
      "[libx264 @ 0x25f0d80] using cpu capabilities: MMX2 SSE2Fast SSSE3 SSE4.2 AVX\n",
      "[libx264 @ 0x25f0d80] profile High, level 5.0\n",
      "[libx264 @ 0x25f0d80] 264 - core 148 r2643 5c65704 - H.264/MPEG-4 AVC codec - Copyleft 2003-2015 - http://www.videolan.org/x264.html - options: cabac=1 ref=3 deblock=1:0:0 analyse=0x3:0x113 me=hex subme=7 psy=1 psy_rd=1.00:0.00 mixed_ref=1 me_range=16 chroma_me=1 trellis=1 8x8dct=1 cqm=0 deadzone=21,11 fast_pskip=1 chroma_qp_offset=-2 threads=12 lookahead_threads=2 sliced_threads=0 nr=0 decimate=1 interlaced=0 bluray_compat=0 constrained_intra=0 bframes=3 b_pyramid=2 b_adapt=1 b_bias=0 direct=1 weightb=1 open_gop=0 weightp=2 keyint=250 keyint_min=25 scenecut=40 intra_refresh=0 rc_lookahead=40 rc=crf mbtree=1 crf=23.0 qcomp=0.60 qpmin=0 qpmax=69 qpstep=4 ip_ratio=1.40 aq=1:1.00\n",
      "[mp4 @ 0x25cb9e0] Using AVStream.codec to pass codec parameters to muxers is deprecated, use AVStream.codecpar instead.\n",
      "Output #0, mp4, to 'output/MNIST_LeNet_faster.mp4':\n",
      "  Metadata:\n",
      "    encoder         : Lavf57.41.100\n",
      "    Stream #0:0: Video: h264 (libx264) ([33][0][0][0] / 0x0021), yuv420p, 1730x1398 [SAR 1:1 DAR 865:699], q=-1--1, 30 fps, 15360 tbn, 30 tbc\n",
      "    Metadata:\n",
      "      encoder         : Lavc57.48.101 libx264\n",
      "    Side data:\n",
      "      cpb: bitrate max/min/avg: 0/0/0 buffer size: 0 vbv_delay: -1\n",
      "Stream mapping:\n",
      "  Stream #0:0 -> #0:0 (png (native) -> h264 (libx264))\n",
      "Press [q] to stop, [?] for help\n",
      "frame=   51 fps=0.0 q=0.0 size=       0kB time=00:00:00.00 bitrate=N/A dup=34 drop=0 speed=   0x    \r",
      "frame=   96 fps= 87 q=29.0 size=      50kB time=00:00:01.23 bitrate= 330.7kbits/s dup=64 drop=0 speed=1.12x    \r",
      "frame=  135 fps= 82 q=29.0 size=      67kB time=00:00:02.53 bitrate= 217.5kbits/s dup=90 drop=0 speed=1.55x    \r",
      "frame=  180 fps= 82 q=29.0 size=      97kB time=00:00:04.03 bitrate= 196.1kbits/s dup=120 drop=0 speed=1.84x    \r",
      "frame=  219 fps= 80 q=29.0 size=     129kB time=00:00:05.33 bitrate= 198.8kbits/s dup=146 drop=0 speed=1.96x    \r",
      "frame=  249 fps= 76 q=29.0 size=     160kB time=00:00:06.33 bitrate= 206.8kbits/s dup=166 drop=0 speed=1.93x    \r",
      "frame=  282 fps= 73 q=29.0 size=     199kB time=00:00:07.43 bitrate= 218.8kbits/s dup=188 drop=0 speed=1.92x    \r",
      "frame=  315 fps= 71 q=29.0 size=     296kB time=00:00:08.53 bitrate= 283.7kbits/s dup=210 drop=0 speed=1.93x    \r",
      "frame=  345 fps= 69 q=29.0 size=     338kB time=00:00:09.53 bitrate= 290.3kbits/s dup=230 drop=0 speed=1.91x    \r",
      "frame=  375 fps= 68 q=29.0 size=     386kB time=00:00:10.53 bitrate= 300.1kbits/s dup=250 drop=0 speed=1.92x    \r",
      "frame=  402 fps= 67 q=29.0 size=     432kB time=00:00:11.43 bitrate= 309.8kbits/s dup=268 drop=0 speed=1.89x    \r",
      "frame=  432 fps= 66 q=29.0 size=     489kB time=00:00:12.43 bitrate= 322.3kbits/s dup=288 drop=0 speed=1.89x    \r",
      "frame=  462 fps= 65 q=29.0 size=     549kB time=00:00:13.43 bitrate= 334.5kbits/s dup=308 drop=0 speed= 1.9x    \r",
      "frame=  501 fps= 66 q=29.0 size=     634kB time=00:00:14.73 bitrate= 352.3kbits/s dup=334 drop=0 speed=1.94x    \r",
      "frame=  534 fps= 66 q=29.0 size=     712kB time=00:00:15.83 bitrate= 368.4kbits/s dup=356 drop=0 speed=1.95x    \r",
      "frame=  573 fps= 66 q=29.0 size=     876kB time=00:00:17.13 bitrate= 418.6kbits/s dup=382 drop=0 speed=1.98x    \r",
      "frame=  603 fps= 66 q=29.0 size=     959kB time=00:00:18.13 bitrate= 433.1kbits/s dup=402 drop=0 speed=1.97x    \r",
      "frame=  642 fps= 66 q=29.0 size=    1074kB time=00:00:19.43 bitrate= 452.8kbits/s dup=428 drop=0 speed=   2x    \r",
      "frame=  672 fps= 66 q=29.0 size=    1166kB time=00:00:20.43 bitrate= 467.4kbits/s dup=448 drop=0 speed=1.99x    \r",
      "frame=  711 fps= 66 q=29.0 size=    1267kB time=00:00:21.73 bitrate= 477.7kbits/s dup=474 drop=0 speed=2.02x    \r",
      "frame=  744 fps= 66 q=29.0 size=    1356kB time=00:00:22.83 bitrate= 486.4kbits/s dup=496 drop=0 speed=2.02x    \r",
      "frame=  780 fps= 66 q=29.0 size=    1456kB time=00:00:24.03 bitrate= 496.4kbits/s dup=520 drop=0 speed=2.03x    \r",
      "frame=  810 fps= 66 q=29.0 size=    1611kB time=00:00:25.03 bitrate= 527.3kbits/s dup=540 drop=0 speed=2.03x    \r",
      "frame=  843 fps= 66 q=29.0 size=    1701kB time=00:00:26.13 bitrate= 533.2kbits/s dup=562 drop=0 speed=2.04x    \r",
      "frame=  873 fps= 65 q=29.0 size=    1789kB time=00:00:27.13 bitrate= 540.0kbits/s dup=582 drop=0 speed=2.03x    \r",
      "frame=  909 fps= 65 q=29.0 size=    1895kB time=00:00:28.33 bitrate= 547.8kbits/s dup=606 drop=0 speed=2.03x    \r",
      "frame=  942 fps= 65 q=29.0 size=    1993kB time=00:00:29.43 bitrate= 554.7kbits/s dup=628 drop=0 speed=2.03x    \r",
      "frame=  972 fps= 65 q=29.0 size=    2085kB time=00:00:30.43 bitrate= 561.2kbits/s dup=648 drop=0 speed=2.03x    \r",
      "frame= 1008 fps= 65 q=29.0 size=    2164kB time=00:00:31.63 bitrate= 560.4kbits/s dup=672 drop=0 speed=2.04x    \r",
      "frame= 1044 fps= 65 q=29.0 size=    2245kB time=00:00:32.83 bitrate= 560.2kbits/s dup=696 drop=0 speed=2.04x    \r",
      "frame= 1071 fps= 65 q=29.0 size=    2379kB time=00:00:33.73 bitrate= 577.8kbits/s dup=714 drop=0 speed=2.03x    \r",
      "frame= 1104 fps= 65 q=29.0 size=    2451kB time=00:00:34.83 bitrate= 576.5kbits/s dup=736 drop=0 speed=2.04x    \r",
      "frame= 1131 fps= 64 q=29.0 size=    2515kB time=00:00:35.73 bitrate= 576.6kbits/s dup=754 drop=0 speed=2.03x    \r",
      "frame= 1167 fps= 64 q=29.0 size=    2603kB time=00:00:36.93 bitrate= 577.4kbits/s dup=778 drop=0 speed=2.03x    \r",
      "frame= 1200 fps= 62 q=-1.0 Lsize=    2807kB time=00:00:39.90 bitrate= 576.3kbits/s dup=800 drop=0 speed=2.07x    \n",
      "video:2793kB audio:0kB subtitle:0kB other streams:0kB global headers:0kB muxing overhead: 0.507388%\n",
      "[libx264 @ 0x25f0d80] frame I:5     Avg QP:17.94  size: 64138\n",
      "[libx264 @ 0x25f0d80] frame P:449   Avg QP:20.51  size:  4926\n",
      "[libx264 @ 0x25f0d80] frame B:746   Avg QP:15.91  size:   438\n",
      "[libx264 @ 0x25f0d80] consecutive B-frames: 17.1%  0.0%  0.2% 82.7%\n",
      "[libx264 @ 0x25f0d80] mb I  I16..4: 29.3% 55.2% 15.5%\n",
      "[libx264 @ 0x25f0d80] mb P  I16..4:  0.1%  0.7%  0.1%  P16..4:  2.7%  2.0%  1.0%  0.0%  0.0%    skip:93.4%\n",
      "[libx264 @ 0x25f0d80] mb B  I16..4:  0.1%  0.0%  0.0%  B16..8:  3.8%  0.1%  0.0%  direct: 0.0%  skip:95.9%  L0:51.9% L1:47.4% BI: 0.8%\n",
      "[libx264 @ 0x25f0d80] 8x8 transform intra:59.8% inter:15.8%\n",
      "[libx264 @ 0x25f0d80] coded y,uvDC,uvAC intra: 7.2% 9.6% 8.0% inter: 0.4% 0.6% 0.5%\n",
      "[libx264 @ 0x25f0d80] i16 v,h,dc,p: 77% 17%  6%  0%\n",
      "[libx264 @ 0x25f0d80] i8 v,h,dc,ddl,ddr,vr,hd,vl,hu: 35%  4% 61%  0%  0%  0%  0%  0%  0%\n",
      "[libx264 @ 0x25f0d80] i4 v,h,dc,ddl,ddr,vr,hd,vl,hu: 36% 17% 29%  3%  3%  4%  3%  3%  2%\n",
      "[libx264 @ 0x25f0d80] i8c dc,h,v,p: 79% 10% 11%  0%\n",
      "[libx264 @ 0x25f0d80] Weighted P-Frames: Y:0.0% UV:0.0%\n",
      "[libx264 @ 0x25f0d80] ref P L0: 61.2%  3.3% 19.6% 15.8%\n",
      "[libx264 @ 0x25f0d80] ref B L0: 76.8% 13.8%  9.4%\n",
      "[libx264 @ 0x25f0d80] ref B L1: 98.8%  1.2%\n",
      "[libx264 @ 0x25f0d80] kb/s:571.85\n"
     ]
    }
   ],
   "source": [
    "%%sh\n",
    "pwd\n",
    "cd figures/animation\n",
    "ffmpeg -framerate 10 -i frame_%03d.png -c:v libx264 -r 30 -pix_fmt yuv420p output/MNIST_LeNet_faster.mp4"
   ]
  },
  {
   "cell_type": "code",
   "execution_count": null,
   "metadata": {
    "collapsed": true
   },
   "outputs": [],
   "source": [
    ""
   ]
  },
  {
   "cell_type": "code",
   "execution_count": null,
   "metadata": {
    "collapsed": true
   },
   "outputs": [],
   "source": [
    ""
   ]
  }
 ],
 "metadata": {
  "kernelspec": {
   "display_name": "Python 3",
   "language": "python",
   "name": "python3"
  },
  "language_info": {
   "codemirror_mode": {
    "name": "ipython",
    "version": 3.0
   },
   "file_extension": ".py",
   "mimetype": "text/x-python",
   "name": "python",
   "nbconvert_exporter": "python",
   "pygments_lexer": "ipython3",
   "version": "3.4.3"
  }
 },
 "nbformat": 4,
 "nbformat_minor": 0
}