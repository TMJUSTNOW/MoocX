{
 "cells": [
  {
   "cell_type": "markdown",
   "metadata": {},
   "source": [
    "The tutorial for this notebook can befound here\n",
    "\n",
    "[tensorflow ConvNet tutorial](https://www.tensorflow.org/versions/r0.10/tutorials/deep_cnn/index.html)\n",
    "\n",
    "Key concepts include:\n",
    "1. [ ] convolution\n",
    "2. [ ] relu (rectified linear activations\n",
    "3. [ ] pooling (max pooling)\n",
    "4. [ ] normalization (local response normalization)\n",
    "5. [ ] **Visualization** using tensorboard\n",
    "6. [ ] **Evaluating** moving average of learned parameters and boost predictive performance\n",
    "7. [ ] **pre-fetching** queues for input data to avoid disk latency.\n",
    "\n",
    "Multi-GPU is not covered here."
   ]
  },
  {
   "cell_type": "code",
   "execution_count": null,
   "metadata": {
    "collapsed": true
   },
   "outputs": [],
   "source": [
    ""
   ]
  }
 ],
 "metadata": {
  "anaconda-cloud": {},
  "kernelspec": {
   "display_name": "Python [python3]",
   "language": "python",
   "name": "Python [python3]"
  },
  "language_info": {
   "codemirror_mode": {
    "name": "ipython",
    "version": 3.0
   },
   "file_extension": ".py",
   "mimetype": "text/x-python",
   "name": "python",
   "nbconvert_exporter": "python",
   "pygments_lexer": "ipython3",
   "version": "3.5.2"
  }
 },
 "nbformat": 4,
 "nbformat_minor": 0
}