{
 "cells": [
  {
   "cell_type": "code",
   "execution_count": 1,
   "metadata": {
    "collapsed": false
   },
   "outputs": [],
   "source": [
    "import numpy as np\n",
    "from scipy import signal\n",
    "\n",
    "%matplotlib inline\n",
    "import matplotlib.pyplot as plt"
   ]
  },
  {
   "cell_type": "markdown",
   "metadata": {},
   "source": [
    "## 1D convolution"
   ]
  },
  {
   "cell_type": "code",
   "execution_count": 81,
   "metadata": {
    "collapsed": false
   },
   "outputs": [
    {
     "data": {
      "text/plain": [
       "array([ 0.03328637,  0.20954538,  0.46624235,  1.00328735,  1.48056442,\n",
       "        1.3490874 ,  1.01474671,  1.11501881,  1.53772213,  1.52540741,\n",
       "        0.98279507,  0.38698673,  0.06486863])"
      ]
     },
     "execution_count": 81,
     "metadata": {},
     "output_type": "execute_result"
    }
   ],
   "source": [
    "b = np.random.random(4)\n",
    "a = np.random.random(10)\n",
    "np.convolve(a, b)"
   ]
  },
  {
   "cell_type": "code",
   "execution_count": 82,
   "metadata": {
    "collapsed": false
   },
   "outputs": [
    {
     "data": {
      "image/png": "[encoded data removed]",
      "text/plain": [
       "<matplotlib.figure.Figure at 0x10fb9a0f0>"
      ]
     },
     "metadata": {},
     "output_type": "display_data"
    }
   ],
   "source": [
    "def convolve(a, b):\n",
    "    \n",
    "    if a.shape[0] < b.shape[0]: \n",
    "        a, b = b, a\n",
    "    \n",
    "    return np.array([\n",
    "            # important to remember the [::-1]\n",
    "            np.matmul(a[i:i+b.shape[0]], b[::-1]) # \\equiv dot().sum()\n",
    "            for i in range(a.shape[0] - b.shape[0] + 1)\n",
    "        ])\n",
    "\n",
    "plt.plot(convolve(a, b))\n",
    "plt.plot(signal.convolve(a, b, mode=\"valid\"))\n",
    "plt.show()\n",
    "# print(convolve(a, b), signal.convolve(a, b, mode=\"valid\"))"
   ]
  },
  {
   "cell_type": "markdown",
   "metadata": {},
   "source": [
    "## 2D convolution"
   ]
  },
  {
   "cell_type": "code",
   "execution_count": 150,
   "metadata": {
    "collapsed": true
   },
   "outputs": [],
   "source": [
    "a = np.random.random((3, 6))\n",
    "b = np.random.random((2, 2))"
   ]
  },
  {
   "cell_type": "code",
   "execution_count": 151,
   "metadata": {
    "collapsed": false
   },
   "outputs": [
    {
     "name": "stdout",
     "output_type": "stream",
     "text": [
      "[[  0.00000000e+00   1.11022302e-16   0.00000000e+00   0.00000000e+00\n",
      "    0.00000000e+00]\n",
      " [  0.00000000e+00   0.00000000e+00   0.00000000e+00   2.22044605e-16\n",
      "    2.22044605e-16]]\n"
     ]
    },
    {
     "data": {
      "image/png": "[encoded data removed]",
      "text/plain": [
       "<matplotlib.figure.Figure at 0x1102e6748>"
      ]
     },
     "metadata": {},
     "output_type": "display_data"
    }
   ],
   "source": [
    "# 2D convolution\n",
    "def convolve2d(a, b):\n",
    "    #a_f = a.flatten().reshape((a.size, 1))\n",
    "    #b_f = b.flatten().reshape((1, b.size))\n",
    "    \n",
    "    return np.array(\n",
    "        [\n",
    "            [\n",
    "                (a[i:i+b.shape[0], j:j+b.shape[1]]* b[::-1,::-1]).sum()\n",
    "                for j in range(a.shape[1] - b.shape[1] + 1)\n",
    "            ]\n",
    "            for i in range(a.shape[0] - b.shape[0] + 1)\n",
    "        ])\n",
    "\n",
    "print(convolve2d(a,b) - signal.convolve2d(a,b,mode='valid'))\n",
    "plt.figure(figsize=(12,5))\n",
    "plt.subplot(131)\n",
    "plt.imshow(a, interpolation=\"none\")\n",
    "plt.subplot(132)\n",
    "plt.imshow(convolve2d(a, b), interpolation=\"none\")\n",
    "plt.subplot(133)\n",
    "plt.imshow(convolve2d(a, b)-signal.convolve2d(a, b, mode='valid'), interpolation=\"none\")\n",
    "plt.show()"
   ]
  },
  {
   "cell_type": "markdown",
   "metadata": {},
   "source": [
    "results in the difference are from floating point imprecision. "
   ]
  },
  {
   "cell_type": "markdown",
   "metadata": {
    "collapsed": true
   },
   "source": [
    "## 3D convolution (for video applications)"
   ]
  },
  {
   "cell_type": "code",
   "execution_count": 155,
   "metadata": {
    "collapsed": true
   },
   "outputs": [],
   "source": [
    "a = np.random.random((3, 6, 4))\n",
    "b = np.random.random((2, 2, 3))"
   ]
  },
  {
   "cell_type": "code",
   "execution_count": 154,
   "metadata": {
    "collapsed": false
   },
   "outputs": [],
   "source": [
    "# 2D convolution\n",
    "def convolve3d(a, b):\n",
    "    #a_f = a.flatten().reshape((a.size, 1))\n",
    "    #b_f = b.flatten().reshape((1, b.size))\n",
    "    \n",
    "    return np.array(\n",
    "        [\n",
    "            [\n",
    "                [\n",
    "                    (a[i:i+b.shape[0], j:j+b.shape[1], k:k+b.shape[2]]* b[::-1, ::-1, ::-1]).sum()\n",
    "                    for k in range(a.shape[2] - b.shape[2] + 1)\n",
    "                ]\n",
    "                for j in range(a.shape[1] - b.shape[1] + 1)\n",
    "            ]\n",
    "            for i in range(a.shape[0] - b.shape[0] + 1)\n",
    "        ])"
   ]
  },
  {
   "cell_type": "code",
   "execution_count": null,
   "metadata": {
    "collapsed": true
   },
   "outputs": [],
   "source": [
    ""
   ]
  }
 ],
 "metadata": {
  "anaconda-cloud": {},
  "kernelspec": {
   "display_name": "Python [python3]",
   "language": "python",
   "name": "Python [python3]"
  },
  "language_info": {
   "codemirror_mode": {
    "name": "ipython",
    "version": 3.0
   },
   "file_extension": ".py",
   "mimetype": "text/x-python",
   "name": "python",
   "nbconvert_exporter": "python",
   "pygments_lexer": "ipython3",
   "version": "3.5.2"
  }
 },
 "nbformat": 4,
 "nbformat_minor": 0
}