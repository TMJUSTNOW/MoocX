{
 "cells": [
  {
   "cell_type": "markdown",
   "metadata": {},
   "source": [
    "# Overview\n",
    "\n",
    "A simple vanilla RNN implementation of a Shakespeare generator with pyTorch. The generator is trained character by character, using a single hidden layer unit. The result is mediocre, some parameter tweaking might make it perform better.\n",
    "\n",
    "### Surprises\n",
    "\n",
    "\n",
    "### Todo:\n",
    "- [ ] play with hyper parameters\n",
    "\n",
    "### Done:\n",
    "- [x] Add temperature to generator\n",
    "- [x] get training to work\n",
    "- [x] use optim and Adam\n",
    "- [x] add self-feeding generator"
   ]
  },
  {
   "cell_type": "code",
   "execution_count": 1,
   "metadata": {
    "collapsed": false
   },
   "outputs": [],
   "source": [
    "import torch\n",
    "from torch.autograd import Variable\n",
    "import torch.nn as nn\n",
    "import torch.nn.functional as F\n",
    "import torch.optim as optim\n",
    "\n",
    "from utils import forward_tracer, backward_tracer, Char2Vec, num_flat_features\n",
    "\n",
    "import matplotlib.pyplot as plt\n",
    "%matplotlib inline\n",
    "%config InlineBackend.figure_format = 'retina'\n",
    "\n",
    "import numpy as np\n",
    "\n",
    "from tqdm import tqdm\n",
    "\n",
    "from IPython.display import clear_output"
   ]
  },
  {
   "cell_type": "code",
   "execution_count": 2,
   "metadata": {
    "collapsed": false
   },
   "outputs": [
    {
     "name": "stdout",
     "output_type": "stream",
     "text": [
      "['First Citizen:\\n\\nBefore we proceed any further, hear me speak']\n"
     ]
    },
    {
     "data": {
      "text/plain": [
       "1156000"
      ]
     },
     "execution_count": 2,
     "metadata": {},
     "output_type": "execute_result"
    }
   ],
   "source": [
    "source = \"\";\n",
    "with open('./data/shakespeare.txt', 'r') as f:\n",
    "    for line in f:\n",
    "        source += line + \"\\n\"\n",
    "        \n",
    "source +=\" \" * 606\n",
    "print([source[:60]])\n",
    "len(source)"
   ]
  },
  {
   "cell_type": "code",
   "execution_count": 3,
   "metadata": {
    "collapsed": false,
    "scrolled": false
   },
   "outputs": [
    {
     "data": {
      "text/plain": [
       "'                                     \\nrnn = VanillaRNN(100, 120, 90)\\nhidden = rnn.init_hidden()\\nrnn(Variable(torch.randn(1, 100)), hidden, 10)'"
      ]
     },
     "execution_count": 3,
     "metadata": {},
     "output_type": "execute_result"
    }
   ],
   "source": [
    "class VanillaRNN(nn.Module):\n",
    "    def __init__(self, input_size, hidden_size, output_size):\n",
    "        super(VanillaRNN, self).__init__()\n",
    "        self.input_size = input_size\n",
    "        self.hidden_size = hidden_size\n",
    "        self.output_size = output_size\n",
    "        \n",
    "        self.xhh = torch.nn.Linear(input_size + hidden_size, hidden_size)\n",
    "        self.ho = torch.nn.Linear(hidden_size, output_size)\n",
    "        self.softmax = F.softmax\n",
    "        \n",
    "    def forward(self, x, hidden):\n",
    "        xs = x.chunk(x.size()[0])\n",
    "        outputs = []\n",
    "        for row_vec in xs:\n",
    "            hidden = self.xhh(torch.cat((row_vec, hidden), 1))\n",
    "            outputs.append(self.ho(hidden))\n",
    "        output = torch.cat(outputs, 0)\n",
    "        return output, hidden\n",
    "    \n",
    "    def init_hidden(self, random=False):\n",
    "        if random:\n",
    "            return Variable(torch.randn(1, self.hidden_size))\n",
    "        else:\n",
    "            return Variable(torch.zeros(1, self.hidden_size)) \n",
    "\"\"\"                                     \n",
    "rnn = VanillaRNN(100, 120, 90)\n",
    "hidden = rnn.init_hidden()\n",
    "rnn(Variable(torch.randn(1, 100)), hidden, 10)\"\"\""
   ]
  },
  {
   "cell_type": "code",
   "execution_count": 4,
   "metadata": {
    "collapsed": false
   },
   "outputs": [],
   "source": [
    "class Shakespeare():\n",
    "    def __init__(self, model):\n",
    "        self.model = model\n",
    "        self.char2vec = Char2Vec()\n",
    "        self.loss = 0\n",
    "        self.losses = []\n",
    "    \n",
    "    def init_hidden_(self, random=False):\n",
    "        self.hidden = model.init_hidden(random)\n",
    "        return self\n",
    "    \n",
    "    def save(self, fn=\"Vanilla_RNN_Shakespeare.tar\"):\n",
    "        torch.save({\n",
    "            \"hidden\": self.hidden, \n",
    "            \"state_dict\": model.state_dict(),\n",
    "            \"losses\": self.losses\n",
    "                   }, fn)\n",
    "    \n",
    "    def load(self, fn):\n",
    "        checkpoint = torch.load(fn)\n",
    "        self.hidden = checkpoint['hidden']\n",
    "        model.load_state_dict(checkpoint['state_dict'])\n",
    "        self.losses = checkpoint['losses']\n",
    "    \n",
    "    def setup_training(self, learning_rate):\n",
    "        self.optimizer = optim.Adam(model.parameters(), lr=learning_rate)\n",
    "        self.loss_fn = nn.CrossEntropyLoss()\n",
    "        self.init_hidden_()\n",
    "        \n",
    "    def reset_loss(self):\n",
    "        self.loss = 0\n",
    "        \n",
    "    def forward(self, input_text, target_text):\n",
    "        \n",
    "        self.hidden.detach_()\n",
    "        self.optimizer.zero_grad()\n",
    "        self.next_(input_text)\n",
    "        target_vec = Variable(self.char2vec.char_code(target_text))\n",
    "        self.loss += self.loss_fn(self.output, target_vec)\n",
    "        \n",
    "    def descent(self):\n",
    "        self.loss.backward()\n",
    "        self.optimizer.step()\n",
    "        self.losses.append(self.loss.cpu().data.numpy())\n",
    "        self.reset_loss()\n",
    "    \n",
    "    def embed(self, input_data):\n",
    "        self.embeded = Variable(self.char2vec.one_hot(input_data))\n",
    "        return self.embeded\n",
    "        \n",
    "    def next_(self, input_text):\n",
    "        self.output, self.hidden = self.model(\n",
    "            self.embed(input_text)#.view(1, -1, self.model.input_size)\n",
    "            , self.hidden)\n",
    "        return self\n",
    "    \n",
    "    def softmax_(self, temperature=0.5):\n",
    "        self.softmax = self.model.softmax(self.output/temperature)\n",
    "        return self\n",
    "    \n",
    "    def text(self, start=None, end=None):\n",
    "        indeces = torch.multinomial(self.softmax[start:end]).view(-1)\n",
    "        return self.char2vec.vec2str(indeces)"
   ]
  },
  {
   "cell_type": "code",
   "execution_count": 5,
   "metadata": {
    "collapsed": false
   },
   "outputs": [],
   "source": [
    "input_size = 100 # len(char2vec.chars)\n",
    "hidden_size = input_size\n",
    "\n",
    "model = VanillaRNN(input_size, hidden_size, input_size)\n",
    "william = Shakespeare(model)\n",
    "# william.load('./data/Vanilla_RNN_Shakespeare.tar')"
   ]
  },
  {
   "cell_type": "code",
   "execution_count": 10,
   "metadata": {
    "collapsed": true
   },
   "outputs": [],
   "source": [
    "learning_rate = 0.2e-4\n",
    "william.setup_training(learning_rate)"
   ]
  },
  {
   "cell_type": "code",
   "execution_count": 11,
   "metadata": {
    "collapsed": false,
    "scrolled": false
   },
   "outputs": [
    {
     "name": "stdout",
     "output_type": "stream",
     "text": [
      "Epoch 69\n"
     ]
    },
    {
     "data": {
      "image/png": "[encoded data removed]",
      "text/plain": [
       "<matplotlib.figure.Figure at 0x7fa044219f28>"
      ]
     },
     "metadata": {
      "image/png": {
       "height": 144,
       "width": 705
      }
     },
     "output_type": "display_data"
    },
    {
     "data": {
      "image/png": "[encoded data removed]",
      "text/plain": [
       "<matplotlib.figure.Figure at 0x7fa0441c3b38>"
      ]
     },
     "metadata": {
      "image/png": {
       "height": 209,
       "width": 600
      }
     },
     "output_type": "display_data"
    },
    {
     "name": "stderr",
     "output_type": "stream",
     "text": [
      "100%|█████████▉| 23037/23120 [02:34<00:01, 80.41it/s] "
     ]
    },
    {
     "name": "stdout",
     "output_type": "stream",
     "text": [
      "  t th e tnhtn touv bots e   s tese nn n\n",
      "\n",
      "\n",
      "\n",
      "SRRRL:\n"
     ]
    },
    {
     "name": "stderr",
     "output_type": "stream",
     "text": [
      "100%|██████████| 23120/23120 [02:34<00:00, 149.45it/s]\n"
     ]
    }
   ],
   "source": [
    "model.zero_grad()\n",
    "william.reset_loss()\n",
    "\n",
    "seq_length = 50\n",
    "batches = int(len(source)/seq_length)\n",
    "\n",
    "for epoch_num in range(70):\n",
    "    \n",
    "    for step in tqdm(range(batches)):\n",
    "\n",
    "        source_ = source[step*seq_length:(step+1)*seq_length]\n",
    "        \n",
    "        william.forward(source_, source_[1:] + \" \")\n",
    "        #william.descent()\n",
    "        \n",
    "        if step%50 == 49:\n",
    "            william.descent()\n",
    "        \n",
    "        if step%1000 == 999:\n",
    "            clear_output(wait=True)\n",
    "            print('Epoch {:d}'.format(epoch_num))\n",
    "\n",
    "            william.softmax_()\n",
    "\n",
    "            plt.figure(figsize=(12, 9))\n",
    "            plt.subplot(131)\n",
    "            plt.title(\"Input\")\n",
    "            plt.imshow(william.embeded[:130].data.byte().numpy(), cmap=\"Greys_r\", interpolation=\"none\")\n",
    "            plt.subplot(132)\n",
    "            plt.title(\"Output\")\n",
    "            plt.imshow(william.output[:130].data.byte().numpy(), cmap=\"Greys_r\", interpolation=\"none\")\n",
    "            plt.subplot(133)\n",
    "            plt.title(\"Softmax Output\")\n",
    "            plt.imshow(william.softmax[:130].cpu().data.numpy(), cmap=\"Greys_r\", interpolation=\"none\")\n",
    "            plt.show()\n",
    "            \n",
    "            plt.figure(figsize=(10, 3))\n",
    "            plt.title('Training loss')\n",
    "            plt.plot(william.losses, label=\"loss\", linewidth=3, alpha=0.4)\n",
    "            plt.show()\n",
    "\n",
    "            print(william.text(0,150))"
   ]
  },
  {
   "cell_type": "markdown",
   "metadata": {},
   "source": [
    "## Now use the network to generate text!"
   ]
  },
  {
   "cell_type": "code",
   "execution_count": 12,
   "metadata": {
    "collapsed": true
   },
   "outputs": [],
   "source": [
    "william.save('./data/Vanilla_RNN_Shakespeare.tar')"
   ]
  },
  {
   "cell_type": "code",
   "execution_count": 13,
   "metadata": {
    "collapsed": false
   },
   "outputs": [],
   "source": [
    "from ipywidgets import widgets\n",
    "from IPython.display import display"
   ]
  },
  {
   "cell_type": "code",
   "execution_count": 21,
   "metadata": {
    "collapsed": false
   },
   "outputs": [
    {
     "name": "stdout",
     "output_type": "stream",
     "text": [
      "Frtodo.\n",
      "\n",
      "wove?-mfht?.\n",
      "\n",
      "IAzCharc!dWoou lo.'l;,\n",
      "\n",
      "Veipaqugow;cthfhmis?ns!\n",
      "oriloveve.;.\n",
      "\n",
      "ouk-Rhou.\n",
      "\n",
      "beareqhe?, tzinf.\n",
      "\n",
      "\n",
      "Zoarchasecail?d coulll; folkexithll.\n",
      "gfrer,;\n",
      "yoh'dwtkend!\n",
      "\n",
      "scyoukennseakvell..\n",
      "\n",
      "\n",
      "SQ\n"
     ]
    },
    {
     "data": {
      "image/png": "[encoded data removed]",
      "text/plain": [
       "<matplotlib.figure.Figure at 0x7fa0310ec390>"
      ]
     },
     "metadata": {
      "image/png": {
       "height": 48,
       "width": 717
      }
     },
     "output_type": "display_data"
    }
   ],
   "source": [
    "def predict_next(input_text, gen_length=None, temperature=0.05):\n",
    "    \n",
    "    if gen_length is None: \n",
    "        gen_length = len(input_text)\n",
    "    \n",
    "    clear_output(wait=True)\n",
    "    william = Shakespeare(model).init_hidden_(random=True)\n",
    "    \n",
    "    william.next_(input_text)\n",
    "    william.softmax_()\n",
    "    string_output = william.text()\n",
    "        \n",
    "    for i in range(1, gen_length - len(input_text)):\n",
    "        last_char = string_output[-1]\n",
    "        william.next_(last_char)\n",
    "        william.softmax_(temperature)\n",
    "        string_output += william.text()\n",
    "    \n",
    "    print(string_output)\n",
    "    \n",
    "    plt.figure(figsize=(12, 9))\n",
    "    plt.subplot(131)\n",
    "    plt.title(\"Input\")\n",
    "    plt.imshow(william.embeded[:130].data.byte().numpy(), cmap=\"Greys_r\", interpolation=\"none\")\n",
    "    plt.subplot(132)\n",
    "    plt.title(\"Output\")\n",
    "    plt.imshow(william.output[:130].data.byte().numpy(), cmap=\"Greys_r\", interpolation=\"none\")\n",
    "    plt.subplot(133)\n",
    "    plt.title(\"Softmax Output\")\n",
    "    plt.imshow(william.softmax[:130].cpu().data.numpy(), cmap=\"Greys_r\", interpolation=\"none\")\n",
    "    plt.show()\n",
    "\n",
    "predict_next(\"Ge Yang:\\n\", 200, 1)"
   ]
  },
  {
   "cell_type": "code",
   "execution_count": 27,
   "metadata": {
    "collapsed": false,
    "scrolled": false
   },
   "outputs": [
    {
     "name": "stdout",
     "output_type": "stream",
     "text": [
      "dce,hwovhmeegjoure..\n",
      "\n",
      "\n",
      "\n",
      "Four.\n",
      "\n",
      "\n",
      "Buringelave..\n",
      "\n",
      "\n",
      "\n",
      "And averenge..\n",
      "\n",
      "\n",
      "\n",
      "And there..\n",
      "\n",
      "\n",
      "\n",
      "And, areare.\n",
      "\n",
      "\n",
      "\n",
      "yourd.\n",
      "\n",
      "\n",
      "\n",
      "Youthesther.;\n",
      "\n",
      "Whare.\n",
      "\n",
      "\n",
      "\n",
      "Wheres.\n",
      "\n",
      "\n",
      "Whathere.\n",
      "\n",
      "\n",
      "\n",
      "Wheres.\n",
      "\n",
      "\n",
      "Whathererefoure.\n",
      "\n",
      "\n",
      "Wherererering.\n",
      "\n",
      "\n",
      "\n",
      "Whatheres.\n",
      "\n",
      "\n",
      "Whatherestinge.\n",
      "\n",
      "\n",
      "\n",
      "\n",
      "Thererour; beather.\n",
      "\n",
      "\n",
      "Wherengherengor.\n",
      "\n",
      "\n",
      "\n",
      "Whave thangere.\n",
      "\n",
      "\n",
      "\n",
      "\n",
      "Sous are.\n",
      "\n",
      "\n",
      "\n",
      "Whed merererere.\n",
      "\n",
      "\n",
      "\n",
      "\n",
      "Shathengind.\n",
      "\n",
      "\n",
      "\n",
      "There, fore, boure fore.\n",
      "\n",
      "\n",
      "\n",
      "Singereathenganger.\n",
      "\n",
      "\n",
      "\n",
      "\n",
      "Andereererereangeres pore.\n",
      "\n",
      "\n",
      "\n",
      "Whe therereroure.\n",
      "\n",
      "\n",
      "\n",
      "And bole, areangeres.\n",
      "\n",
      "\n",
      "\n",
      "Thime mathere.\n",
      "\n",
      "\n",
      "\n",
      "Southeresthere berengerengere;\n",
      "\n",
      "here there.\n",
      "\n",
      "\n",
      "\n",
      "Whe thereingere mere therengerengere.\n",
      "\n",
      "\n",
      "\n",
      "Wherenghereres.\n",
      "\n",
      "\n",
      "\n",
      "\n",
      "And oulle seres.\n",
      "\n",
      "\n",
      "\n",
      "And foure the the beathe lase there houres ine there the the be thes and beathe coure ine the thethe patheng outhind and fous our be thengeather oure angese the there the that the the mend he seres and there be pore the 's be ther fore foure tous and his the the the there the theange the fither the thes and poure ther ino he the the mere the ther the the poure the the this a\n"
     ]
    },
    {
     "data": {
      "image/png": "[encoded data removed]",
      "text/plain": [
       "<matplotlib.figure.Figure at 0x7fa031c139e8>"
      ]
     },
     "metadata": {
      "image/png": {
       "height": 48,
       "width": 717
      }
     },
     "output_type": "display_data"
    }
   ],
   "source": [
    "text_input = widgets.Text()\n",
    "display(text_input)\n",
    "\n",
    "def handle_submit(sender):\n",
    "    predict_next(text_input.value, 1000, temperature=0.25)\n",
    "    \n",
    "text_input.on_submit(handle_submit)"
   ]
  },
  {
   "cell_type": "markdown",
   "metadata": {
    "collapsed": true
   },
   "source": [
    "The prediction is okay...😅"
   ]
  },
  {
   "cell_type": "code",
   "execution_count": null,
   "metadata": {
    "collapsed": true
   },
   "outputs": [],
   "source": []
  },
  {
   "cell_type": "code",
   "execution_count": null,
   "metadata": {
    "collapsed": true
   },
   "outputs": [],
   "source": []
  }
 ],
 "metadata": {
  "anaconda-cloud": {},
  "kernelspec": {
   "display_name": "deep-learning-python3",
   "language": "python",
   "name": "deep-learning"
  },
  "language_info": {
   "codemirror_mode": {
    "name": "ipython",
    "version": 3
   },
   "file_extension": ".py",
   "mimetype": "text/x-python",
   "name": "python",
   "nbconvert_exporter": "python",
   "pygments_lexer": "ipython3",
   "version": "3.6.0"
  },
  "widgets": {
   "state": {
    "17298efebe594dc1b94fb6ba924f3c4b": {
     "views": [
      {
       "cell_index": 9
      }
     ]
    },
    "7e82dbc7be6b4d6a824f1c93e8f5826e": {
     "views": [
      {
       "cell_index": 10
      }
     ]
    }
   },
   "version": "1.2.0"
  }
 },
 "nbformat": 4,
 "nbformat_minor": 0
}
