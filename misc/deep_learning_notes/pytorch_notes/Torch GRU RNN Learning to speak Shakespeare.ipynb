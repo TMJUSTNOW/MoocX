{
 "cells": [
  {
   "cell_type": "markdown",
   "metadata": {},
   "source": [
    "# Overview\n",
    "\n",
    "A simple vanilla RNN implementation of a Shakespeare generator with pyTorch. The generator is trained character by character, using a single layer GRU unit. \n",
    "\n",
    "### Surprises\n",
    "\n",
    "1. The LSTM and GRU units in pyTorch assumes full back-propagation through time (BPTT) length as the sequence that is fed in. AKA there is no need to loop in python to have the BPTT properly.\n",
    "\n",
    "    A side effect of this is that the BPTT is the same as the sequence length, therefore long sequences are going to grow linearly in forward and backward compute time, which is nothing out of ordinary.\n",
    "    \n",
    "    **TLDR;**: If you were implementing vanilla RNN and was manually looping to get BPTT, don't worry here. torch GRU and LSTM already does that, and the time_steps is the same as the sequence length.\n",
    "    \n",
    "2. **It turned out the temperature in the self-feeding generator is crucial.**\n",
    "\n",
    "    **What went wrong the first time**: \n",
    "    \n",
    "    It turned out that the network itself was training okay. It was just that the generator was using an `argmax` for the next character selection, instead of doing a multinominal selection w.r.t. to the weights given by the softmax. \n",
    "    \n",
    "    Effectively, `argmax` is equivalent to the Boltzmann distribution taken to the limit where $T\\rightarrow 0$\n",
    "    $$\n",
    "    \\mathrm{argmax}\\bigg[\\mathrm{softmax}@Y_{output} \\bigg] \\equiv \\frac 1 Z \\cdot e^{y_i/k_\\beta T} \n",
    "    \\bigg\\vert_{T\\rightarrow 0}.\n",
    "    $$\n",
    "    In this limit, the distribution is effectively frozen, and the state with the largest energy always gets picked. As it turned out, the character with the highest activation is not necessarily the best choice. Using a temperature ($k_\\beta T$) gives much better result.\n",
    "    \n",
    "    Temperatures anywhere from 0.01 to 1 works well. The higher temperature gives a more garbled result, while the lower temerpature tend to quickly enter short repetive sentences.\n",
    "    \n",
    "    Now with the benefit of hind-sight, it is easy to understand why. The training is done using `softmax`\n",
    "    $$\n",
    "    \\mathrm{softmax}:= e^{yi} \\equiv \\frac 1 Z \\cdot e^{y_i/k_\\beta T}\\bigg\\vert_{k_\\beta T\\rightarrow 1}.\n",
    "    $$ \n",
    "    And as a result, the network is expected to hit whatever prediction accuracy when the output is a multinomial draw over this distribution. Althought the sampling mechanism can be different during the generative stage, large deviations from this limit will lead to very different results those during training.\n",
    "\n",
    "\n",
    "### Todo:\n",
    "all done\n",
    "\n",
    "### Done:\n",
    "- [x] Add temperature to generator\n",
    "- [x] get training to work\n",
    "- [x] use optim and Adam\n",
    "- [x] add self-feeding generator"
   ]
  },
  {
   "cell_type": "code",
   "execution_count": 1,
   "metadata": {
    "collapsed": false
   },
   "outputs": [],
   "source": [
    "import torch\n",
    "from torch.autograd import Variable\n",
    "import torch.nn as nn\n",
    "import torch.nn.functional as F\n",
    "import torch.optim as optim\n",
    "\n",
    "from utils import forward_tracer, backward_tracer, Char2Vec, num_flat_features\n",
    "\n",
    "import matplotlib.pyplot as plt\n",
    "%matplotlib inline\n",
    "%config InlineBackend.figure_format = 'retina'\n",
    "\n",
    "import numpy as np\n",
    "\n",
    "from tqdm import tqdm\n",
    "\n",
    "from IPython.display import clear_output"
   ]
  },
  {
   "cell_type": "code",
   "execution_count": 2,
   "metadata": {
    "collapsed": false
   },
   "outputs": [
    {
     "name": "stdout",
     "output_type": "stream",
     "text": [
      "['First Citizen:\\n\\nBefore we proceed any further, hear me speak']\n"
     ]
    },
    {
     "data": {
      "text/plain": [
       "1156000"
      ]
     },
     "execution_count": 2,
     "metadata": {},
     "output_type": "execute_result"
    }
   ],
   "source": [
    "source = \"\";\n",
    "with open('./data/shakespeare.txt', 'r') as f:\n",
    "    for line in f:\n",
    "        source += line + \"\\n\"\n",
    "        \n",
    "source +=\" \" * 606\n",
    "print([source[:60]])\n",
    "len(source)"
   ]
  },
  {
   "cell_type": "code",
   "execution_count": 3,
   "metadata": {
    "collapsed": false,
    "scrolled": false
   },
   "outputs": [
    {
     "data": {
      "text/plain": [
       "'\\ninput_size = 101\\nhidden_size = 101\\noutput_size = 101\\nlayers = 2\\n\\ngRNN = GruRNN(input_size, hidden_size, output_size, layers)\\n\\ngRNN(Variable(torch.FloatTensor(10000, 101)),\\n     Variable(torch.FloatTensor(layers, 101)))'"
      ]
     },
     "execution_count": 3,
     "metadata": {},
     "output_type": "execute_result"
    }
   ],
   "source": [
    "class GruRNN(nn.Module):\n",
    "    def __init__(self, input_size, hidden_size, output_size, layers=1):\n",
    "        super(GruRNN, self).__init__()\n",
    "        self.input_size = input_size\n",
    "        self.hidden_size = hidden_size\n",
    "        self.output_size = output_size\n",
    "        self.layers = layers\n",
    "        \n",
    "        self.encoder = nn.Linear(input_size, hidden_size)\n",
    "        self.gru = nn.GRU(hidden_size, hidden_size, self.layers)\n",
    "        self.decoder = nn.Linear(hidden_size, output_size)\n",
    "        self.softmax = F.softmax\n",
    "        \n",
    "    def forward(self, x, hidden):\n",
    "        embeded = self.encoder(x)\n",
    "        #print(embeded.view(-1, 1, self.input_size).size())\n",
    "        gru_output, hidden = self.gru(embeded.view(-1, 1, self.input_size), hidden.view(self.layers, 1, -1))\n",
    "        #print(gru_output.size())\n",
    "        output = self.decoder(gru_output.view(-1, self.output_size))\n",
    "        return output, hidden\n",
    "    \n",
    "    def init_hidden(self, random=False):\n",
    "        if random:\n",
    "            return Variable(torch.randn(layers, hidden_size))\n",
    "        else:\n",
    "            return Variable(torch.zeros(layers, hidden_size)) \n",
    "\"\"\"\n",
    "input_size = 101\n",
    "hidden_size = 101\n",
    "output_size = 101\n",
    "layers = 2\n",
    "\n",
    "gRNN = GruRNN(input_size, hidden_size, output_size, layers)\n",
    "\n",
    "gRNN(Variable(torch.FloatTensor(10000, 101)),\n",
    "     Variable(torch.FloatTensor(layers, 101)))\"\"\""
   ]
  },
  {
   "cell_type": "code",
   "execution_count": 4,
   "metadata": {
    "collapsed": false
   },
   "outputs": [],
   "source": [
    "class Shakespeare():\n",
    "    def __init__(self, model):\n",
    "        self.model = model\n",
    "        self.char2vec = Char2Vec()\n",
    "        self.loss = 0\n",
    "        self.losses = []\n",
    "    \n",
    "    def init_hidden_(self, random=False):\n",
    "        self.hidden = model.init_hidden(random)\n",
    "        return self\n",
    "    \n",
    "    def save(self, fn=\"GRU_Shakespeare.tar\"):\n",
    "        torch.save({\n",
    "            \"hidden\": self.hidden, \n",
    "            \"state_dict\": model.state_dict(),\n",
    "            \"losses\": self.losses\n",
    "                   }, fn)\n",
    "    \n",
    "    def load(self, fn):\n",
    "        checkpoint = torch.load(fn)\n",
    "        self.hidden = checkpoint['hidden']\n",
    "        model.load_state_dict(checkpoint['state_dict'])\n",
    "        self.losses = checkpoint['losses']\n",
    "    \n",
    "    def setup_training(self, learning_rate):\n",
    "        self.optimizer = optim.Adam(model.parameters(), lr=learning_rate)\n",
    "        self.loss_fn = nn.CrossEntropyLoss()\n",
    "        self.init_hidden_()\n",
    "        \n",
    "    def reset_loss(self):\n",
    "        self.loss = 0\n",
    "        \n",
    "    def forward(self, input_text, target_text):\n",
    "        \n",
    "        self.hidden = self.hidden.detach()\n",
    "        \n",
    "        self.optimizer.zero_grad()\n",
    "        self.next_(input_text)\n",
    "        target_vec = Variable(self.char2vec.char_code(target_text))\n",
    "        self.loss += self.loss_fn(self.output, target_vec)\n",
    "        \n",
    "    def descent(self):\n",
    "        self.loss.backward()\n",
    "        self.optimizer.step()\n",
    "        self.losses.append(self.loss.cpu().data.numpy())\n",
    "        self.reset_loss()\n",
    "    \n",
    "    def embed(self, input_data):\n",
    "        self.embeded = Variable(self.char2vec.one_hot(input_data))\n",
    "        return self.embeded\n",
    "        \n",
    "    def next_(self, input_text):\n",
    "        self.output, self.hidden = self.model(self.embed(input_text), self.hidden)\n",
    "        return self\n",
    "    \n",
    "    def softmax_(self, temperature=0.5):\n",
    "        self.softmax = self.model.softmax(self.output/temperature)\n",
    "        return self\n",
    "    \n",
    "    def text(self, start=None, end=None):\n",
    "        indeces = torch.multinomial(self.softmax[start:end]).view(-1)\n",
    "        return self.char2vec.vec2str(indeces)"
   ]
  },
  {
   "cell_type": "code",
   "execution_count": 5,
   "metadata": {
    "collapsed": false
   },
   "outputs": [],
   "source": [
    "input_size = 100 # len(char2vec.chars)\n",
    "hidden_size = input_size\n",
    "layers = 1\n",
    "\n",
    "model = GruRNN(input_size, hidden_size, input_size, layers=layers)\n",
    "william = Shakespeare(model)\n",
    "william.load('./data/Gru_Shakespeare.tar')"
   ]
  },
  {
   "cell_type": "code",
   "execution_count": 6,
   "metadata": {
    "collapsed": true
   },
   "outputs": [],
   "source": [
    "learning_rate = 2e-3\n",
    "william.setup_training(learning_rate)"
   ]
  },
  {
   "cell_type": "code",
   "execution_count": null,
   "metadata": {
    "collapsed": false,
    "scrolled": false
   },
   "outputs": [
    {
     "name": "stdout",
     "output_type": "stream",
     "text": [
      "Epoch 39\n"
     ]
    },
    {
     "data": {
      "image/png": "[encoded data removed]",
      "text/plain": [
       "<matplotlib.figure.Figure at 0x7f183820e080>"
      ]
     },
     "metadata": {
      "image/png": {
       "height": 144.0,
       "width": 705.0
      }
     },
     "output_type": "display_data"
    },
    {
     "data": {
      "image/png": "[encoded data removed]",
      "text/plain": [
       "<matplotlib.figure.Figure at 0x7f18387395f8>"
      ]
     },
     "metadata": {
      "image/png": {
       "height": 209.0,
       "width": 600.0
      }
     },
     "output_type": "display_data"
    },
    {
     "name": "stderr",
     "output_type": "stream",
     "text": [
      "100%|█████████▉| 23010/23120 [06:58<00:03, 28.35it/s]"
     ]
    },
    {
     "name": "stdout",
     "output_type": "stream",
     "text": [
      "r t siud tn w  mour fryghter s barriege!\n",
      "\n",
      "\n",
      "\n",
      "PRONSO\n"
     ]
    },
    {
     "name": "stderr",
     "output_type": "stream",
     "text": [
      "100%|██████████| 23120/23120 [07:00<00:00, 55.04it/s]\n"
     ]
    }
   ],
   "source": [
    "model.zero_grad()\n",
    "william.reset_loss()\n",
    "\n",
    "seq_length = 50\n",
    "batches = int(len(source)/seq_length)\n",
    "\n",
    "for epoch_num in range(40):\n",
    "    \n",
    "    for step in tqdm(range(batches)):\n",
    "\n",
    "        source_ = source[step*seq_length:(step+1)*seq_length]\n",
    "        \n",
    "        william.forward(source_, source_[1:] + \" \")\n",
    "        #william.descent()\n",
    "        \n",
    "        if step%50 == 49:\n",
    "            william.descent()\n",
    "        \n",
    "        if step%1000 == 999:\n",
    "            clear_output(wait=True)\n",
    "            print('Epoch {:d}'.format(epoch_num))\n",
    "\n",
    "            william.softmax_()\n",
    "\n",
    "            plt.figure(figsize=(12, 9))\n",
    "            plt.subplot(131)\n",
    "            plt.title(\"Input\")\n",
    "            plt.imshow(william.embeded[:130].data.byte().numpy(), cmap=\"Greys_r\", interpolation=\"none\")\n",
    "            plt.subplot(132)\n",
    "            plt.title(\"Output\")\n",
    "            plt.imshow(william.output[:130].data.byte().numpy(), cmap=\"Greys_r\", interpolation=\"none\")\n",
    "            plt.subplot(133)\n",
    "            plt.title(\"Softmax Output\")\n",
    "            plt.imshow(william.softmax[:130].cpu().data.numpy(), cmap=\"Greys_r\", interpolation=\"none\")\n",
    "            plt.show()\n",
    "            \n",
    "            plt.figure(figsize=(10, 3))\n",
    "            plt.title('Training loss')\n",
    "            plt.plot(william.losses, label=\"loss\", linewidth=3, alpha=0.4)\n",
    "            plt.show()\n",
    "\n",
    "            print(william.text(0,150))"
   ]
  },
  {
   "cell_type": "markdown",
   "metadata": {},
   "source": [
    "## Now use the network to generate text!"
   ]
  },
  {
   "cell_type": "code",
   "execution_count": 15,
   "metadata": {
    "collapsed": true
   },
   "outputs": [],
   "source": [
    "# william.save('./data/Gru_Shakespeare.tar')"
   ]
  },
  {
   "cell_type": "code",
   "execution_count": 7,
   "metadata": {
    "collapsed": false
   },
   "outputs": [],
   "source": [
    "from ipywidgets import widgets\n",
    "from IPython.display import display"
   ]
  },
  {
   "cell_type": "code",
   "execution_count": 8,
   "metadata": {
    "collapsed": false
   },
   "outputs": [
    {
     "name": "stdout",
     "output_type": "stream",
     "text": [
      "uaaiu!\n",
      "\n",
      "\n",
      "The company of the sea the master of the seas\n",
      "\n",
      "And sir, the prison the court the court the seas the seas\n",
      "\n",
      "And see the crown the princess of the master of the\n",
      "\n",
      "stark the master that thou art \n"
     ]
    },
    {
     "data": {
      "image/png": "[encoded data removed]",
      "text/plain": [
       "<matplotlib.figure.Figure at 0x7f303d439cc0>"
      ]
     },
     "metadata": {
      "image/png": {
       "height": 48.0,
       "width": 717.0
      }
     },
     "output_type": "display_data"
    }
   ],
   "source": [
    "def predict_next(input_text, gen_length=None, temperature=0.05):\n",
    "    \n",
    "    if gen_length is None: \n",
    "        gen_length = len(input_text)\n",
    "    \n",
    "    clear_output(wait=True)\n",
    "    william = Shakespeare(model).init_hidden_(random=True)\n",
    "    \n",
    "    william.next_(input_text)\n",
    "    william.softmax_()\n",
    "    string_output = william.text()\n",
    "        \n",
    "    for i in range(1, gen_length - len(input_text)):\n",
    "        last_char = string_output[-1]\n",
    "        william.next_(last_char)\n",
    "        william.softmax_(temperature)\n",
    "        string_output += william.text()\n",
    "    \n",
    "    print(string_output)\n",
    "    \n",
    "    plt.figure(figsize=(12, 9))\n",
    "    plt.subplot(131)\n",
    "    plt.title(\"Input\")\n",
    "    plt.imshow(william.embeded[:130].data.byte().numpy(), cmap=\"Greys_r\", interpolation=\"none\")\n",
    "    plt.subplot(132)\n",
    "    plt.title(\"Output\")\n",
    "    plt.imshow(william.output[:130].data.byte().numpy(), cmap=\"Greys_r\", interpolation=\"none\")\n",
    "    plt.subplot(133)\n",
    "    plt.title(\"Softmax Output\")\n",
    "    plt.imshow(william.softmax[:130].cpu().data.numpy(), cmap=\"Greys_r\", interpolation=\"none\")\n",
    "    plt.show()\n",
    "\n",
    "predict_next(\"Ge Yang:\\n\", 200)"
   ]
  },
  {
   "cell_type": "code",
   "execution_count": 13,
   "metadata": {
    "collapsed": false,
    "scrolled": false
   },
   "outputs": [
    {
     "name": "stdout",
     "output_type": "stream",
     "text": [
      "&XA:A:::XnNH GZN &LCN::\n",
      "&r\n",
      "\n",
      "Ed and sir, the privil the life and such my will,\n",
      "\n",
      "As thou not is the such a dangers and born a deserve\n",
      "\n",
      "The hand with a kind straight the body\n",
      "\n",
      "And she word the track thee to lo is a man the suits\n",
      "\n",
      "The beauting of the children! stay the prison.\n",
      "\n",
      "\n",
      "\n",
      "PROSPERO:\n",
      "\n",
      "Sir, so say and deadly cold and good good cannot three\n",
      "\n",
      "To make my father's begon his graced this hand\n",
      "\n",
      "The dunted this like a man in the talk.\n",
      "\n",
      "\n",
      "\n",
      "PROSPERO:\n",
      "\n",
      "Sir, the court and all the bourself on my love.\n",
      "\n",
      "What sir, that in the comes of this man and lives.\n",
      "\n",
      "\n",
      "\n",
      "MIRANDA:\n",
      "\n",
      "Why, what make thee strease the most father to me a son\n",
      "\n",
      "To see the for the man the both of my thing\n",
      "\n",
      "To compari shall not since the pleasure and ribot:\n",
      "\n",
      "And every married must thee best both this soul;\n",
      "\n",
      "Thou art rest the brother from the presents and boot\n",
      "\n",
      "And the mad of all the sea with him in the content.\n",
      "\n",
      "\n",
      "\n",
      "PROSPERO:\n",
      "\n",
      "I am men must as in the mad to the day,\n",
      "\n",
      "And friends and makes the sing and sir me that come of\n",
      "\n",
      "And married and the father did the life and stand\n",
      "\n",
      "And be the armil on the house of me stay,\n",
      "\n",
      "And she richness of my prides this son of this rest\n",
      "\n",
      "Thou that the married in the words a bears and should\n",
      "\n",
      "And do broad an one but a see in the bodess hear\n",
      "\n",
      "What dished of the villand and propst them the master\n",
      "\n",
      "That with the house of the part and such a prick.\n",
      "\n",
      "\n",
      "\n",
      "PROSPERO:\n",
      "\n",
      "Ay, thou hast doth this hands me of the seas was fare.\n",
      "\n",
      "\n",
      "\n",
      "BIANCA:\n",
      "\n",
      "My lord, and thou art thou best so beany sir.\n",
      "\n",
      "\n",
      "\n",
      "MIRANDA:\n",
      "\n",
      "No mone not the comfort and frow it is thee.\n",
      "\n",
      "\n",
      "\n",
      "MIRANDA:\n",
      "\n",
      "Sir, therefore cries a saint of my prove and before\n",
      "\n",
      "When the bear me and down of the good of my dishow\n",
      "\n",
      "With such a daughter care and franlicion.\n",
      "\n",
      "\n",
      "\n",
      "PROSPERO:\n",
      "\n",
      "She more not for him that that thou art a son and head.\n",
      "\n",
      "\n",
      "\n",
      "PETRUCHIO:\n",
      "\n",
      "And there is a crowns that serve a rest thing of his\n",
      "\n",
      "That the prison, but in a part a thing and dear\n",
      "\n",
      "That he word that the sines thee the father's grave\n",
      "\n",
      "To married the mind that the great to me to a heart\n",
      "\n",
      "And we will not prove a\n"
     ]
    },
    {
     "data": {
      "image/png": "[encoded data removed]",
      "text/plain": [
       "<matplotlib.figure.Figure at 0x7f30236a1828>"
      ]
     },
     "metadata": {
      "image/png": {
       "height": 48.0,
       "width": 717.0
      }
     },
     "output_type": "display_data"
    }
   ],
   "source": [
    "text_input = widgets.Text()\n",
    "display(text_input)\n",
    "\n",
    "def handle_submit(sender):\n",
    "    #print(text_input.value)\n",
    "    predict_next(text_input.value, 2000, temperature=0.5)\n",
    "    \n",
    "text_input.on_submit(handle_submit)"
   ]
  },
  {
   "cell_type": "markdown",
   "metadata": {
    "collapsed": true
   },
   "source": [
    "The prediction is okay...😅"
   ]
  },
  {
   "cell_type": "code",
   "execution_count": null,
   "metadata": {
    "collapsed": true
   },
   "outputs": [],
   "source": [
    ""
   ]
  },
  {
   "cell_type": "code",
   "execution_count": null,
   "metadata": {
    "collapsed": true
   },
   "outputs": [],
   "source": [
    ""
   ]
  }
 ],
 "metadata": {
  "anaconda-cloud": {},
  "kernelspec": {
   "display_name": "deep-learning-python3",
   "language": "python",
   "name": "deep-learning"
  },
  "language_info": {
   "codemirror_mode": {
    "name": "ipython",
    "version": 3.0
   },
   "file_extension": ".py",
   "mimetype": "text/x-python",
   "name": "python",
   "nbconvert_exporter": "python",
   "pygments_lexer": "ipython3",
   "version": "3.6.0"
  },
  "widgets": {
   "state": {
    "17298efebe594dc1b94fb6ba924f3c4b": {
     "views": [
      {
       "cell_index": 9.0
      }
     ]
    },
    "7e82dbc7be6b4d6a824f1c93e8f5826e": {
     "views": [
      {
       "cell_index": 10.0
      }
     ]
    }
   },
   "version": "1.2.0"
  }
 },
 "nbformat": 4,
 "nbformat_minor": 0
}