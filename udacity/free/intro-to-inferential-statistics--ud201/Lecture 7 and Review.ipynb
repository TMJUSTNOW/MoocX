{
 "cells": [
  {
   "cell_type": "markdown",
   "metadata": {},
   "source": [
    "## Notes and Codes "
   ]
  },
  {
   "cell_type": "code",
   "execution_count": 1,
   "metadata": {
    "collapsed": true
   },
   "outputs": [],
   "source": [
    "# Import Necessary Libraries \n",
    "\n",
    "import math\n",
    "import pandas as pd \n",
    "import scipy.stats as st  # for satistical operations"
   ]
  },
  {
   "cell_type": "markdown",
   "metadata": {},
   "source": [
    "### Loading the Data "
   ]
  },
  {
   "cell_type": "code",
   "execution_count": 2,
   "metadata": {
    "collapsed": false
   },
   "outputs": [],
   "source": [
    "# Open the Spreadsheet of Kloutscores , \n",
    "# calculate the mean and standard deviation \n",
    "\n",
    "\n",
    "path = \"/Users/ougni/Dropbox/coding/dataSource/kloutScore.csv\" #define the path \n",
    "\n",
    "kscore = pd.read_csv(path)  # loads the data    \n",
    "\n",
    "#looks like there are some problem with importing the csv propery"
   ]
  },
  {
   "cell_type": "markdown",
   "metadata": {},
   "source": [
    "### Description of the Data: \n",
    "\n",
    "Population and Sampling \n",
    "\n",
    "when sampled, the standard deviation changes, new sample std $\\sigma_s = \\sigma_p / \\sqrt(n) $, where $n$ is the sample size . \n",
    "\n",
    "The sampling mean is supposed to be closed to the population mean. \n",
    "\n",
    "Z score:  is defined as  \n",
    "$$z(a) = \\frac{ a - \\bar{x_s} }{\\sigma_s} $$\n"
   ]
  },
  {
   "cell_type": "markdown",
   "metadata": {},
   "source": []
  },
  {
   "cell_type": "markdown",
   "metadata": {},
   "source": [
    "### Defining the Parameters \n",
    "\n",
    "N =  population size \n",
    "\n",
    "mu = population mean ($\\mu$)\n",
    "\n",
    "sd=  Standard Deviation ($\\sigma$)"
   ]
  },
  {
   "cell_type": "markdown",
   "metadata": {},
   "source": [
    "### Now Working Them Out "
   ]
  },
  {
   "cell_type": "code",
   "execution_count": 22,
   "metadata": {
    "collapsed": false
   },
   "outputs": [
    {
     "name": "stdout",
     "output_type": "stream",
     "text": [
      "25.10417915    37.731103\n",
      "dtype: float64 25.10417915    16.047238\n",
      "dtype: float64\n"
     ]
    }
   ],
   "source": [
    "N = len(kscore)    # Population Size \n",
    "mu = kscore.mean() # Population mean \n",
    "sdp = kscore.std() #Population standard Deviation\n",
    "\n",
    "print mu, sdp\n",
    "\n",
    "sdp = 16.04 # Due to some problems, I hardcoded it - will resolve later \n",
    "mu= 37.73 \n"
   ]
  },
  {
   "cell_type": "markdown",
   "metadata": {},
   "source": [
    "## Problem: \n",
    "###Take a sample of $n=35$ from the population, and find out the Z-score for a sample mean of $x_s = 40$ \n",
    "\n",
    "For reference, z-scores are defined as:  $$z(x_s) = \\frac{x_s - \\mu_p}{\\epsilon_s}  $$ \n",
    "Where, $x_s$ is the sample mean, $\\mu_p$ - population mean and $\\epsilon_s = \\frac{\\sigma_p}{\\sqrt{n}}$ - sampling error"
   ]
  },
  {
   "cell_type": "code",
   "execution_count": 27,
   "metadata": {
    "collapsed": false,
    "scrolled": true
   },
   "outputs": [
    {
     "name": "stdout",
     "output_type": "stream",
     "text": [
      "0.837250692496\n"
     ]
    }
   ],
   "source": [
    "n= 35  #sample size\n",
    "x = 40 #sample mean \n",
    "se = sdp/math.sqrt(n)\n",
    "z = (x - mu)/se\n",
    "\n",
    "print z"
   ]
  },
  {
   "cell_type": "markdown",
   "metadata": {},
   "source": [
    "## What is the probability of a randomly chosen instance having mean of at least 40 \n",
    "### this is essentially asking the the correspondign p-value "
   ]
  },
  {
   "cell_type": "code",
   "execution_count": 14,
   "metadata": {
    "collapsed": false
   },
   "outputs": [
    {
     "name": "stdout",
     "output_type": "stream",
     "text": [
      "0.20045419326\n"
     ]
    }
   ],
   "source": [
    "import scipy.stats as st \n",
    "\n",
    "z = .84\n",
    "\n",
    "pval = 1 - st.norm.cdf(z)  # this computes p value, essential estimating area to the right of z =.84\n",
    "\n",
    "# to compute z-score from p, use : st.norm.ppf(p-value)\n",
    "\n",
    "print pval"
   ]
  },
  {
   "cell_type": "markdown",
   "metadata": {},
   "source": [
    "For a new situation where n = 250 , Compute stadard error. Standard error is defined as: $$ \\frac{\\sigma_p}{\\sqrt{n}}  $$\n"
   ]
  },
  {
   "cell_type": "code",
   "execution_count": 6,
   "metadata": {
    "collapsed": false
   },
   "outputs": [
    {
     "name": "stdout",
     "output_type": "stream",
     "text": [
      "standard errror:  1.01445867338\n",
      "z-score:  2.24750407269\n",
      "p-value for x>= 40 : 0.0123039152962\n"
     ]
    }
   ],
   "source": [
    "# Standard Error \n",
    "import math\n",
    "\n",
    "se = 16.04/math.sqrt(250) \n",
    "print \"standard errror: \", se\n",
    "\n",
    "#Now compute the new Z score \n",
    "\n",
    "x = 37.72\n",
    "a = 40\n",
    "z = (a - x)/se \n",
    "print \"z-score: \", z \n",
    "\n",
    "#new p value: \n",
    "print 'p-value for x>= 40 :',  (1- st.norm.cdf(z))"
   ]
  },
  {
   "cell_type": "code",
   "execution_count": null,
   "metadata": {
    "collapsed": true
   },
   "outputs": [],
   "source": []
  }
 ],
 "metadata": {
  "kernelspec": {
   "display_name": "Python 2",
   "language": "python",
   "name": "python2"
  },
  "language_info": {
   "codemirror_mode": {
    "name": "ipython",
    "version": 2
   },
   "file_extension": ".py",
   "mimetype": "text/x-python",
   "name": "python",
   "nbconvert_exporter": "python",
   "pygments_lexer": "ipython2",
   "version": "2.7.9"
  }
 },
 "nbformat": 4,
 "nbformat_minor": 0
}
