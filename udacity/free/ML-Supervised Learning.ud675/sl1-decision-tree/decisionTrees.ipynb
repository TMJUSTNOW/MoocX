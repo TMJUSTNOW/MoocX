{
 "cells": [
  {
   "cell_type": "markdown",
   "metadata": {},
   "source": [
    "## Decision Trees "
   ]
  },
  {
   "cell_type": "markdown",
   "metadata": {},
   "source": [
    "** Difference bettween Classification and Regression **\n",
    "\n",
    "Supervised Learning Examples:\n",
    "    - Classification\n",
    "    - Regression\n",
    "\n",
    "Classification: Taking an _observation_(x) and mapping(via discrete function) it to a _label_(y)\n",
    "\n",
    "Regression: More about continuous valued function. (Mapping from input space to Real numbers)"
   ]
  },
  {
   "cell_type": "markdown",
   "metadata": {},
   "source": [
    "** Classification Learning **\n",
    "\n",
    "Key Terms: \n",
    "    - Instances(Set of Inputs) \n",
    "    - Concept (Function that maps Instances to Outputs) \n",
    "    - Target Concept (Answer or the thing that we are trying to find)\n",
    "    - Hypothesis Class (Set of all(or appropirate no.) concepts/functions that we are willing to entertain)\n",
    "    - Sample (Training Set, set of all Instances(Input) along with respective Outputs)\n",
    "    - Candidate (Concept that might be the Target Concept)\n",
    "    - Testing Set ( Looks just like Sample, on which we apply Candidate concept to see if its right) \n",
    "    \n",
    "    \n",
    "Testing Set and Training Set should not be the same. Or else the model wont be able to Generalize(no learning), it will be an example of overfitting. "
   ]
  },
  {
   "cell_type": "markdown",
   "metadata": {},
   "source": [
    "** Example 1: Dating **\n",
    "\n",
    "Say youre on a date, going to a restaurant. Should you decide to enter a restaurant or not ?\n",
    "\n",
    "Inputs: Features of a Restaurant [ _Type_: Italian, French, Thai etc. , _Atomosphere_: Fancy, Casual etc. _Occupied_: Yes/NO , Cost: Cheap, Expensive etc.  ]  \n",
    "_Notice_: Some features are related to the restaurant and some might not be relevant but they could all be important\n"
   ]
  },
  {
   "cell_type": "markdown",
   "metadata": {},
   "source": [
    "** Decision Trees ** \n",
    "\n",
    "Respresentation VS Algorithms  \n",
    "\n",
    "      0\n",
    "     / \\\n",
    "    0   0\n",
    "So at every node , a decision is made. We are asking a series of question and work down a tree and ultimately come up with a Yes NO decision. Following is a Demonstration of the Decision Tree Classifier: \n",
    "\n",
    "<img src = 'dtree.png' > "
   ]
  },
  {
   "cell_type": "markdown",
   "metadata": {},
   "source": [
    "** 20 Question Demonstration ** \n",
    "\n",
    "1. Animal ? Yes \n",
    "2. Person ? Yes \n",
    "3. Famous ? Yes \n",
    "4. Know Personally ? NO\n",
    "5. Living ? NO \n",
    "6. MUSIC ?  Yes\n",
    "7. 20th Century ? - Yes \n",
    "8. Rap ? NO \n",
    "9. Female ? NO \n",
    "10. Recent Death ? Yes \n",
    "11. MIchael Jackson ? Yes \n",
    "\n",
    "to summarize the above example, this is what we did in terms of algorithm: \n",
    "\n",
    "1. Pick the best Attribute (Best > Splits the Data in 2) \n",
    "2. Asked Question \n",
    "3. Follow the Answer path \n",
    "4. Go to 1 , until you get an answer \n"
   ]
  },
  {
   "cell_type": "markdown",
   "metadata": {},
   "source": [
    "** Representating a boolen function(AND) as a tree ** \n",
    "<img src= 'dtbool.png'>\n",
    "\n",
    "Lets pick another boolen funciton, this time `OR` :\n",
    "<img src='dtor.png' > \n",
    "\n",
    "Represent `XOR` , exclusive `OR` : \n",
    "<img src= 'dtxor.png'>\n",
    "\n",
    "\n",
    "**Generalization of OR and XOR ** \n",
    "<img src= 'dtn.png'>\n",
    "\n"
   ]
  },
  {
   "cell_type": "markdown",
   "metadata": {},
   "source": [
    "`XOR` is Hard because it makes us check every node. \n",
    "\n",
    "1. n attirbutes (boolean) \n",
    "2. How many trees are possible ?\n",
    "3. Output is boolean \n"
   ]
  },
  {
   "cell_type": "markdown",
   "metadata": {
    "collapsed": true
   },
   "source": [
    "**ID3 Algorithm** \n",
    "\n",
    "Loop: \n",
    "    1. Pick Best attirbute -> A \n",
    "    2. "
   ]
  }
 ],
 "metadata": {
  "kernelspec": {
   "display_name": "Python 2",
   "language": "python",
   "name": "python2"
  },
  "language_info": {
   "codemirror_mode": {
    "name": "ipython",
    "version": 2
   },
   "file_extension": ".py",
   "mimetype": "text/x-python",
   "name": "python",
   "nbconvert_exporter": "python",
   "pygments_lexer": "ipython2",
   "version": "2.7.9"
  }
 },
 "nbformat": 4,
 "nbformat_minor": 0
}
