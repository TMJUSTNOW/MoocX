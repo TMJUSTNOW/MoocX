{
 "cells": [
  {
   "cell_type": "markdown",
   "metadata": {},
   "source": [
    "## Supervised Learning(SL)\n",
    "\n",
    "- Supervised learning is an INDUCTIVE process \n",
    "- SL is function approximation\n",
    "- Has bias \n",
    "\n",
    "## Unsupervised Learning(UL)\n",
    "- UL is about description or Summary \n",
    "- \n",
    "\n",
    "Unsupervised learning can be useful for Supervised Learning \n",
    "\n",
    "## Reinforcement Learning \n",
    "- Learning from Delayed Reward\n",
    "- Like playing a game only knowing the results but not the way how to play\n",
    "\n",
    "\n",
    "\n",
    "All these learning can be thought of as an Optimization problem\n",
    "- SL tries to find _functions_ that - labels data well\n",
    "- RL tries to find  _behaviors_ that - scores well\n",
    "- UL tries to find the _clusters_ - scores well \n",
    " "
   ]
  }
 ],
 "metadata": {
  "kernelspec": {
   "display_name": "Python 2",
   "language": "python",
   "name": "python2"
  },
  "language_info": {
   "codemirror_mode": {
    "name": "ipython",
    "version": 2
   },
   "file_extension": ".py",
   "mimetype": "text/x-python",
   "name": "python",
   "nbconvert_exporter": "python",
   "pygments_lexer": "ipython2",
   "version": "2.7.9"
  }
 },
 "nbformat": 4,
 "nbformat_minor": 0
}
