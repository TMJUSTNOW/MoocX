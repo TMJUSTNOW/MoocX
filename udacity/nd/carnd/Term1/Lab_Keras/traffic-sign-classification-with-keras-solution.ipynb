{
 "cells": [
  {
   "cell_type": "markdown",
   "metadata": {},
   "source": [
    "# Traffic Sign Classification with Keras\n",
    "\n",
    "Keras exists to make coding deep neural networks simpler. To demonstrate just how easy it is, you’re going to use Keras to build a convolutional neural network in a few dozen lines of code.\n",
    "\n",
    "You’ll be connecting the concepts from the previous lessons to the methods that Keras provides."
   ]
  },
  {
   "cell_type": "markdown",
   "metadata": {},
   "source": [
    "## Dataset\n",
    "\n",
    "The network you'll build with Keras is similar to the example that you can find in Keras’s GitHub repository that builds out a [convolutional neural network for MNIST](https://github.com/fchollet/keras/blob/master/examples/mnist_cnn.py). \n",
    "\n",
    "However, instead of using the [MNIST](http://yann.lecun.com/exdb/mnist/) dataset, you're going to use the [German Traffic Sign Recognition Benchmark](http://benchmark.ini.rub.de/?section=gtsrb&subsection=news) dataset that you've used previously.\n",
    "\n",
    "You can download pickle files with sanitized traffic sign data here."
   ]
  },
  {
   "cell_type": "markdown",
   "metadata": {},
   "source": [
    "## Overview\n",
    "\n",
    "Here are the steps you'll take to build the network:\n",
    "\n",
    "1. First load the training data and do a train/validation split.\n",
    "2. Preprocess data.\n",
    "3. Build a feedforward neural network to classify traffic signs.\n",
    "4. Build a convolutional neural network to classify traffic signs.\n",
    "5. Evaluate performance of final neural network on testing data.\n",
    "\n",
    "Keep an eye on the network’s accuracy over time. Once the accuracy reaches the 98% range, you can be confident that you’ve built and trained an effective model."
   ]
  },
  {
   "cell_type": "code",
   "execution_count": 1,
   "metadata": {
    "collapsed": false
   },
   "outputs": [],
   "source": [
    "import pickle\n",
    "import numpy as np\n",
    "from sklearn.model_selection import train_test_split\n",
    "import math"
   ]
  },
  {
   "cell_type": "markdown",
   "metadata": {},
   "source": [
    "## Load the Data\n",
    "\n",
    "Start by importing the data from the pickle file."
   ]
  },
  {
   "cell_type": "code",
   "execution_count": 2,
   "metadata": {
    "collapsed": false
   },
   "outputs": [],
   "source": [
    "# TODO: Implement load the data here.\n",
    "with open('train.p', 'rb') as f:\n",
    "    data = pickle.load(f)"
   ]
  },
  {
   "cell_type": "markdown",
   "metadata": {},
   "source": [
    "## Validate the Network\n",
    "Split the training data into a training and validation set.\n",
    "\n",
    "Measure the [validation accuracy](https://keras.io/models/sequential/) of the network after two training epochs.\n",
    "\n",
    "Hint: [Use the `train_test_split()` method](http://scikit-learn.org/stable/modules/generated/sklearn.model_selection.train_test_split.html) from scikit-learn."
   ]
  },
  {
   "cell_type": "code",
   "execution_count": 3,
   "metadata": {
    "collapsed": true
   },
   "outputs": [],
   "source": [
    "# TODO: Use `train_test_split` here.\n",
    "X_train, X_val, y_train, y_val = train_test_split(data['features'], data['labels'], random_state=0, test_size=0.33)\n"
   ]
  },
  {
   "cell_type": "code",
   "execution_count": 4,
   "metadata": {
    "collapsed": true
   },
   "outputs": [],
   "source": [
    "# STOP: Do not change the tests below. Your implementation should pass these tests. \n",
    "assert(X_train.shape[0] == y_train.shape[0]), \"The number of images is not equal to the number of labels.\"\n",
    "assert(X_train.shape[1:] == (32,32,3)), \"The dimensions of the images are not 32 x 32 x 3.\"\n",
    "assert(X_val.shape[0] == y_val.shape[0]), \"The number of images is not equal to the number of labels.\"\n",
    "assert(X_val.shape[1:] == (32,32,3)), \"The dimensions of the images are not 32 x 32 x 3.\""
   ]
  },
  {
   "cell_type": "markdown",
   "metadata": {},
   "source": [
    "## Preprocess the Data\n",
    "\n",
    "Now that you've loaded the training data, preprocess the data such that it's in the range between -0.5 and 0.5."
   ]
  },
  {
   "cell_type": "code",
   "execution_count": 5,
   "metadata": {
    "collapsed": false
   },
   "outputs": [],
   "source": [
    "# TODO: Implement data normalization here.\n",
    "X_train = X_train.astype('float32')\n",
    "X_val = X_val.astype('float32')\n",
    "X_train = X_train / 255 - 0.5\n",
    "X_val = X_val / 255 - 0.5"
   ]
  },
  {
   "cell_type": "code",
   "execution_count": 6,
   "metadata": {
    "collapsed": false
   },
   "outputs": [],
   "source": [
    "# STOP: Do not change the tests below. Your implementation should pass these tests. \n",
    "assert(math.isclose(np.min(X_train), -0.5, abs_tol=1e-5) and math.isclose(np.max(X_train), 0.5, abs_tol=1e-5)), \"The range of the training data is: %.1f to %.1f\" % (np.min(X_train), np.max(X_train))\n",
    "assert(math.isclose(np.min(X_val), -0.5, abs_tol=1e-5) and math.isclose(np.max(X_val), 0.5, abs_tol=1e-5)), \"The range of the validation data is: %.1f to %.1f\" % (np.min(X_val), np.max(X_val))"
   ]
  },
  {
   "cell_type": "markdown",
   "metadata": {},
   "source": [
    "## Build a Two-Layer Feedfoward Network\n",
    "\n",
    "The code you've written so far is for data processing, not specific to Keras. Here you're going to build Keras-specific code.\n",
    "\n",
    "Build a two-layer feedforward neural network, with 128 neurons in the fully-connected hidden layer. \n",
    "\n",
    "To get started, review the Keras documentation about [models](https://keras.io/models/sequential/) and [layers](https://keras.io/layers/core/).\n",
    "\n",
    "The Keras example of a [Multi-Layer Perceptron](https://github.com/fchollet/keras/blob/master/examples/mnist_mlp.py) network is similar to what you need to do here. Use that as a guide, but keep in mind that there are a number of differences."
   ]
  },
  {
   "cell_type": "code",
   "execution_count": 7,
   "metadata": {
    "collapsed": false
   },
   "outputs": [
    {
     "name": "stderr",
     "output_type": "stream",
     "text": [
      "Using TensorFlow backend.\n"
     ]
    }
   ],
   "source": [
    "# TODO: Build a two-layer feedforward neural network with Keras here.\n",
    "from keras.models import Sequential\n",
    "from keras.layers import Dense, Input, Activation\n",
    "\n",
    "model = Sequential()\n",
    "model.add(Dense(128, activation='relu', input_shape=(32*32*3,)))\n",
    "model.add(Dense(43, activation='softmax'))"
   ]
  },
  {
   "cell_type": "code",
   "execution_count": 8,
   "metadata": {
    "collapsed": true
   },
   "outputs": [],
   "source": [
    "# STOP: Do not change the tests below. Your implementation should pass these tests.\n",
    "dense_layers = []\n",
    "for l in model.layers:\n",
    "    if type(l) == Dense:\n",
    "        dense_layers.append(l)\n",
    "assert(len(dense_layers) == 2), \"There should be 2 Dense layers.\"\n",
    "d1 = dense_layers[0]\n",
    "d2 = dense_layers[1]\n",
    "assert(d1.input_shape == (None, 3072))\n",
    "assert(d1.output_shape == (None, 128))\n",
    "assert(d2.input_shape == (None, 128))\n",
    "assert(d2.output_shape == (None, 43))\n",
    "\n",
    "last_layer = model.layers[-1]\n",
    "assert(last_layer.activation.__name__ == 'softmax'), \"Last layer should be softmax activation, is {}.\".format(last_layer.activation.__name__)"
   ]
  },
  {
   "cell_type": "code",
   "execution_count": 9,
   "metadata": {
    "collapsed": false
   },
   "outputs": [
    {
     "name": "stdout",
     "output_type": "stream",
     "text": [
      "dense_1 (None, 3072) (None, 128) <function relu at 0x7f2029c916a8>\n",
      "dense_2 (None, 128) (None, 43) <function softmax at 0x7f2029c91488>\n"
     ]
    }
   ],
   "source": [
    "# Debugging\n",
    "for l in model.layers:\n",
    "    print(l.name, l.input_shape, l.output_shape, l.activation)"
   ]
  },
  {
   "cell_type": "markdown",
   "metadata": {},
   "source": [
    "## Train the Network\n",
    "Compile and train the network for 2 epochs. [Use the `adam` optimizer, with `categorical_crossentropy` loss.](https://keras.io/models/sequential/)\n",
    "\n",
    "Hint 1: In order to use categorical cross entropy, you will need to [one-hot encode the labels](https://github.com/fchollet/keras/blob/master/keras/utils/np_utils.py).\n",
    "\n",
    "Hint 2: In order to pass the input images to the fully-connected hidden layer, you will need to [reshape the input](https://github.com/fchollet/keras/blob/master/examples/mnist_mlp.py).\n",
    "\n",
    "Hint 3: Keras's `.fit()` method returns a `History.history` object, which the tests below use. Save that to a variable named `history`."
   ]
  },
  {
   "cell_type": "code",
   "execution_count": 10,
   "metadata": {
    "collapsed": false
   },
   "outputs": [
    {
     "name": "stdout",
     "output_type": "stream",
     "text": [
      "____________________________________________________________________________________________________\n",
      "Layer (type)                     Output Shape          Param #     Connected to                     \n",
      "====================================================================================================\n",
      "dense_1 (Dense)                  (None, 128)           393344      dense_input_1[0][0]              \n",
      "____________________________________________________________________________________________________\n",
      "dense_2 (Dense)                  (None, 43)            5547        dense_1[0][0]                    \n",
      "====================================================================================================\n",
      "Total params: 398,891\n",
      "Trainable params: 398,891\n",
      "Non-trainable params: 0\n",
      "____________________________________________________________________________________________________\n",
      "Train on 26270 samples, validate on 12939 samples\n",
      "Epoch 1/20\n",
      "26270/26270 [==============================] - 8s - loss: 1.9273 - acc: 0.5002 - val_loss: 1.1653 - val_acc: 0.7087\n",
      "Epoch 2/20\n",
      "26270/26270 [==============================] - 8s - loss: 0.9642 - acc: 0.7447 - val_loss: 0.8365 - val_acc: 0.7827\n",
      "Epoch 3/20\n",
      "26270/26270 [==============================] - 8s - loss: 0.6885 - acc: 0.8221 - val_loss: 0.6581 - val_acc: 0.8190\n",
      "Epoch 4/20\n",
      "26270/26270 [==============================] - 9s - loss: 0.5212 - acc: 0.8686 - val_loss: 0.5545 - val_acc: 0.8440\n",
      "Epoch 5/20\n",
      "26270/26270 [==============================] - 7s - loss: 0.4495 - acc: 0.8850 - val_loss: 0.4809 - val_acc: 0.8603\n",
      "Epoch 6/20\n",
      "26270/26270 [==============================] - 8s - loss: 0.3973 - acc: 0.8968 - val_loss: 0.4350 - val_acc: 0.8855\n",
      "Epoch 7/20\n",
      "26270/26270 [==============================] - 9s - loss: 0.3530 - acc: 0.9080 - val_loss: 0.3782 - val_acc: 0.8964\n",
      "Epoch 8/20\n",
      "26270/26270 [==============================] - 10s - loss: 0.3144 - acc: 0.9183 - val_loss: 0.3353 - val_acc: 0.9203\n",
      "Epoch 9/20\n",
      "26270/26270 [==============================] - 10s - loss: 0.2917 - acc: 0.9255 - val_loss: 0.3668 - val_acc: 0.8996\n",
      "Epoch 10/20\n",
      "26270/26270 [==============================] - 9s - loss: 0.2680 - acc: 0.9313 - val_loss: 0.3129 - val_acc: 0.9187\n",
      "Epoch 11/20\n",
      "26270/26270 [==============================] - 9s - loss: 0.2322 - acc: 0.9418 - val_loss: 0.3219 - val_acc: 0.9100\n",
      "Epoch 12/20\n",
      "26270/26270 [==============================] - 10s - loss: 0.2404 - acc: 0.9376 - val_loss: 0.2692 - val_acc: 0.9304\n",
      "Epoch 13/20\n",
      "26270/26270 [==============================] - 9s - loss: 0.2284 - acc: 0.9406 - val_loss: 0.3133 - val_acc: 0.9083\n",
      "Epoch 14/20\n",
      "26270/26270 [==============================] - 8s - loss: 0.2127 - acc: 0.9413 - val_loss: 0.3018 - val_acc: 0.9171\n",
      "Epoch 15/20\n",
      "26270/26270 [==============================] - 9s - loss: 0.2045 - acc: 0.9447 - val_loss: 0.2729 - val_acc: 0.9216\n",
      "Epoch 16/20\n",
      "26270/26270 [==============================] - 8s - loss: 0.1791 - acc: 0.9540 - val_loss: 0.2808 - val_acc: 0.9197\n",
      "Epoch 17/20\n",
      "26270/26270 [==============================] - 8s - loss: 0.1826 - acc: 0.9504 - val_loss: 0.3304 - val_acc: 0.9108\n",
      "Epoch 18/20\n",
      "26270/26270 [==============================] - 8s - loss: 0.1671 - acc: 0.9555 - val_loss: 0.2766 - val_acc: 0.9286\n",
      "Epoch 19/20\n",
      "26270/26270 [==============================] - 10s - loss: 0.1627 - acc: 0.9568 - val_loss: 0.2414 - val_acc: 0.9396\n",
      "Epoch 20/20\n",
      "26270/26270 [==============================] - 10s - loss: 0.1530 - acc: 0.9585 - val_loss: 0.3222 - val_acc: 0.9104\n"
     ]
    }
   ],
   "source": [
    "# TODO: Compile and train the model here.\n",
    "from keras.utils import np_utils\n",
    "\n",
    "Y_train = np_utils.to_categorical(y_train, 43)\n",
    "Y_val = np_utils.to_categorical(y_val, 43)\n",
    "\n",
    "X_train_flat = X_train.reshape(-1, 32*32*3)\n",
    "X_val_flat = X_val.reshape(-1, 32*32*3)\n",
    "\n",
    "model.summary()\n",
    "# TODO: Compile and train the model here.\n",
    "model.compile(loss='categorical_crossentropy',\n",
    "              optimizer='adam',\n",
    "              metrics=['accuracy'])\n",
    "history = model.fit(X_train_flat, Y_train,\n",
    "                    batch_size=128, nb_epoch=20,\n",
    "                    verbose=1, validation_data=(X_val_flat, Y_val))"
   ]
  },
  {
   "cell_type": "code",
   "execution_count": 14,
   "metadata": {
    "collapsed": true
   },
   "outputs": [],
   "source": [
    "# STOP: Do not change the tests below. Your implementation should pass these tests.\n",
    "assert(history.history['acc'][-1] > 0.92), \"The training accuracy was: %.3f\" % history.history['acc'][-1]\n",
    "assert(history.history['val_acc'][-1] > 0.9), \"The validation accuracy is: %.3f\" % history.history['val_acc'][-1]"
   ]
  },
  {
   "cell_type": "markdown",
   "metadata": {},
   "source": [
    "**Validation Accuracy**: 91.04%"
   ]
  },
  {
   "cell_type": "markdown",
   "metadata": {},
   "source": [
    "## Congratulations\n",
    "You've built a feedforward neural network in Keras!\n",
    "\n",
    "Don't stop here! Next, you'll add a convolutional layer to drive.py."
   ]
  },
  {
   "cell_type": "markdown",
   "metadata": {},
   "source": [
    "## Convolutions\n",
    "Build a new network, similar to your existing network. Before the hidden layer, add a 3x3 [convolutional layer](https://keras.io/layers/convolutional/#convolution2d) with 32 filters and valid padding.\n",
    "\n",
    "Then compile and train the network.\n",
    "\n",
    "Hint 1: The Keras example of a [convolutional neural network](https://github.com/fchollet/keras/blob/master/examples/mnist_cnn.py) for MNIST would be a good example to review.\n",
    "\n",
    "Hint 2: Now that the first layer of the network is a convolutional layer, you no longer need to reshape the input images before passing them to the network. You might need to reload your training data to recover the original shape.\n",
    "\n",
    "Hint 3: Add a [`Flatten()` layer](https://keras.io/layers/core/#flatten) between the convolutional layer and the fully-connected hidden layer."
   ]
  },
  {
   "cell_type": "code",
   "execution_count": 29,
   "metadata": {
    "collapsed": false
   },
   "outputs": [
    {
     "name": "stdout",
     "output_type": "stream",
     "text": [
      "____________________________________________________________________________________________________\n",
      "Layer (type)                     Output Shape          Param #     Connected to                     \n",
      "====================================================================================================\n",
      "convolution2d_1 (Convolution2D)  (None, 30, 30, 32)    896         convolution2d_input_1[0][0]      \n",
      "____________________________________________________________________________________________________\n",
      "flatten_1 (Flatten)              (None, 28800)         0           convolution2d_1[0][0]            \n",
      "____________________________________________________________________________________________________\n",
      "dense_3 (Dense)                  (None, 128)           3686528     flatten_1[0][0]                  \n",
      "____________________________________________________________________________________________________\n",
      "dense_4 (Dense)                  (None, 43)            5547        dense_3[0][0]                    \n",
      "====================================================================================================\n",
      "Total params: 3692971\n",
      "____________________________________________________________________________________________________\n",
      "Train on 26270 samples, validate on 12939 samples\n",
      "Epoch 1/20\n",
      "26270/26270 [==============================] - 5s - loss: 1.3435 - acc: 0.6522 - val_loss: 0.5345 - val_acc: 0.8627\n",
      "Epoch 2/20\n",
      "26270/26270 [==============================] - 3s - loss: 0.3561 - acc: 0.9125 - val_loss: 0.3037 - val_acc: 0.9226\n",
      "Epoch 3/20\n",
      "26270/26270 [==============================] - 3s - loss: 0.1948 - acc: 0.9541 - val_loss: 0.2532 - val_acc: 0.9311\n",
      "Epoch 4/20\n",
      "26270/26270 [==============================] - 3s - loss: 0.1249 - acc: 0.9725 - val_loss: 0.1859 - val_acc: 0.9587\n",
      "Epoch 5/20\n",
      "26270/26270 [==============================] - 3s - loss: 0.0911 - acc: 0.9792 - val_loss: 0.1565 - val_acc: 0.9627\n",
      "Epoch 6/20\n",
      "26270/26270 [==============================] - 3s - loss: 0.0644 - acc: 0.9853 - val_loss: 0.1651 - val_acc: 0.9598\n",
      "Epoch 7/20\n",
      "26270/26270 [==============================] - 3s - loss: 0.0681 - acc: 0.9845 - val_loss: 0.1271 - val_acc: 0.9721\n",
      "Epoch 8/20\n",
      "26270/26270 [==============================] - 3s - loss: 0.0323 - acc: 0.9947 - val_loss: 0.1243 - val_acc: 0.9733\n",
      "Epoch 9/20\n",
      "26270/26270 [==============================] - 3s - loss: 0.0258 - acc: 0.9956 - val_loss: 0.1521 - val_acc: 0.9662\n",
      "Epoch 10/20\n",
      "26270/26270 [==============================] - 3s - loss: 0.0399 - acc: 0.9904 - val_loss: 0.1298 - val_acc: 0.9717\n",
      "Epoch 11/20\n",
      "26270/26270 [==============================] - 3s - loss: 0.0255 - acc: 0.9942 - val_loss: 0.1740 - val_acc: 0.9634\n",
      "Epoch 12/20\n",
      "26270/26270 [==============================] - 3s - loss: 0.0345 - acc: 0.9917 - val_loss: 0.1518 - val_acc: 0.9692\n",
      "Epoch 13/20\n",
      "26270/26270 [==============================] - 3s - loss: 0.0291 - acc: 0.9934 - val_loss: 0.2082 - val_acc: 0.9584\n",
      "Epoch 14/20\n",
      "26270/26270 [==============================] - 3s - loss: 0.0310 - acc: 0.9920 - val_loss: 0.1356 - val_acc: 0.9723\n",
      "Epoch 15/20\n",
      "26270/26270 [==============================] - 3s - loss: 0.0109 - acc: 0.9979 - val_loss: 0.1135 - val_acc: 0.9791\n",
      "Epoch 16/20\n",
      "26270/26270 [==============================] - 3s - loss: 0.0069 - acc: 0.9991 - val_loss: 0.1114 - val_acc: 0.9792\n",
      "Epoch 17/20\n",
      "26270/26270 [==============================] - 3s - loss: 0.0053 - acc: 0.9994 - val_loss: 0.1171 - val_acc: 0.9791\n",
      "Epoch 18/20\n",
      "26270/26270 [==============================] - 3s - loss: 0.0049 - acc: 0.9994 - val_loss: 0.1196 - val_acc: 0.9787\n",
      "Epoch 19/20\n",
      "26270/26270 [==============================] - 3s - loss: 0.0035 - acc: 0.9998 - val_loss: 0.1200 - val_acc: 0.9791\n",
      "Epoch 20/20\n",
      "26270/26270 [==============================] - 3s - loss: 0.0847 - acc: 0.9783 - val_loss: 0.2675 - val_acc: 0.9437\n"
     ]
    }
   ],
   "source": [
    "# TODO: Re-construct the network and add a convolutional layer before the first fully-connected layer.\n",
    "# NOTE: RELOAD DATA & NORMALIZE BEFORE RUNNING \n",
    "from keras.layers import Conv2D, Flatten\n",
    "\n",
    "Y_train = np_utils.to_categorical(y_train, 43)\n",
    "Y_val = np_utils.to_categorical(y_val, 43)\n",
    "\n",
    "\n",
    "model = Sequential()\n",
    "model.add(Conv2D(32, 3, 3, input_shape=(32, 32, 3), activation='relu'))\n",
    "model.add(Flatten())\n",
    "model.add(Dense(128, activation='relu'))\n",
    "model.add(Dense(43, activation='softmax'))\n",
    "\n",
    "model.summary()\n",
    "# TODO: Compile and train the model here.\n",
    "model.compile(loss='categorical_crossentropy',\n",
    "              optimizer='adam',\n",
    "              metrics=['accuracy'])\n",
    "history = model.fit(X_train, Y_train,\n",
    "                    batch_size=128, nb_epoch=20,\n",
    "                    verbose=1, validation_data=(X_val, Y_val))"
   ]
  },
  {
   "cell_type": "code",
   "execution_count": 31,
   "metadata": {
    "collapsed": false
   },
   "outputs": [],
   "source": [
    "# STOP: Do not change the tests below. Your implementation should pass these tests.\n",
    "assert(history.history['val_acc'][-1] > 0.93), \"The validation accuracy is: %.3f\" % history.history['val_acc'][-1]"
   ]
  },
  {
   "cell_type": "markdown",
   "metadata": {},
   "source": [
    "**Validation Accuracy**: 94.37%"
   ]
  },
  {
   "cell_type": "markdown",
   "metadata": {},
   "source": [
    "## Pooling\n",
    "Re-construct your network and add a 2x2 [pooling layer](https://keras.io/layers/pooling/#maxpooling2d) immediately following your convolutional layer.\n",
    "\n",
    "Then compile and train the network."
   ]
  },
  {
   "cell_type": "code",
   "execution_count": 15,
   "metadata": {
    "collapsed": false
   },
   "outputs": [
    {
     "name": "stdout",
     "output_type": "stream",
     "text": [
      "____________________________________________________________________________________________________\n",
      "Layer (type)                     Output Shape          Param #     Connected to                     \n",
      "====================================================================================================\n",
      "convolution2d_1 (Convolution2D)  (None, 30, 30, 32)    896         convolution2d_input_1[0][0]      \n",
      "____________________________________________________________________________________________________\n",
      "maxpooling2d_1 (MaxPooling2D)    (None, 15, 15, 32)    0           convolution2d_1[0][0]            \n",
      "____________________________________________________________________________________________________\n",
      "activation_1 (Activation)        (None, 15, 15, 32)    0           maxpooling2d_1[0][0]             \n",
      "____________________________________________________________________________________________________\n",
      "flatten_1 (Flatten)              (None, 7200)          0           activation_1[0][0]               \n",
      "____________________________________________________________________________________________________\n",
      "dense_3 (Dense)                  (None, 128)           921728      flatten_1[0][0]                  \n",
      "____________________________________________________________________________________________________\n",
      "dense_4 (Dense)                  (None, 43)            5547        dense_3[0][0]                    \n",
      "====================================================================================================\n",
      "Total params: 928,171\n",
      "Trainable params: 928,171\n",
      "Non-trainable params: 0\n",
      "____________________________________________________________________________________________________\n",
      "Train on 26270 samples, validate on 12939 samples\n",
      "Epoch 1/20\n",
      "26270/26270 [==============================] - 48s - loss: 1.6969 - acc: 0.5629 - val_loss: 0.7095 - val_acc: 0.8276\n",
      "Epoch 2/20\n",
      "26270/26270 [==============================] - 54s - loss: 0.4927 - acc: 0.8810 - val_loss: 0.3533 - val_acc: 0.9194\n",
      "Epoch 3/20\n",
      "26270/26270 [==============================] - 51s - loss: 0.2628 - acc: 0.9411 - val_loss: 0.2275 - val_acc: 0.9482\n",
      "Epoch 4/20\n",
      "26270/26270 [==============================] - 54s - loss: 0.1713 - acc: 0.9619 - val_loss: 0.1957 - val_acc: 0.9549\n",
      "Epoch 5/20\n",
      "26270/26270 [==============================] - 54s - loss: 0.1226 - acc: 0.9754 - val_loss: 0.2067 - val_acc: 0.9461\n",
      "Epoch 6/20\n",
      "26270/26270 [==============================] - 57s - loss: 0.0960 - acc: 0.9803 - val_loss: 0.1500 - val_acc: 0.9661\n",
      "Epoch 7/20\n",
      "26270/26270 [==============================] - 56s - loss: 0.0701 - acc: 0.9864 - val_loss: 0.1389 - val_acc: 0.9672\n",
      "Epoch 8/20\n",
      "26270/26270 [==============================] - 56s - loss: 0.0600 - acc: 0.9888 - val_loss: 0.1166 - val_acc: 0.9747\n",
      "Epoch 9/20\n",
      "26270/26270 [==============================] - 59s - loss: 0.0461 - acc: 0.9908 - val_loss: 0.1316 - val_acc: 0.9695\n",
      "Epoch 10/20\n",
      "26270/26270 [==============================] - 66s - loss: 0.0436 - acc: 0.9911 - val_loss: 0.1122 - val_acc: 0.9763\n",
      "Epoch 11/20\n",
      "26270/26270 [==============================] - 67s - loss: 0.0561 - acc: 0.9860 - val_loss: 0.1146 - val_acc: 0.9746\n",
      "Epoch 12/20\n",
      "26270/26270 [==============================] - 67s - loss: 0.0310 - acc: 0.9938 - val_loss: 0.1032 - val_acc: 0.9784\n",
      "Epoch 13/20\n",
      "26270/26270 [==============================] - 64s - loss: 0.0254 - acc: 0.9959 - val_loss: 0.1016 - val_acc: 0.9791\n",
      "Epoch 14/20\n",
      "26270/26270 [==============================] - 66s - loss: 0.0263 - acc: 0.9943 - val_loss: 0.1034 - val_acc: 0.9783\n",
      "Epoch 15/20\n",
      "26270/26270 [==============================] - 68s - loss: 0.0239 - acc: 0.9951 - val_loss: 0.1391 - val_acc: 0.9702\n",
      "Epoch 16/20\n",
      "26270/26270 [==============================] - 65s - loss: 0.0367 - acc: 0.9912 - val_loss: 0.1547 - val_acc: 0.9676\n",
      "Epoch 17/20\n",
      "26270/26270 [==============================] - 65s - loss: 0.0399 - acc: 0.9894 - val_loss: 0.1084 - val_acc: 0.9787\n",
      "Epoch 18/20\n",
      "26270/26270 [==============================] - 64s - loss: 0.0137 - acc: 0.9976 - val_loss: 0.1016 - val_acc: 0.9808\n",
      "Epoch 19/20\n",
      "26270/26270 [==============================] - 66s - loss: 0.0093 - acc: 0.9989 - val_loss: 0.0953 - val_acc: 0.9825\n",
      "Epoch 20/20\n",
      "26270/26270 [==============================] - 73s - loss: 0.0075 - acc: 0.9992 - val_loss: 0.0997 - val_acc: 0.9816\n"
     ]
    }
   ],
   "source": [
    "# TODO: Re-construct the network and add a pooling layer after the convolutional layer.\n",
    "from keras.layers import Conv2D, Flatten, MaxPooling2D, Activation\n",
    "\n",
    "Y_train = np_utils.to_categorical(y_train, 43)\n",
    "Y_val = np_utils.to_categorical(y_val, 43)\n",
    "\n",
    "\n",
    "model = Sequential()\n",
    "model.add(Conv2D(32, 3, 3, input_shape=(32, 32, 3)))\n",
    "model.add(MaxPooling2D((2,2)))\n",
    "model.add(Activation('relu'))\n",
    "model.add(Flatten())\n",
    "model.add(Dense(128, activation='relu'))\n",
    "model.add(Dense(43, activation='softmax'))\n",
    "\n",
    "model.summary()\n",
    "# TODO: Compile and train the model here.\n",
    "model.compile(loss='categorical_crossentropy',\n",
    "              optimizer='adam',\n",
    "              metrics=['accuracy'])\n",
    "history = model.fit(X_train, Y_train,\n",
    "                    batch_size=128, nb_epoch=20,\n",
    "                    verbose=1, validation_data=(X_val, Y_val))"
   ]
  },
  {
   "cell_type": "code",
   "execution_count": 33,
   "metadata": {
    "collapsed": true
   },
   "outputs": [],
   "source": [
    "# STOP: Do not change the tests below. Your implementation should pass these tests.\n",
    "assert(history.history['val_acc'][-1] > 0.93), \"The validation accuracy is: %.3f\" % history.history['val_acc'][-1]"
   ]
  },
  {
   "cell_type": "markdown",
   "metadata": {},
   "source": [
    "**Validation Accuracy**: 98.16%"
   ]
  },
  {
   "cell_type": "markdown",
   "metadata": {},
   "source": [
    "## Dropout\n",
    "Re-construct your network and add [dropout](https://keras.io/layers/core/#dropout) after the pooling layer. Set the dropout rate to 50%."
   ]
  },
  {
   "cell_type": "code",
   "execution_count": 16,
   "metadata": {
    "collapsed": false
   },
   "outputs": [
    {
     "name": "stdout",
     "output_type": "stream",
     "text": [
      "____________________________________________________________________________________________________\n",
      "Layer (type)                     Output Shape          Param #     Connected to                     \n",
      "====================================================================================================\n",
      "convolution2d_2 (Convolution2D)  (None, 30, 30, 32)    896         convolution2d_input_2[0][0]      \n",
      "____________________________________________________________________________________________________\n",
      "maxpooling2d_2 (MaxPooling2D)    (None, 15, 15, 32)    0           convolution2d_2[0][0]            \n",
      "____________________________________________________________________________________________________\n",
      "dropout_1 (Dropout)              (None, 15, 15, 32)    0           maxpooling2d_2[0][0]             \n",
      "____________________________________________________________________________________________________\n",
      "activation_2 (Activation)        (None, 15, 15, 32)    0           dropout_1[0][0]                  \n",
      "____________________________________________________________________________________________________\n",
      "flatten_2 (Flatten)              (None, 7200)          0           activation_2[0][0]               \n",
      "____________________________________________________________________________________________________\n",
      "dense_5 (Dense)                  (None, 128)           921728      flatten_2[0][0]                  \n",
      "____________________________________________________________________________________________________\n",
      "dense_6 (Dense)                  (None, 43)            5547        dense_5[0][0]                    \n",
      "====================================================================================================\n",
      "Total params: 928,171\n",
      "Trainable params: 928,171\n",
      "Non-trainable params: 0\n",
      "____________________________________________________________________________________________________\n",
      "Train on 26270 samples, validate on 12939 samples\n",
      "Epoch 1/20\n",
      "26270/26270 [==============================] - 68s - loss: 1.7681 - acc: 0.5413 - val_loss: 0.8139 - val_acc: 0.7943\n",
      "Epoch 2/20\n",
      "26270/26270 [==============================] - 66s - loss: 0.6167 - acc: 0.8374 - val_loss: 0.4206 - val_acc: 0.8901\n",
      "Epoch 3/20\n",
      "26270/26270 [==============================] - 68s - loss: 0.3823 - acc: 0.9000 - val_loss: 0.2763 - val_acc: 0.9371\n",
      "Epoch 4/20\n",
      "26270/26270 [==============================] - 70s - loss: 0.2688 - acc: 0.9311 - val_loss: 0.2110 - val_acc: 0.9579\n",
      "Epoch 5/20\n",
      "26270/26270 [==============================] - 83s - loss: 0.2124 - acc: 0.9441 - val_loss: 0.1826 - val_acc: 0.9571\n",
      "Epoch 6/20\n",
      "26270/26270 [==============================] - 83s - loss: 0.1825 - acc: 0.9529 - val_loss: 0.1576 - val_acc: 0.9663\n",
      "Epoch 7/20\n",
      "26270/26270 [==============================] - 93s - loss: 0.1556 - acc: 0.9590 - val_loss: 0.1403 - val_acc: 0.9702\n",
      "Epoch 8/20\n",
      "26270/26270 [==============================] - 88s - loss: 0.1368 - acc: 0.9628 - val_loss: 0.1491 - val_acc: 0.9640\n",
      "Epoch 9/20\n",
      "26270/26270 [==============================] - 91s - loss: 0.1307 - acc: 0.9657 - val_loss: 0.1217 - val_acc: 0.9727\n",
      "Epoch 10/20\n",
      "26270/26270 [==============================] - 86s - loss: 0.1113 - acc: 0.9698 - val_loss: 0.1110 - val_acc: 0.9767\n",
      "Epoch 11/20\n",
      "26270/26270 [==============================] - 87s - loss: 0.0995 - acc: 0.9731 - val_loss: 0.1208 - val_acc: 0.9728\n",
      "Epoch 12/20\n",
      "26270/26270 [==============================] - 89s - loss: 0.1021 - acc: 0.9720 - val_loss: 0.1136 - val_acc: 0.9740\n",
      "Epoch 13/20\n",
      "26270/26270 [==============================] - 84s - loss: 0.0893 - acc: 0.9760 - val_loss: 0.1013 - val_acc: 0.9778\n",
      "Epoch 14/20\n",
      "26270/26270 [==============================] - 85s - loss: 0.0810 - acc: 0.9773 - val_loss: 0.0960 - val_acc: 0.9780\n",
      "Epoch 15/20\n",
      "26270/26270 [==============================] - 87s - loss: 0.0744 - acc: 0.9793 - val_loss: 0.1119 - val_acc: 0.9739\n",
      "Epoch 16/20\n",
      "26270/26270 [==============================] - 84s - loss: 0.0757 - acc: 0.9790 - val_loss: 0.0947 - val_acc: 0.9801\n",
      "Epoch 17/20\n",
      "26270/26270 [==============================] - 69s - loss: 0.0696 - acc: 0.9812 - val_loss: 0.0951 - val_acc: 0.9794\n",
      "Epoch 18/20\n",
      "26270/26270 [==============================] - 74s - loss: 0.0659 - acc: 0.9825 - val_loss: 0.0897 - val_acc: 0.9810\n",
      "Epoch 19/20\n",
      "26270/26270 [==============================] - 90s - loss: 0.0595 - acc: 0.9826 - val_loss: 0.0767 - val_acc: 0.9861\n",
      "Epoch 20/20\n",
      "26270/26270 [==============================] - 90s - loss: 0.0527 - acc: 0.9848 - val_loss: 0.0883 - val_acc: 0.9814\n"
     ]
    }
   ],
   "source": [
    "# TODO: Re-construct the network and add dropout after the pooling layer.\n",
    "from keras.layers import Dropout\n",
    "\n",
    "model = Sequential()\n",
    "model.add(Conv2D(32, 3, 3, input_shape=(32, 32, 3)))\n",
    "model.add(MaxPooling2D((2,2)))\n",
    "model.add((Dropout(0.5)))\n",
    "model.add(Activation('relu'))\n",
    "model.add(Flatten())\n",
    "model.add(Dense(128, activation='relu'))\n",
    "model.add(Dense(43, activation='softmax'))\n",
    "\n",
    "model.summary()\n",
    "# TODO: Compile and train the model here.\n",
    "model.compile(loss='categorical_crossentropy',\n",
    "              optimizer='adam',\n",
    "              metrics=['accuracy'])\n",
    "history = model.fit(X_train, Y_train,\n",
    "                    batch_size=128, nb_epoch=20,\n",
    "                    verbose=1, validation_data=(X_val, Y_val))"
   ]
  },
  {
   "cell_type": "code",
   "execution_count": 17,
   "metadata": {
    "collapsed": true
   },
   "outputs": [],
   "source": [
    "# STOP: Do not change the tests below. Your implementation should pass these tests.\n",
    "assert(history.history['val_acc'][-1] > 0.93), \"The validation accuracy is: %.3f\" % history.history['val_acc'][-1]"
   ]
  },
  {
   "cell_type": "markdown",
   "metadata": {
    "collapsed": true
   },
   "source": [
    "**Validation Accuracy**: 98.14%"
   ]
  },
  {
   "cell_type": "markdown",
   "metadata": {},
   "source": [
    "## Optimization\n",
    "Congratulations! You've built a neural network with convolutions, pooling, dropout, and fully-connected layers, all in just a few lines of code.\n",
    "\n",
    "Have fun with the model and see how well you can do! Add more layers, or regularization, or different padding, or batches, or more training epochs.\n",
    "\n",
    "What is the best validation accuracy you can achieve?"
   ]
  },
  {
   "cell_type": "code",
   "execution_count": null,
   "metadata": {
    "collapsed": true
   },
   "outputs": [],
   "source": []
  },
  {
   "cell_type": "markdown",
   "metadata": {},
   "source": [
    "**Best Validation Accuracy:** (fill in here)"
   ]
  },
  {
   "cell_type": "markdown",
   "metadata": {},
   "source": [
    "## Testing\n",
    "Once you've picked out your best model, it's time to test it.\n",
    "\n",
    "Load up the test data and use the [`evaluate()` method](https://keras.io/models/model/#evaluate) to see how well it does.\n",
    "\n",
    "Hint 1: The `evaluate()` method should return an array of numbers. Use the `metrics_names()` method to get the labels."
   ]
  },
  {
   "cell_type": "code",
   "execution_count": 18,
   "metadata": {
    "collapsed": false
   },
   "outputs": [
    {
     "name": "stdout",
     "output_type": "stream",
     "text": [
      "12630/12630 [==============================] - 16s    \n"
     ]
    },
    {
     "data": {
      "text/plain": [
       "[0.44836150381835038, 0.91330166274559277]"
      ]
     },
     "execution_count": 18,
     "metadata": {},
     "output_type": "execute_result"
    }
   ],
   "source": [
    "# TODO: Load test data\n",
    "with open('./test.p', mode='rb') as f:\n",
    "    test = pickle.load(f)\n",
    "    \n",
    "# TODO: Preprocess data & one-hot encode the labels\n",
    "X_test = test['features']\n",
    "y_test = test['labels']\n",
    "X_test = X_test.astype('float32')\n",
    "X_test /= 255\n",
    "X_test -= 0.5\n",
    "Y_test = np_utils.to_categorical(y_test, 43)\n",
    "\n",
    "# TODO: Evaluate model on test data\n",
    "model.evaluate(X_test, Y_test)"
   ]
  },
  {
   "cell_type": "markdown",
   "metadata": {},
   "source": [
    "**Test Accuracy:** 91.33%"
   ]
  },
  {
   "cell_type": "markdown",
   "metadata": {},
   "source": [
    "## Summary\n",
    "Keras is a great tool to use if you want to quickly build a neural network and evaluate performance."
   ]
  }
 ],
 "metadata": {
  "anaconda-cloud": {},
  "kernelspec": {
   "display_name": "Python [default]",
   "language": "python",
   "name": "python3"
  },
  "language_info": {
   "codemirror_mode": {
    "name": "ipython",
    "version": 3
   },
   "file_extension": ".py",
   "mimetype": "text/x-python",
   "name": "python",
   "nbconvert_exporter": "python",
   "pygments_lexer": "ipython3",
   "version": "3.5.2"
  }
 },
 "nbformat": 4,
 "nbformat_minor": 0
}
