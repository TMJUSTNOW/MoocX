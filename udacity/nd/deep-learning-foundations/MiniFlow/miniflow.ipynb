{
 "cells": [
  {
   "cell_type": "markdown",
   "metadata": {},
   "source": [
    "# Miniflow\n",
    "MiniFlow has the makings of becoming a powerful deep learning tool. It is entirely possible to classify something like the [MNIST](http://yann.lecun.com/exdb/mnist/) database with MiniFlow.\n",
    "\n"
   ]
  },
  {
   "cell_type": "markdown",
   "metadata": {
    "collapsed": true
   },
   "source": [
    "## Introduction\n",
    "\n",
    "In this lab, you’ll build a library called MiniFlow which will be your own version of [TensorFlow](http://tensorflow.org/) - a deep learning library. Another deep learning library is [Keras](https://keras.io/).\n",
    "\n",
    "The goal of this lab is to demystify two concepts at the heart of neural networks - **backpropagation and differentiable graphs**.\n",
    "\n",
    "**Backpropagation** is the process by which neural networks update the weights of the network over time. You can see it [here](../../nd/ml/notes/supervised-learning/artificial-neural-networks/artificial-neural-networks.ipynb).\n",
    "\n",
    "**Differentiable graphs** are graphs where the nodes are differentiable functions. They are also useful as visual aids for understanding and calculating complicated derivatives. This is the fundamental abstraction of TensorFlow - it's a framework for creating differentiable graphs.\n",
    "\n",
    "With graphs and backpropagation, you will be able to create your own nodes and properly compute the derivatives. Even more importantly, you will be able to think and reason in terms of these graphs.\n",
    "\n",
    "\n",
    "\n",
    "\n",
    "\n",
    "\n"
   ]
  },
  {
   "cell_type": "markdown",
   "metadata": {},
   "source": [
    "## Graphs\n",
    "What is a Neural Network?\n",
    "![example-neural-network](./images/example-neural-network.png)\n",
    "\n",
    "A neural network is a graph of mathematical functions such as [linear combinations](https://en.wikipedia.org/wiki/Linear_combination) and activation functions. The graph consists of **nodes**, and **edges**.\n",
    "\n",
    "Nodes in each layer (except for nodes in the input layer) perform mathematical functions using inputs from nodes in the previous layers. For example, a node could represent f(x,y)=x+y, where x and y are input values from nodes in the previous layer.\n",
    "\n",
    "Similarly, each node creates an output value which may be passed to nodes in the next layer. The output value from the output layer does not get passed to a future layer (last layer!)\n",
    "\n",
    "Layers between the input layer and the output layer are called **hidden layers**.\n",
    "\n",
    "The edges in the graph describe the connections between the nodes, along which the values flow from one layer to the next. These edges can also apply operations to the values that flow along them, such as multiplying by weights, adding biases, etc.. MiniFlow won't use a special class for edges. Instead, its nodes will perform both their own calculations and those of their input edges. This will be more clear as you go through these lessons.\n",
    "\n",
    "### Forward Propagation\n",
    "\n",
    "By propagating values from the first layer (the input layer) through all the mathematical functions represented by each node, the network outputs a value. This process is called a **forward pass**.\n",
    "\n",
    "### Graphs\n",
    "\n",
    "The nodes and edges create a graph structure. Though the example above is fairly simple, it isn't hard to imagine that increasingly complex graphs can calculate . . . well . . . *almost anything*.\n",
    "\n",
    "There are generally two steps to create neural networks:\n",
    "\n",
    "1. Define the graph of nodes and edges.\n",
    "2. Propagate values through the graph.\n",
    "\n",
    "`MiniFlow` works the same way. You'll define the nodes and edges of your network with one method and then propagate values through the graph with another method. `MiniFlow` comes with some starter code to help you out."
   ]
  },
  {
   "cell_type": "markdown",
   "metadata": {},
   "source": [
    "## Miniflow Architecture\n",
    "Let's consider how to implement this graph structure in `MiniFlow`. We'll use a Python class to represent a generic node.\n",
    "\n",
    "```\n",
    "class Node(object):\n",
    "    def __init__(self):\n",
    "        # Properties will go here!\n",
    "\n",
    "```\n",
    "\n",
    "We know that each node might receive input from multiple other nodes. We also know that each node creates a single output, which will likely be passed to other nodes. Let's add two lists: one to store references to the inbound nodes, and the other to store references to the outbound nodes.\n",
    "\n",
    "```\n",
    "class Node(object):\n",
    "    def __init__(self, inbound_nodes=[]):\n",
    "        # Node(s) from which this Node receives values\n",
    "        self.inbound_nodes = inbound_nodes\n",
    "        # Node(s) to which this Node passes values\n",
    "        self.outbound_nodes = []\n",
    "        # For each inbound Node here, add this Node as an outbound Node to _that_ Node.\n",
    "        for n in self.inbound_nodes:\n",
    "            n.outbound_nodes.append(self)\n",
    "\n",
    "```\n",
    "\n",
    "Each node will eventually calculate a value that represents its output. Let's initialize the `value` to `None` to indicate that it exists but hasn't been set yet.\n",
    "\n",
    "```\n",
    "class Node(object):\n",
    "    def __init__(self, inbound_nodes=[]):\n",
    "        # Node(s) from which this Node receives values\n",
    "        self.inbound_nodes = inbound_nodes\n",
    "        # Node(s) to which this Node passes values\n",
    "        self.outbound_nodes = []\n",
    "        # For each inbound Node here, add this Node as an outbound Node to _that_ Node.\n",
    "        for n in self.inbound_nodes:\n",
    "            n.outbound_nodes.append(self)\n",
    "        # A calculated value\n",
    "        self.value = None\n",
    "\n",
    "```\n",
    "\n",
    "Each node will need to be able to pass values forward and perform backpropagation (more on that later). For now, let's add a placeholder method for forward propagation. We'll deal with backpropagation later on.\n",
    "\n",
    "```\n",
    "class Node(object):\n",
    "    def __init__(self, inbound_nodes=[]):\n",
    "        # Node(s) from which this Node receives values\n",
    "        self.inbound_nodes = inbound_nodes\n",
    "        # Node(s) to which this Node passes values\n",
    "        self.outbound_nodes = []\n",
    "        # For each inbound Node here, add this Node as an outbound Node to _that_ Node.\n",
    "        for n in self.inbound_nodes:\n",
    "            n.outbound_nodes.append(self)\n",
    "        # A calculated value\n",
    "        self.value = None\n",
    "\n",
    "    def forward(self):\n",
    "        \"\"\"\n",
    "        Forward propagation.\n",
    "\n",
    "        Compute the output value based on `inbound_nodes` and\n",
    "        store the result in self.value.\n",
    "        \"\"\"\n",
    "        raise NotImplemented\n",
    "\n",
    "```\n",
    "\n",
    "### Nodes that Calculate\n",
    "\n",
    "While `Node` defines the base set of properties that every node holds, only specialized [subclasses](https://docs.python.org/3/tutorial/classes.html#inheritance) of `Node` will end up in the graph. As part of this lab, you'll build the subclasses of `Node` that can perform calculations and hold values. For example, consider the `Input` subclass of `Node`.\n",
    "\n",
    "```\n",
    "class Input(Node):\n",
    "    def __init__(self):\n",
    "        # An Input node has no inbound nodes,\n",
    "        # so no need to pass anything to the Node instantiator.\n",
    "        Node.__init__(self)\n",
    "\n",
    "    # NOTE: Input node is the only node where the value\n",
    "    # may be passed as an argument to forward().\n",
    "    #\n",
    "    # All other node implementations should get the value\n",
    "    # of the previous node from self.inbound_nodes\n",
    "    #\n",
    "    # Example:\n",
    "    # val0 = self.inbound_nodes[0].value\n",
    "    def forward(self, value=None):\n",
    "        # Overwrite the value if one is passed in.\n",
    "        if value is not None:\n",
    "            self.value = value\n",
    "\n",
    "```\n",
    "\n",
    "Unlike the other subclasses of `Node`, the `Input` subclass does not actually calculate anything. The `Input` subclass just holds a `value`, such as a data feature or a model parameter (weight/bias).\n",
    "\n",
    "You can set `value` either explicitly or with the `forward()` method. This value is then fed through the rest of the neural network.\n",
    "\n",
    "### The Add Subclass\n",
    "\n",
    "`Add`, which is another subclass of `Node`, actually can perform a calculation (addition).\n",
    "\n",
    "```\n",
    "class Add(Node):\n",
    "    def __init__(self, x, y):\n",
    "        Node.__init__(self, [x, y])\n",
    "\n",
    "    def forward(self):\n",
    "        \"\"\"\n",
    "        You'll be writing code here in the next quiz!\n",
    "        \"\"\"\n",
    "\n",
    "```\n",
    "\n",
    "Notice the difference in the `__init__` method, `Add.__init__(self, [x, y])`. Unlike the `Input` class, which has no inbound nodes, the `Add` class takes 2 inbound nodes, `x` and `y`, and adds the values of those nodes.\n",
    "\n",
    "To sum up:\n",
    "```\n",
    "        Node (input - inbound nodes, output - outbound nodes)\n",
    "        /\\\n",
    "       /  \\\n",
    "      /    \\\n",
    "    Input   Add (Input class has no inbound nodes, but Add class has 2 inbound nodes)\n",
    "```\n",
    "\n",
    "  \n"
   ]
  },
  {
   "cell_type": "markdown",
   "metadata": {},
   "source": [
    "## 1 - Forward Propagation\n",
    "`MiniFlow` has two methods to help you define and then run values through your graphs: `topological_sort()` and `forward_pass()`.\n",
    "\n",
    "In order to define your network, you'll need to define the order of operations for your nodes. Given that the input to some node depends on the outputs of others, you need to flatten the graph in such a way where all the input dependencies for each node are resolved before trying to run its calculation. This is a technique called a [topological sort](https://en.wikipedia.org/wiki/Topological_sorting).\n",
    "\n",
    "The `topological_sort()` function implements topological sorting using [Kahn's Algorithm](https://en.wikipedia.org/wiki/Topological_sorting#Kahn.27s_algorithm). The details of this method are not important, the result is; `topological_sort()` returns a sorted list of nodes in which all of the calculations can run in series. `topological_sort()` takes in a `feed_dict`, which is how we initially set a value for an `Input` node. The `feed_dict` is represented by the Python dictionary data structure. Here's an example use case:\n",
    "\n",
    "```\n",
    "# Define 2 `Input` nodes.\n",
    "x, y = Input(), Input()\n",
    "\n",
    "# Define an `Add` node, the two above`Input` nodes being the input.\n",
    "add = Add(x, y)\n",
    "\n",
    "# The value of `x` and `y` will be set to 10 and 20 respectively.\n",
    "feed_dict = {x: 10, y: 20}\n",
    "\n",
    "# Sort the nodes with topological sort.\n",
    "sorted_nodes = topological_sort(feed_dict=feed_dict)\n",
    "\n",
    "```\n",
    "\n",
    "### Setup\n",
    "\n",
    "Review `nn.py` and `miniflow.py`.\n",
    "\n",
    "The neural network architecture is already there for you in nn.py. It's your job to finish `MiniFlow` to make it work.\n",
    "\n",
    "For this quiz, I want you to:\n",
    "\n",
    "1. Open `nn.py` below. **You don't need to change anything.** I just want you to see how `MiniFlow` works.\n",
    "2. Open `miniflow.py`. **Finish the forward method on the Add class. All that's required to pass this quiz is a correct implementation of forward.**\n",
    "3. Test your network by hitting \"Test Run!\" When the output looks right, hit \"Submit!\""
   ]
  },
  {
   "cell_type": "markdown",
   "metadata": {},
   "source": [
    "## Convention for running the code\n",
    "Note that nn.py contains the runner code and Miniflow has the lib. So, please refer the code. Here we will just run the code."
   ]
  },
  {
   "cell_type": "code",
   "execution_count": 13,
   "metadata": {},
   "outputs": [],
   "source": [
    "from forward_propagation.nn import *\n",
    "from forward_propagation.miniflow import *\n"
   ]
  },
  {
   "cell_type": "markdown",
   "metadata": {},
   "source": [
    "## 2 - Learning and Loss\n",
    "Like MiniFlow in its current state, neural networks take inputs and produce outputs. But unlike MiniFlow in its current state, neural networks can improve the accuracy of their outputs over time (it's hard to imagine improving the accuracy of Add over time!). To explore why accuracy matters, I want you to first implement a trickier (and more useful!) node than Add: the Linear node.\n",
    "\n",
    "\n",
    "As described by Charles and Michael, a Neuron calculates the weighted sum of its inputs.\n",
    "\n",
    "Think back to Neural Networks lesson with Charles and Michael. A simple artificial neuron depends on three components:\n",
    "\n",
    "- inputs, *x* (vector)\n",
    "- weights, *w* (vector)\n",
    "- bias, *b* (scalar)\n",
    "\n",
    "The output, *o*, is just the weighted sum of the inputs plus the bias:\n",
    "\n",
    "\n",
    "o =  Σx<sub>i</sub>w<sub>i</sub> + b\n",
    "\n",
    "\n",
    "Equation (1)\n",
    "\n",
    "Remember, by varying the weights, you can vary the amount of influence any given input has on the output. The learning aspect of neural networks takes place during a process known as backpropagation. In backpropogation, the network modifies the weights to improve the network's output accuracy. You'll be applying all of this shortly.\n",
    "\n",
    "In this next quiz, you'll try to build a linear neuron that generates an output by applying a simplified version of Equation (1). `Linear` should take an list of inbound nodes of length *n*, a list of weights of length *n*, and a bias.\n",
    "\n",
    "### Instructions\n",
    "\n",
    "1. Open nn.py below. Read through the neural network to see the expected output of `Linear`.\n",
    "2. Open miniflow.py below. Modify `Linear`, which is a subclass of `Node`, to generate an output with Equation (1).\n"
   ]
  },
  {
   "cell_type": "code",
   "execution_count": null,
   "metadata": {
    "collapsed": true
   },
   "outputs": [],
   "source": []
  },
  {
   "cell_type": "markdown",
   "metadata": {},
   "source": [
    "## 3 - Linear Transform"
   ]
  },
  {
   "cell_type": "markdown",
   "metadata": {},
   "source": [
    "## 4 - Sigmoid Function"
   ]
  },
  {
   "cell_type": "markdown",
   "metadata": {},
   "source": [
    "## 5 - Cost"
   ]
  },
  {
   "cell_type": "markdown",
   "metadata": {},
   "source": [
    "## 6 - Gradient Descent"
   ]
  },
  {
   "cell_type": "markdown",
   "metadata": {},
   "source": [
    "## 7 - Backpropogation"
   ]
  },
  {
   "cell_type": "markdown",
   "metadata": {},
   "source": [
    "## 8 - Stochastic Gradient Descent"
   ]
  },
  {
   "cell_type": "code",
   "execution_count": null,
   "metadata": {
    "collapsed": true
   },
   "outputs": [],
   "source": []
  }
 ],
 "metadata": {
  "kernelspec": {
   "display_name": "Python 3",
   "language": "python",
   "name": "python3"
  },
  "language_info": {
   "codemirror_mode": {
    "name": "ipython",
    "version": 3
   },
   "file_extension": ".py",
   "mimetype": "text/x-python",
   "name": "python",
   "nbconvert_exporter": "python",
   "pygments_lexer": "ipython3",
   "version": "3.5.2"
  },
  "widgets": {
   "state": {},
   "version": "1.1.2"
  }
 },
 "nbformat": 4,
 "nbformat_minor": 2
}
